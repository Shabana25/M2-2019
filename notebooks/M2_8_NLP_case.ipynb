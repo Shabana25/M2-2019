{
  "nbformat": 4,
  "nbformat_minor": 0,
  "metadata": {
    "Rmd_header": {
      "author": "Daniel S. Hain (dsh@business.aau.dk)",
      "date": "Updated `r format(Sys.time(), '%B %d, %Y')`",
      "output": {
        "html_document": {
          "code_folding": "hide",
          "df_print": "paged",
          "theme": "flatly",
          "toc": true,
          "toc_depth": 2,
          "toc_float": {
            "collapsed": false
          }
        }
      },
      "title": "M2-8: Natural Language Processing: Case Studies (R)"
    },
    "kernelspec": {
      "display_name": "R",
      "language": "R",
      "name": "ir"
    },
    "language_info": {
      "codemirror_mode": "r",
      "file_extension": ".r",
      "mimetype": "text/x-r-source",
      "name": "R",
      "pygments_lexer": "r"
    },
    "colab": {
      "name": "M2_8_NLP_case.ipynb",
      "provenance": [],
      "include_colab_link": true
    }
  },
  "cells": [
    {
      "cell_type": "markdown",
      "metadata": {
        "id": "view-in-github",
        "colab_type": "text"
      },
      "source": [
        "<a href=\"https://colab.research.google.com/github/SDS-AAU/M2-2019/blob/master/notebooks/M2_8_NLP_case.ipynb\" target=\"_parent\"><img src=\"https://colab.research.google.com/assets/colab-badge.svg\" alt=\"Open In Colab\"/></a>"
      ]
    },
    {
      "cell_type": "code",
      "metadata": {
        "autoscroll": false,
        "id": "7Y16WcyOOVCJ",
        "colab_type": "code",
        "colab": {}
      },
      "source": [
        "### Install packages if necessary\n",
        "if (!require(\"pacman\")) install.packages(\"pacman\") # package for loading and checking packages :)\n",
        "pacman::p_load(tidyverse, # Standard datasciewnce toolkid (dplyr, ggplot2 et al.)\n",
        "               magrittr, # For advanced piping (%>% et al.)\n",
        "               tidytext, # For text analysis\n",
        "               tm # text mining library\n",
        "               )"
      ],
      "execution_count": 0,
      "outputs": []
    },
    {
      "cell_type": "markdown",
      "metadata": {
        "id": "srp5TZxDOVCM",
        "colab_type": "text"
      },
      "source": [
        "\n",
        "\n",
        "In this session, we will deal with:\n",
        "\n",
        "1. The simple application of simple NLP techniques such as wordcounts and tokenizing\n",
        "2. Application of topic models (LDA, LSA)\n",
        "3. Creating word and document embeddings\n",
        "\n",
        "# Introduction\n",
        "\n",
        "## The R NLP ecosystem\n",
        "\n",
        "Most language analysis approaches are based on the analysis of texts word-by-word. Here, their order might matter (word sequence models) or not (bag-of-words models), but the smallest unit of analysis is usually the word. This is usually done in context of the document the word appeared in. Therefore, on first glance three types datastructures make sense:\n",
        "\n",
        "1. **Tidy:**  Approach, where data is served in a 2-column document-word format (e.g., `tidytext`)\n",
        "2. **Token lists:** Creation of special objects, saved as document-token lists or corpus (e.g., `tm`, `quanteda`)\n",
        "3. **Matrix:** Long approach, where data is served as document-term matrix, term-frequency matrix, etc.\n",
        "\n",
        "Different forms of analysis (and the packages used therefore) favor different structures, so we need to be fluent in transfering original raw-text in these formats, as well as switching between them. (for more infos, check [here](https://www.tidytextmining.com/dtm.html)).\n",
        "\n",
        "![](https://www.dropbox.com/s/ou05c8np4j47r0q/nlp_tidyworkflow.png?dl=1)\n",
        "\n",
        "\n",
        "\n",
        "# Case: DS & ML on twitter\n",
        "\n",
        "## Get some twitter data\n",
        "\n",
        "Why not also use a bit of twitter data. Here, I would recommend the well maintained `rtweet` package\n",
        "\n"
      ]
    },
    {
      "cell_type": "code",
      "metadata": {
        "autoscroll": false,
        "id": "shCkihpHOVCN",
        "colab_type": "code",
        "colab": {}
      },
      "source": [
        "pacman::p_load(rtweet)"
      ],
      "execution_count": 0,
      "outputs": []
    },
    {
      "cell_type": "markdown",
      "metadata": {
        "id": "v0gC6cOZOVCQ",
        "colab_type": "text"
      },
      "source": [
        "\n",
        "To get started you’ll need to do the following things:\n",
        "\n",
        "1. Set up a twitter account if you don’t have one already.\n",
        "2. Using your account, setup an application that you will use to access twitter from R. How to do that, check [here](https://cran.r-project.org/web/packages/rtweet/vignettes/auth.html)\n",
        "\n",
        "When all is done, we can create an access token to use the twitter API. You would create it like that with your own keys:\n",
        "\n"
      ]
    },
    {
      "cell_type": "code",
      "metadata": {
        "autoscroll": false,
        "id": "ITufV_FcOVCR",
        "colab_type": "code",
        "colab": {}
      },
      "source": [
        "# authenticate via access token. Replace by own data\n",
        "token <- create_token(\n",
        "  app = \"appname\",\n",
        "  consumer_key = \"key\",\n",
        "  consumer_secret = \"secret\",\n",
        "  access_token = \"a_token\",\n",
        "  access_secret = \"a_secret\")"
      ],
      "execution_count": 0,
      "outputs": []
    },
    {
      "cell_type": "markdown",
      "metadata": {
        "id": "nzID-WmGOVCT",
        "colab_type": "text"
      },
      "source": [
        "\n",
        "Now we define some terms we would like to search for.\n",
        "\n"
      ]
    },
    {
      "cell_type": "code",
      "metadata": {
        "autoscroll": false,
        "id": "43FA9rlJOVCU",
        "colab_type": "code",
        "colab": {}
      },
      "source": [
        "terms <- c(\"#rstats\", \"#rstudio\", \"#tidyverse\", \"#tidytuesday\", \"#rladies\", \"#ggplot\", \"#tidygraph\", \"#ggraph\",\n",
        "           \"tidytext\", \"quanteda\", \"#spaCy\", \"NLP\", \"#dataviz\", \"machinelearning\")"
      ],
      "execution_count": 0,
      "outputs": []
    },
    {
      "cell_type": "markdown",
      "metadata": {
        "id": "-6BT6xadOVCX",
        "colab_type": "text"
      },
      "source": [
        "\n",
        "And finally, we would send the request to the API. I dont do that now, however.\n",
        "\n"
      ]
    },
    {
      "cell_type": "code",
      "metadata": {
        "autoscroll": false,
        "id": "f4cwZq_HOVCY",
        "colab_type": "code",
        "colab": {}
      },
      "source": [
        "# # Search tweets\n",
        "# rstats_tweets <- search_tweets(q = paste(terms, collapse = \" OR \"),\n",
        "#                                n = 18000,\n",
        "#                                include_rts = FALSE,\n",
        "#                                verbose = TRUE,\n",
        "#                                retryonratelimit = TRUE,\n",
        "#                                lang = \"en\",\n",
        "#                                token = token)"
      ],
      "execution_count": 0,
      "outputs": []
    },
    {
      "cell_type": "markdown",
      "metadata": {
        "id": "YTu_i0xCOVCa",
        "colab_type": "text"
      },
      "source": [
        "\n",
        "## First inspection\n",
        "\n",
        "With the code you see above, i already downloaded rstats, NLP, and ML related tweets of the last days, which we can load now.\n",
        "\n"
      ]
    },
    {
      "cell_type": "code",
      "metadata": {
        "autoscroll": false,
        "id": "sXoMJAlXOVCb",
        "colab_type": "code",
        "colab": {}
      },
      "source": [
        "rm(list=ls())\n",
        "\n",
        "# We wiull use the predownloaded data here now\n",
        "tweets <- readRDS(url(\"https://github.com/SDS-AAU/M2-2019/blob/master/notebooks/data/rstats_tweets_no_rt.rds?raw=true\"))"
      ],
      "execution_count": 0,
      "outputs": []
    },
    {
      "cell_type": "markdown",
      "metadata": {
        "id": "Co8koG21OVCe",
        "colab_type": "text"
      },
      "source": [
        "\n",
        "Lets take a look at the tweets:\n",
        "\n"
      ]
    },
    {
      "cell_type": "code",
      "metadata": {
        "autoscroll": false,
        "id": "9TL_3GDGOVCf",
        "colab_type": "code",
        "colab": {}
      },
      "source": [
        "tweets %>% head()"
      ],
      "execution_count": 0,
      "outputs": []
    },
    {
      "cell_type": "markdown",
      "metadata": {
        "id": "_CbfzFoqOVCi",
        "colab_type": "text"
      },
      "source": [
        "\n",
        "We see that we get quite an amount of information. Notice also that the data is already parsed into a tabular `tibble` format, where multi-item datacells are represented as lists.\n",
        "\n"
      ]
    },
    {
      "cell_type": "code",
      "metadata": {
        "autoscroll": false,
        "id": "UQGfFiTqOVCi",
        "colab_type": "code",
        "colab": {}
      },
      "source": [
        "tweets %>% glimpse()"
      ],
      "execution_count": 0,
      "outputs": []
    },
    {
      "cell_type": "markdown",
      "metadata": {
        "id": "A8CDvZ62OVCl",
        "colab_type": "text"
      },
      "source": [
        "\n",
        "Lets look when people are posting:\n",
        "\n"
      ]
    },
    {
      "cell_type": "code",
      "metadata": {
        "autoscroll": false,
        "id": "l1C8ny2MOVCm",
        "colab_type": "code",
        "colab": {}
      },
      "source": [
        "## plot time series of tweets\n",
        "tweets %>%\n",
        "  ts_plot(\"3 hours\") +\n",
        "  labs(x = NULL, y = NULL,\n",
        "    title = \"Frequency of #rstats (and related) Twitter statuses from past 7 days\",\n",
        "    subtitle = \"Twitter status (tweet) counts aggregated using three-hour intervals\",\n",
        "    caption = \"Source: Data collected from Twitter's REST API via rtweet\"\n",
        "  )"
      ],
      "execution_count": 0,
      "outputs": []
    },
    {
      "cell_type": "markdown",
      "metadata": {
        "id": "4Dgl1QkdOVCp",
        "colab_type": "text"
      },
      "source": [
        "\n",
        "And lets look briefly which are the most active tweeter.\n",
        "\n"
      ]
    },
    {
      "cell_type": "code",
      "metadata": {
        "autoscroll": false,
        "id": "yMhFlLlYOVCq",
        "colab_type": "code",
        "colab": {}
      },
      "source": [
        "tweets %>%\n",
        "  count(screen_name, sort = TRUE) %>%\n",
        "  top_n(20)"
      ],
      "execution_count": 0,
      "outputs": []
    },
    {
      "cell_type": "markdown",
      "metadata": {
        "id": "c0KqxmSsOVCs",
        "colab_type": "text"
      },
      "source": [
        "\n",
        "The tweet-text, which we will be most interested in, can be found in the `text` variable.\n",
        "\n"
      ]
    },
    {
      "cell_type": "code",
      "metadata": {
        "autoscroll": false,
        "id": "SXIcQ99KOVCt",
        "colab_type": "code",
        "colab": {}
      },
      "source": [
        "tweets %>%\n",
        "  select(text) %>%\n",
        "  head()"
      ],
      "execution_count": 0,
      "outputs": []
    },
    {
      "cell_type": "markdown",
      "metadata": {
        "id": "o9t6lyuiOVCw",
        "colab_type": "text"
      },
      "source": [
        "\n",
        "\n",
        "\n",
        "## Tidy NLP\n",
        "\n",
        "First of all, lets transform the data into a format we can easily work. For ease, we will start exploring the data in a tidy format (2 row: category-word) with `tidytext`. To do so, we need to sepperate the words (which will be our tokens) in the `text` field. This can be easily done using standard regular expressions, but easiest is using the `tidytext` function `unnest_tokens()`. We treat the tweet text here as \"bag-of-words\", since we do not care about the sequencing of the words.\n",
        "\n"
      ]
    },
    {
      "cell_type": "code",
      "metadata": {
        "autoscroll": false,
        "collapsed": true,
        "id": "WxKipCBtOVCx",
        "colab_type": "code",
        "colab": {}
      },
      "source": [
        "tweets_tidy <- tweets %>%\n",
        "  select(user_id, status_id, text) %>%\n",
        "  unnest_tokens(output = word, input = text)"
      ],
      "execution_count": 0,
      "outputs": []
    },
    {
      "cell_type": "markdown",
      "metadata": {
        "id": "w3Sq-QsJOVC0",
        "colab_type": "text"
      },
      "source": [
        "\n",
        "Lets take a look at the data structure.\n",
        "\n"
      ]
    },
    {
      "cell_type": "code",
      "metadata": {
        "autoscroll": false,
        "collapsed": true,
        "id": "_Tv61gv3OVC1",
        "colab_type": "code",
        "colab": {}
      },
      "source": [
        "tweets_tidy %>%\n",
        "  head()"
      ],
      "execution_count": 0,
      "outputs": []
    },
    {
      "cell_type": "markdown",
      "metadata": {
        "id": "59WIjB0LOVC3",
        "colab_type": "text"
      },
      "source": [
        "\n",
        "So, lets see what are the most popular words:\n",
        "\n"
      ]
    },
    {
      "cell_type": "code",
      "metadata": {
        "autoscroll": false,
        "collapsed": true,
        "id": "LvZQOl9FOVC4",
        "colab_type": "code",
        "colab": {}
      },
      "source": [
        "tweets_tidy %>%\n",
        "  count(word, sort = TRUE) %>%\n",
        "  head(20)"
      ],
      "execution_count": 0,
      "outputs": []
    },
    {
      "cell_type": "markdown",
      "metadata": {
        "id": "fXHbJT0HOVC7",
        "colab_type": "text"
      },
      "source": [
        "\n",
        "As always, text data is a bit of a mess. This is particularly trye for twitter. We see that most popular words are either generic (to, in, a, of), or artefacts of the way how/what people write on twitter. To first make this bag-of-words a bit more informative, we can 1. filter out common stopwords, and 2. define own words we would like to get rid of.\n",
        "\n",
        "For 1., `tidytext` conveniently already comes with a collection of stopwords from different lexica, to be found in the `stop_words` data.\n",
        "\n"
      ]
    },
    {
      "cell_type": "code",
      "metadata": {
        "autoscroll": false,
        "collapsed": true,
        "id": "WTcOJsH7OVC9",
        "colab_type": "code",
        "colab": {}
      },
      "source": [
        "stop_words %>%\n",
        "  head()"
      ],
      "execution_count": 0,
      "outputs": []
    },
    {
      "cell_type": "markdown",
      "metadata": {
        "id": "UDdPEu4iOVDC",
        "colab_type": "text"
      },
      "source": [
        "\n",
        "We can also expand that by defining own ones.\n",
        "\n"
      ]
    },
    {
      "cell_type": "code",
      "metadata": {
        "autoscroll": false,
        "collapsed": true,
        "id": "Dqy32GO0OVDD",
        "colab_type": "code",
        "colab": {}
      },
      "source": [
        "own_stopwords <- tibble(word= c(\"t.co\", \"https\", \"amp\", \"rstats\"),\n",
        "                        lexicon = \"OWN\")"
      ],
      "execution_count": 0,
      "outputs": []
    },
    {
      "cell_type": "markdown",
      "metadata": {
        "id": "qwOtx-hjOVDF",
        "colab_type": "text"
      },
      "source": [
        "\n",
        "Now, we can just get rid of these words with a filtering `anti_join()`.\n",
        "\n"
      ]
    },
    {
      "cell_type": "code",
      "metadata": {
        "autoscroll": false,
        "collapsed": true,
        "id": "jr5rWwIJOVDG",
        "colab_type": "code",
        "colab": {}
      },
      "source": [
        "tweets_tidy %<>%\n",
        "  anti_join(stop_words %>% bind_rows(own_stopwords), by = \"word\")"
      ],
      "execution_count": 0,
      "outputs": []
    },
    {
      "cell_type": "markdown",
      "metadata": {
        "id": "8zSf8GksOVDI",
        "colab_type": "text"
      },
      "source": [
        "\n",
        "We also do a bit of general cleaning, in this case removing all special characters, and 1-letter words.\n",
        "\n"
      ]
    },
    {
      "cell_type": "code",
      "metadata": {
        "autoscroll": false,
        "collapsed": true,
        "id": "Vm118bBeOVDJ",
        "colab_type": "code",
        "colab": {}
      },
      "source": [
        "tweets_tidy %<>%\n",
        "  mutate(word = word %>% str_remove_all(\"[^[:alnum:]]\") ) %>%\n",
        "  filter(str_length(word) > 1)"
      ],
      "execution_count": 0,
      "outputs": []
    },
    {
      "cell_type": "code",
      "metadata": {
        "autoscroll": false,
        "collapsed": true,
        "id": "AFyGrsomOVDL",
        "colab_type": "code",
        "colab": {}
      },
      "source": [
        "tweets_tidy %<>%\n",
        "  add_count(status_id, word, name = \"nword\") %>%\n",
        "  add_count(status_id, name = \"ntweet\") %>%\n",
        "  filter(nword > 1 & ntweet > 5) %>%\n",
        "    select(-nword, -ntweet)"
      ],
      "execution_count": 0,
      "outputs": []
    },
    {
      "cell_type": "markdown",
      "metadata": {
        "id": "KO9rpFmLOVDO",
        "colab_type": "text"
      },
      "source": [
        "\n",
        "\n",
        "So, what are the most popular words now? did that help?\n",
        "\n"
      ]
    },
    {
      "cell_type": "code",
      "metadata": {
        "autoscroll": false,
        "collapsed": true,
        "id": "qdQ9GLVgOVDO",
        "colab_type": "code",
        "colab": {}
      },
      "source": [
        "topwords <- tweets_tidy %>%\n",
        "  count(word, sort = TRUE)"
      ],
      "execution_count": 0,
      "outputs": []
    },
    {
      "cell_type": "code",
      "metadata": {
        "autoscroll": false,
        "collapsed": true,
        "id": "BTXI771wOVDR",
        "colab_type": "code",
        "colab": {}
      },
      "source": [
        "topwords %>% head()"
      ],
      "execution_count": 0,
      "outputs": []
    },
    {
      "cell_type": "markdown",
      "metadata": {
        "id": "k9UKy0gZOVDT",
        "colab_type": "text"
      },
      "source": [
        "\n",
        "We can also plot them:\n",
        "\n"
      ]
    },
    {
      "cell_type": "code",
      "metadata": {
        "autoscroll": false,
        "collapsed": true,
        "id": "BeSBlbUROVDU",
        "colab_type": "code",
        "colab": {}
      },
      "source": [
        "topwords %>%\n",
        "  top_n(20, n) %>%\n",
        "  ggplot(aes(x = word %>% fct_reorder(n), y = n)) +\n",
        "  geom_col() +\n",
        "  coord_flip() +\n",
        "  labs(title = \"Word Counts\",\n",
        "       x = \"Frequency\",\n",
        "       y = \"Top Words\")"
      ],
      "execution_count": 0,
      "outputs": []
    },
    {
      "cell_type": "markdown",
      "metadata": {
        "id": "VP_F6aMHOVDZ",
        "colab_type": "text"
      },
      "source": [
        "\n",
        "And their distribution....\n",
        "\n"
      ]
    },
    {
      "cell_type": "code",
      "metadata": {
        "autoscroll": false,
        "collapsed": true,
        "id": "4Cxub-WgOVDa",
        "colab_type": "code",
        "colab": {}
      },
      "source": [
        "topwords %>%\n",
        "  ggplot(aes(x = n)) +\n",
        "  geom_histogram()"
      ],
      "execution_count": 0,
      "outputs": []
    },
    {
      "cell_type": "markdown",
      "metadata": {
        "id": "Toh9YcRTOVDd",
        "colab_type": "text"
      },
      "source": [
        "\n",
        "Notice the extreme left-skewedness of the distribution. We might have to deal with that later. Just for the sake of doing so, lets plot a word-cloud. There are many ways to do so. I will now just use the `wordcloud` package to do so.\n",
        "\n"
      ]
    },
    {
      "cell_type": "code",
      "metadata": {
        "autoscroll": false,
        "collapsed": true,
        "id": "WNnyB4tbOVDd",
        "colab_type": "code",
        "colab": {}
      },
      "source": [
        "pacman::p_load(wordcloud)"
      ],
      "execution_count": 0,
      "outputs": []
    },
    {
      "cell_type": "code",
      "metadata": {
        "autoscroll": false,
        "collapsed": true,
        "id": "PdNP3eLIOVDh",
        "colab_type": "code",
        "colab": {}
      },
      "source": [
        "wordcloud(topwords$word, topwords$n, random.order = FALSE, max.words = 50, colors = brewer.pal(8,\"Dark2\"))"
      ],
      "execution_count": 0,
      "outputs": []
    },
    {
      "cell_type": "markdown",
      "metadata": {
        "id": "aMYp0n6TOVDk",
        "colab_type": "text"
      },
      "source": [
        "\n",
        "Ohhh... how nice...\n",
        "\n",
        "## Topic modelling\n",
        "\n",
        "So, lets find out a bit what is happening in the corpus. First, lets perform an LDA topic modelling. The mechanics should be clear by now, so I will not review them.\n",
        "\n",
        "I will use the `R` package `topicmodels`\n",
        "\n"
      ]
    },
    {
      "cell_type": "code",
      "metadata": {
        "autoscroll": false,
        "collapsed": true,
        "id": "CbvezKmlOVDl",
        "colab_type": "code",
        "colab": {}
      },
      "source": [
        "# for LDA analysis\n",
        "pacman::p_load(topicmodels)"
      ],
      "execution_count": 0,
      "outputs": []
    },
    {
      "cell_type": "markdown",
      "metadata": {
        "id": "DYCXLtPbOVDo",
        "colab_type": "text"
      },
      "source": [
        "\n",
        "### Preparing the Data\n",
        "\n",
        "For this application, we have to leave the world of tidy data, since the `topicmodels` package requires a document-term matrix as imput. We can easily produce it using the `cast_dtm()` function of `tidytext`. Since this matrix has to be term-frequency weighted, we do so using the `weightTf` function of the `tm` package for the `weighting` argument.\n",
        "\n"
      ]
    },
    {
      "cell_type": "code",
      "metadata": {
        "autoscroll": false,
        "collapsed": true,
        "id": "ajSmhpF-OVDo",
        "colab_type": "code",
        "colab": {}
      },
      "source": [
        "tweets_dtm <- tweets_tidy %>%\n",
        "  count(status_id, word) %>%\n",
        "  cast_dtm(document = status_id, term = word, value = n, weighting = tm::weightTf)"
      ],
      "execution_count": 0,
      "outputs": []
    },
    {
      "cell_type": "markdown",
      "metadata": {
        "id": "8gZbMZn5OVDr",
        "colab_type": "text"
      },
      "source": [
        "\n",
        "Lets take a look:\n",
        "\n"
      ]
    },
    {
      "cell_type": "code",
      "metadata": {
        "autoscroll": false,
        "collapsed": true,
        "id": "s2ODE1j8OVDs",
        "colab_type": "code",
        "colab": {}
      },
      "source": [
        "tweets_dtm"
      ],
      "execution_count": 0,
      "outputs": []
    },
    {
      "cell_type": "markdown",
      "metadata": {
        "id": "RU0OoemaOVDu",
        "colab_type": "text"
      },
      "source": [
        "\n",
        "We see again hat the matrix is still rather sparse, which is an artefact of text data generally, but even more so when using twitter data. Lets try to see if we could reduce that somewhat by deleting less often used terms.\n",
        "\n"
      ]
    },
    {
      "cell_type": "code",
      "metadata": {
        "autoscroll": false,
        "collapsed": true,
        "id": "xirQGC80OVDv",
        "colab_type": "code",
        "colab": {}
      },
      "source": [
        "tweets_dtm %>% removeSparseTerms(sparse = .99)"
      ],
      "execution_count": 0,
      "outputs": []
    },
    {
      "cell_type": "code",
      "metadata": {
        "autoscroll": false,
        "collapsed": true,
        "id": "v1aODYl5OVDx",
        "colab_type": "code",
        "colab": {}
      },
      "source": [
        "tweets_dtm %>% removeSparseTerms(sparse = .999)"
      ],
      "execution_count": 0,
      "outputs": []
    },
    {
      "cell_type": "code",
      "metadata": {
        "autoscroll": false,
        "collapsed": true,
        "id": "Rn-qWaZhOVD0",
        "colab_type": "code",
        "colab": {}
      },
      "source": [
        "tweets_dtm %>% removeSparseTerms(sparse = .9999)"
      ],
      "execution_count": 0,
      "outputs": []
    },
    {
      "cell_type": "markdown",
      "metadata": {
        "id": "_vzyleKWOVD2",
        "colab_type": "text"
      },
      "source": [
        "\n",
        "Ok, we might have to accept a high level of sparsity in order to still have a meaningful number of unique words.\n",
        "\n",
        "Now we can perform a LDA, using the more accurate Gibbs sampling as `method`.\n",
        "\n"
      ]
    },
    {
      "cell_type": "code",
      "metadata": {
        "autoscroll": false,
        "collapsed": true,
        "id": "M2-1KD4QOVD3",
        "colab_type": "code",
        "colab": {}
      },
      "source": [
        "tweets_lda <- tweets_dtm %>%\n",
        "  LDA(k = 4, method = \"Gibbs\",\n",
        "      control = list(seed = 1337))"
      ],
      "execution_count": 0,
      "outputs": []
    },
    {
      "cell_type": "markdown",
      "metadata": {
        "id": "B1iDr_ZQOVD7",
        "colab_type": "text"
      },
      "source": [
        "\n",
        "### $\\beta$: Word-Topic Association\n",
        "\n",
        "$\\beta$ is an output of the LDA model, indicating the propability that a word occurs in a certain topic. Therefore, loking at the top probability words of a topic often gives us a good intuition regarding its properties.\n",
        "\n"
      ]
    },
    {
      "cell_type": "code",
      "metadata": {
        "autoscroll": false,
        "collapsed": true,
        "id": "qjRU5nvsOVD7",
        "colab_type": "code",
        "colab": {}
      },
      "source": [
        "# LDA output is defined for tidy(), so we can easily extract it\n",
        "lda_beta <- tweets_lda %>%\n",
        "  tidy(matrix = \"beta\") %>%\n",
        "  group_by(topic) %>%\n",
        "  arrange(topic, desc(beta)) %>%\n",
        "  slice(1:10) %>%\n",
        "  ungroup()"
      ],
      "execution_count": 0,
      "outputs": []
    },
    {
      "cell_type": "code",
      "metadata": {
        "autoscroll": false,
        "collapsed": true,
        "id": "rdbW49t4OVD_",
        "colab_type": "code",
        "colab": {}
      },
      "source": [
        "lda_beta %>% head()"
      ],
      "execution_count": 0,
      "outputs": []
    },
    {
      "cell_type": "code",
      "metadata": {
        "autoscroll": false,
        "collapsed": true,
        "id": "cMKtNnK0OVEB",
        "colab_type": "code",
        "colab": {}
      },
      "source": [
        "# Notice the \"reorder_within()\"\n",
        "lda_beta %>%\n",
        "  mutate(term = reorder_within(term, beta, topic)) %>%\n",
        "  group_by(topic, term) %>%\n",
        "  arrange(desc(beta)) %>%\n",
        "  ungroup() %>%\n",
        "  ggplot(aes(term, beta, fill = as.factor(topic))) +\n",
        "  geom_col(show.legend = FALSE) +\n",
        "  coord_flip() +\n",
        "  scale_x_reordered() +\n",
        "  labs(title = \"Top 10 terms in each LDA topic\",\n",
        "       x = NULL, y = expression(beta)) +\n",
        "  facet_wrap(~ topic, ncol = 2, scales = \"free\")"
      ],
      "execution_count": 0,
      "outputs": []
    },
    {
      "cell_type": "markdown",
      "metadata": {
        "id": "m9-m6e8kOVED",
        "colab_type": "text"
      },
      "source": [
        "\n",
        "### $\\gamma$: Document-Topic Association\n",
        "\n",
        "In LDA, documents are represented as a mix of topics. This association of a document to a topic is captured by $\\gamma$\n",
        "\n"
      ]
    },
    {
      "cell_type": "code",
      "metadata": {
        "autoscroll": false,
        "collapsed": true,
        "id": "vNyUu6YcOVED",
        "colab_type": "code",
        "colab": {}
      },
      "source": [
        "lda_gamma <- tweets_lda %>%\n",
        "  tidy(matrix = \"gamma\")"
      ],
      "execution_count": 0,
      "outputs": []
    },
    {
      "cell_type": "code",
      "metadata": {
        "autoscroll": false,
        "collapsed": true,
        "id": "JHEOsO2POVEG",
        "colab_type": "code",
        "colab": {}
      },
      "source": [
        "lda_gamma %>% head()"
      ],
      "execution_count": 0,
      "outputs": []
    },
    {
      "cell_type": "code",
      "metadata": {
        "autoscroll": false,
        "collapsed": true,
        "id": "OQapVfsXOVEI",
        "colab_type": "code",
        "colab": {}
      },
      "source": [
        "lda_gamma %>%\n",
        "  ggplot(aes(gamma)) +\n",
        "  geom_histogram() +\n",
        "  scale_y_log10() +\n",
        "  labs(title = \"Distribution of probabilities for all topics\",\n",
        "       y = \"Number of documents\", x = expression(gamma))"
      ],
      "execution_count": 0,
      "outputs": []
    },
    {
      "cell_type": "code",
      "metadata": {
        "autoscroll": false,
        "collapsed": true,
        "id": "YdAVD9RyOVEK",
        "colab_type": "code",
        "colab": {}
      },
      "source": [
        "lda_gamma %>%\n",
        "  ggplot(aes(gamma, fill = as.factor(topic))) +\n",
        "  geom_histogram(show.legend = FALSE) +\n",
        "  facet_wrap(~ topic, ncol = 2) +\n",
        "  scale_y_log10() +\n",
        "  labs(title = \"Distribution of probability for each topic\",\n",
        "       y = \"Number of documents\", x = expression(gamma))"
      ],
      "execution_count": 0,
      "outputs": []
    },
    {
      "cell_type": "code",
      "metadata": {
        "autoscroll": false,
        "collapsed": true,
        "id": "n9KIcrH4OVEN",
        "colab_type": "code",
        "colab": {}
      },
      "source": [
        "top_topics <- tweets_lda %>%\n",
        "  tidy(matrix = \"gamma\")  %>%\n",
        "  group_by(document) %>%\n",
        "  top_n(1, wt = gamma) %>%\n",
        "  ungroup()"
      ],
      "execution_count": 0,
      "outputs": []
    },
    {
      "cell_type": "code",
      "metadata": {
        "autoscroll": false,
        "collapsed": true,
        "id": "8lEihva3OVEQ",
        "colab_type": "code",
        "colab": {}
      },
      "source": [
        "top_topics %>%\n",
        "  count(topic)"
      ],
      "execution_count": 0,
      "outputs": []
    },
    {
      "cell_type": "markdown",
      "metadata": {
        "id": "20l15Vi0OVES",
        "colab_type": "text"
      },
      "source": [
        "\n",
        "## Latent Semantic Analysis (LSA)\n",
        "\n"
      ]
    },
    {
      "cell_type": "code",
      "metadata": {
        "autoscroll": false,
        "collapsed": true,
        "id": "mV7Jvmt1OVET",
        "colab_type": "code",
        "colab": {}
      },
      "source": [
        "pacman::p_load(quanteda)"
      ],
      "execution_count": 0,
      "outputs": []
    },
    {
      "cell_type": "markdown",
      "metadata": {
        "id": "PWdtUL5VOVEW",
        "colab_type": "text"
      },
      "source": [
        "\n",
        "Alright, now we will perform a LSA, which is less helpful for finding human interpretable topics, but way more stable when attempting to do dimensionality reduction as preprocessing for supervised ML workflows, or for visualization.\n",
        "\n",
        "We now loaded the `quanteda` package, which is the giggest competitor to `tm` for corpus-token based text analysis.\n",
        "\n",
        "Ww first have to create a document-feature-matrix\n",
        "\n"
      ]
    },
    {
      "cell_type": "code",
      "metadata": {
        "autoscroll": false,
        "collapsed": true,
        "id": "7rlXHf37OVEW",
        "colab_type": "code",
        "colab": {}
      },
      "source": [
        "tweets_dfm <- tweets_tidy %>%\n",
        "  count(status_id, word) %>%\n",
        "  cast_dfm(document = status_id, term = word, value = n)"
      ],
      "execution_count": 0,
      "outputs": []
    },
    {
      "cell_type": "code",
      "metadata": {
        "autoscroll": false,
        "collapsed": true,
        "id": "tW2xmXEMOVEZ",
        "colab_type": "code",
        "colab": {}
      },
      "source": [
        "tweets_dfm"
      ],
      "execution_count": 0,
      "outputs": []
    },
    {
      "cell_type": "markdown",
      "metadata": {
        "id": "hBNrZt6GOVEb",
        "colab_type": "text"
      },
      "source": [
        "\n",
        "From there, we can directly execute a LDA with the `quanteda` function `textmodel_lsa()`\n",
        "\n"
      ]
    },
    {
      "cell_type": "code",
      "metadata": {
        "autoscroll": false,
        "collapsed": true,
        "id": "VrA9YwPrOVEb",
        "colab_type": "code",
        "colab": {}
      },
      "source": [
        "tweets_lsa <- tweets_dfm %>%\n",
        "  textmodel_lsa(nd = 5)"
      ],
      "execution_count": 0,
      "outputs": []
    },
    {
      "cell_type": "code",
      "metadata": {
        "autoscroll": false,
        "collapsed": true,
        "id": "8X8c8O82OVEe",
        "colab_type": "code",
        "colab": {}
      },
      "source": [
        "tweets_lsa %>% glimpse()"
      ],
      "execution_count": 0,
      "outputs": []
    },
    {
      "cell_type": "code",
      "metadata": {
        "autoscroll": false,
        "collapsed": true,
        "id": "ntds9X3ROVEg",
        "colab_type": "code",
        "colab": {}
      },
      "source": [
        "tweets_lsa_loading <- tweets_lsa$docs %>%\n",
        "  as.data.frame() %>%\n",
        "  rownames_to_column(var = \"status_id\") %>%\n",
        "  as_tibble()"
      ],
      "execution_count": 0,
      "outputs": []
    },
    {
      "cell_type": "code",
      "metadata": {
        "autoscroll": false,
        "collapsed": true,
        "id": "doCpIiOhOVEi",
        "colab_type": "code",
        "colab": {}
      },
      "source": [
        "tweets_lsa_loading %>% head()"
      ],
      "execution_count": 0,
      "outputs": []
    },
    {
      "cell_type": "markdown",
      "metadata": {
        "id": "cYZ2v8iDOVEm",
        "colab_type": "text"
      },
      "source": [
        "\n",
        "We can niecly visualize it now using UMAP dimensionality reduction for optimizing the visualization of the feature space.\n",
        "\n"
      ]
    },
    {
      "cell_type": "code",
      "metadata": {
        "autoscroll": false,
        "collapsed": true,
        "id": "4rl9sXN0OVEn",
        "colab_type": "code",
        "colab": {}
      },
      "source": [
        "pacman::p_load(uwot, # for UMAP\n",
        "       dbscan # For density based clustering\n",
        "       )"
      ],
      "execution_count": 0,
      "outputs": []
    },
    {
      "cell_type": "code",
      "metadata": {
        "autoscroll": false,
        "collapsed": true,
        "id": "kF3H70HyOVEq",
        "colab_type": "code",
        "colab": {}
      },
      "source": [
        "tweets_lsa_umap <- umap(tweets_lsa_loading %>% column_to_rownames(\"status_id\"),\n",
        "                       n_neighbors = 15, metric = \"cosine\", min_dist = 0.01, scale = TRUE,\n",
        "                       verbose = TRUE, n_threads = 8)"
      ],
      "execution_count": 0,
      "outputs": []
    },
    {
      "cell_type": "code",
      "metadata": {
        "autoscroll": false,
        "collapsed": true,
        "id": "A-6RP5AZOVEs",
        "colab_type": "code",
        "colab": {}
      },
      "source": [
        "tweets_lsa_umap %<>% as.data.frame()"
      ],
      "execution_count": 0,
      "outputs": []
    },
    {
      "cell_type": "code",
      "metadata": {
        "autoscroll": false,
        "collapsed": true,
        "id": "TYgHxcLDOVEv",
        "colab_type": "code",
        "colab": {}
      },
      "source": [
        "tweets_lsa_umap %>%\n",
        "  ggplot(aes(x = V1, y = V2)) +\n",
        "  geom_point(shape = 21, alpha = 0.5)"
      ],
      "execution_count": 0,
      "outputs": []
    },
    {
      "cell_type": "code",
      "metadata": {
        "autoscroll": false,
        "collapsed": true,
        "id": "S0D3kS8uOVEx",
        "colab_type": "code",
        "colab": {}
      },
      "source": [
        "tweets_lsa_hdbscan <- tweets_lsa_umap %>% as.matrix() %>% hdbscan(minPts = 500)"
      ],
      "execution_count": 0,
      "outputs": []
    },
    {
      "cell_type": "code",
      "metadata": {
        "autoscroll": false,
        "collapsed": true,
        "id": "5-it1xwlOVE0",
        "colab_type": "code",
        "colab": {}
      },
      "source": [
        "tweets_lsa_umap %>%\n",
        "  bind_cols(cluster = tweets_lsa_hdbscan$cluster %>% as.factor(),\n",
        "            prob = tweets_lsa_hdbscan$membership_prob) %>%\n",
        "  ggplot(aes(x = V1, y = V2, col = cluster)) +\n",
        "  geom_point(aes(alpha = prob), shape = 21)"
      ],
      "execution_count": 0,
      "outputs": []
    },
    {
      "cell_type": "markdown",
      "metadata": {
        "id": "lC9EBgT-OVE8",
        "colab_type": "text"
      },
      "source": [
        "\n",
        "\n",
        "\n",
        "\n",
        "\n",
        "## Word and Document Embeddings (GloVe)\n",
        "\n"
      ]
    },
    {
      "cell_type": "code",
      "metadata": {
        "autoscroll": false,
        "collapsed": true,
        "id": "5tJbOSVaOVE8",
        "colab_type": "code",
        "colab": {}
      },
      "source": [
        "pacman::p_load(text2vec)"
      ],
      "execution_count": 0,
      "outputs": []
    },
    {
      "cell_type": "markdown",
      "metadata": {
        "id": "xRQOE2BZOVE-",
        "colab_type": "text"
      },
      "source": [
        "\n",
        "Ok, finally, we will make use of word and document embedding techniques, in this case GloVe vectors. We will do so in a `quanteda` corpus->token->fcm workflow. To create the mebeddings, we will use the `text2vec` library.\n",
        "\n",
        "First, we create an corpus object.\n",
        "\n"
      ]
    },
    {
      "cell_type": "code",
      "metadata": {
        "autoscroll": false,
        "collapsed": true,
        "id": "yvBVqJwkOVE-",
        "colab_type": "code",
        "colab": {}
      },
      "source": [
        "# Generate corpus\n",
        "tweets_corpus <- tweets %>% corpus(docid_field = \"status_id\", text_field = \"text\")"
      ],
      "execution_count": 0,
      "outputs": []
    },
    {
      "cell_type": "code",
      "metadata": {
        "autoscroll": false,
        "collapsed": true,
        "id": "gsOyK1bUOVFA",
        "colab_type": "code",
        "colab": {}
      },
      "source": [
        "tweets_corpus"
      ],
      "execution_count": 0,
      "outputs": []
    },
    {
      "cell_type": "markdown",
      "metadata": {
        "id": "cyDpgaEEOVFD",
        "colab_type": "text"
      },
      "source": [
        "\n",
        "We will now tokenize it and apply a bit of minimal preprocessing.\n",
        "\n"
      ]
    },
    {
      "cell_type": "code",
      "metadata": {
        "autoscroll": false,
        "collapsed": true,
        "id": "Saqlmr03OVFE",
        "colab_type": "code",
        "colab": {}
      },
      "source": [
        "tweet_toks <- tokens(tweets_corpus, what = \"word\") %>%\n",
        "  tokens_tolower() %>%\n",
        "  tokens(remove_punct = TRUE,\n",
        "         remove_symbols = TRUE)"
      ],
      "execution_count": 0,
      "outputs": []
    },
    {
      "cell_type": "markdown",
      "metadata": {
        "id": "q-rh_ksuOVFF",
        "colab_type": "text"
      },
      "source": [
        "\n",
        "Out of that, we can create a Document-Feature-Matrix.\n",
        "\n"
      ]
    },
    {
      "cell_type": "code",
      "metadata": {
        "autoscroll": false,
        "collapsed": true,
        "id": "T6Hek03IOVFG",
        "colab_type": "code",
        "colab": {}
      },
      "source": [
        "feats <- dfm(tweet_toks, verbose = TRUE) %>%\n",
        "  dfm_trim(min_termfreq = 5) %>%\n",
        "  featnames()"
      ],
      "execution_count": 0,
      "outputs": []
    },
    {
      "cell_type": "markdown",
      "metadata": {
        "id": "lo9WfydrOVFI",
        "colab_type": "text"
      },
      "source": [
        "\n",
        "And finally, a feature-co-occurence matrix.\n",
        "\n"
      ]
    },
    {
      "cell_type": "code",
      "metadata": {
        "autoscroll": false,
        "collapsed": true,
        "id": "tPmKuqLkOVFJ",
        "colab_type": "code",
        "colab": {}
      },
      "source": [
        "tweet_fcm <- fcm(tweet_toks,\n",
        "                 context = \"window\",\n",
        "                 count = \"weighted\",\n",
        "                 weights = 1 / (1:5),\n",
        "                 tri = TRUE)"
      ],
      "execution_count": 0,
      "outputs": []
    },
    {
      "cell_type": "markdown",
      "metadata": {
        "id": "_PSH1sj0OVFL",
        "colab_type": "text"
      },
      "source": [
        "\n",
        "This, we can use use to train GloVe embeddings. First, we retrain the original GloVe embeddings\n",
        "\n"
      ]
    },
    {
      "cell_type": "code",
      "metadata": {
        "autoscroll": false,
        "collapsed": true,
        "id": "6r6CDRLUOVFM",
        "colab_type": "code",
        "colab": {}
      },
      "source": [
        "glove <- GlobalVectors$new(word_vectors_size = 50, vocabulary = featnames(tweet_fcm), x_max = 10)"
      ],
      "execution_count": 0,
      "outputs": []
    },
    {
      "cell_type": "markdown",
      "metadata": {
        "id": "SLsOVnkqOVFO",
        "colab_type": "text"
      },
      "source": [
        "\n",
        "And then, we assign the new embeddings to words.\n",
        "\n"
      ]
    },
    {
      "cell_type": "code",
      "metadata": {
        "autoscroll": false,
        "collapsed": true,
        "id": "H1T8mCR_OVFP",
        "colab_type": "code",
        "colab": {}
      },
      "source": [
        "tweet_word_vectors <- fit_transform(tweet_fcm, glove, n_iter = 20)"
      ],
      "execution_count": 0,
      "outputs": []
    },
    {
      "cell_type": "markdown",
      "metadata": {
        "id": "hu8ce73YOVFR",
        "colab_type": "text"
      },
      "source": [
        "\n",
        "We now extract them.\n",
        "\n"
      ]
    },
    {
      "cell_type": "code",
      "metadata": {
        "autoscroll": false,
        "collapsed": true,
        "id": "htlPLuOWOVFS",
        "colab_type": "code",
        "colab": {}
      },
      "source": [
        "tweet_word_vectors %<>% as.data.frame() %>%\n",
        "  rownames_to_column(var = \"word\") %>%\n",
        "  as_tibble()"
      ],
      "execution_count": 0,
      "outputs": []
    },
    {
      "cell_type": "code",
      "metadata": {
        "autoscroll": false,
        "collapsed": true,
        "id": "3gQxgzFnOVFT",
        "colab_type": "code",
        "colab": {}
      },
      "source": [
        "tweet_word_vectors %>% head()"
      ],
      "execution_count": 0,
      "outputs": []
    },
    {
      "cell_type": "markdown",
      "metadata": {
        "id": "AGE1UtcMOVFW",
        "colab_type": "text"
      },
      "source": [
        "\n",
        "We now out of this corpus again create a tidy representation.\n",
        "\n"
      ]
    },
    {
      "cell_type": "code",
      "metadata": {
        "autoscroll": false,
        "collapsed": true,
        "id": "JE8zh8dVOVFX",
        "colab_type": "code",
        "colab": {}
      },
      "source": [
        "tweets_tidy2 <- tweet_toks %>%\n",
        "  dfm() %>%\n",
        "  tidy()"
      ],
      "execution_count": 0,
      "outputs": []
    },
    {
      "cell_type": "markdown",
      "metadata": {
        "id": "0A0lwvMKOVFZ",
        "colab_type": "text"
      },
      "source": [
        "\n",
        "And now can join them with the word vectors.\n",
        "\n"
      ]
    },
    {
      "cell_type": "code",
      "metadata": {
        "autoscroll": false,
        "collapsed": true,
        "id": "l1dgibU2OVFa",
        "colab_type": "code",
        "colab": {}
      },
      "source": [
        "tweet_vectors <- tweets_tidy2 %>%\n",
        "  inner_join(tweet_word_vectors, by = c(\"term\" = \"word\"))"
      ],
      "execution_count": 0,
      "outputs": []
    },
    {
      "cell_type": "code",
      "metadata": {
        "autoscroll": false,
        "collapsed": true,
        "id": "EOL0lxXcOVFd",
        "colab_type": "code",
        "colab": {}
      },
      "source": [
        "tweet_vectors %>% head()"
      ],
      "execution_count": 0,
      "outputs": []
    },
    {
      "cell_type": "markdown",
      "metadata": {
        "id": "9_chIniAOVFe",
        "colab_type": "text"
      },
      "source": [
        "\n",
        "To get an tweet embedding, we could do different things, such as doing a TFIDI weighting. The simplest thing, however, is to just create an embedding representing the average of all word vectors.\n",
        "\n"
      ]
    },
    {
      "cell_type": "code",
      "metadata": {
        "autoscroll": false,
        "collapsed": true,
        "id": "yoXu7bhnOVFf",
        "colab_type": "code",
        "colab": {}
      },
      "source": [
        "tweet_vectors %<>%\n",
        "  select(-term, -count) %>%\n",
        "  group_by(document) %>%\n",
        "  summarise_all(mean)"
      ],
      "execution_count": 0,
      "outputs": []
    },
    {
      "cell_type": "markdown",
      "metadata": {
        "id": "X7MgzC_AOVFg",
        "colab_type": "text"
      },
      "source": [
        "\n",
        "We can again use UMAP to visualize:\n",
        "\n"
      ]
    },
    {
      "cell_type": "code",
      "metadata": {
        "autoscroll": false,
        "collapsed": true,
        "id": "kWpC8Mg6OVFh",
        "colab_type": "code",
        "colab": {}
      },
      "source": [
        "tweet_vectors_umap <- umap(tweet_vectors %>% column_to_rownames(\"document\"),\n",
        "                       n_neighbors = 15,\n",
        "                       metric = \"cosine\",\n",
        "                       min_dist = 0.01,\n",
        "                       scale = TRUE,\n",
        "                       verbose = TRUE) %>%\n",
        "  as.data.frame()"
      ],
      "execution_count": 0,
      "outputs": []
    },
    {
      "cell_type": "code",
      "metadata": {
        "autoscroll": false,
        "collapsed": true,
        "id": "YrjFRUVqOVFj",
        "colab_type": "code",
        "colab": {}
      },
      "source": [
        "tweet_vectors_umap %>%\n",
        "  ggplot(aes(x = V1, y = V2)) +\n",
        "  geom_point(shape = 21, alpha = 0.25)"
      ],
      "execution_count": 0,
      "outputs": []
    },
    {
      "cell_type": "markdown",
      "metadata": {
        "id": "7pQzXFOiOVFl",
        "colab_type": "text"
      },
      "source": [
        "\n",
        "## Networks (addon)\n",
        "\n",
        "And finally, lets do some networks:\n",
        "\n"
      ]
    },
    {
      "cell_type": "code",
      "metadata": {
        "autoscroll": false,
        "collapsed": true,
        "id": "mEG9irunOVFn",
        "colab_type": "code",
        "colab": {}
      },
      "source": [
        "pacman::p_load(tidygraph,\n",
        "               ggraph\n",
        "               )"
      ],
      "execution_count": 0,
      "outputs": []
    },
    {
      "cell_type": "code",
      "metadata": {
        "autoscroll": false,
        "collapsed": true,
        "id": "eKgdwvolOVFp",
        "colab_type": "code",
        "colab": {}
      },
      "source": [
        "users <- tweets %>%\n",
        "  distinct(user_id, .keep_all = TRUE) %>%\n",
        "  select(user_id, screen_name, location, description, followers_count, friends_count, listed_count, statuses_count, favourites_count)"
      ],
      "execution_count": 0,
      "outputs": []
    },
    {
      "cell_type": "code",
      "metadata": {
        "autoscroll": false,
        "collapsed": true,
        "id": "eZiYNizXOVFt",
        "colab_type": "code",
        "colab": {}
      },
      "source": [
        "el_mentions <- tweets %>%\n",
        "  select(user_id, mentions_user_id) %>%\n",
        "  unnest() %>%\n",
        "  drop_na() %>%\n",
        "  count(user_id, mentions_user_id) %>%\n",
        "  rename(from = user_id,\n",
        "         to = mentions_user_id,\n",
        "         weight = n) %>%\n",
        "  filter(weight > 1)"
      ],
      "execution_count": 0,
      "outputs": []
    },
    {
      "cell_type": "code",
      "metadata": {
        "autoscroll": false,
        "collapsed": true,
        "id": "UJJ7qkk_OVFu",
        "colab_type": "code",
        "colab": {}
      },
      "source": [
        "g_mentions <- as_tbl_graph(el_mentions, directed = TRUE) %N>%\n",
        "  inner_join(users, by = c(\"name\" = \"user_id\"))"
      ],
      "execution_count": 0,
      "outputs": []
    },
    {
      "cell_type": "code",
      "metadata": {
        "autoscroll": false,
        "collapsed": true,
        "id": "LcpoAUDCOVFw",
        "colab_type": "code",
        "colab": {}
      },
      "source": [
        "g_mentions <- g_mentions %N>%\n",
        "  filter(!node_is_isolated()) %N>%\n",
        "  mutate(cent_dgr = centrality_degree(weights = weight, mode = \"in\"))"
      ],
      "execution_count": 0,
      "outputs": []
    },
    {
      "cell_type": "code",
      "metadata": {
        "autoscroll": false,
        "collapsed": true,
        "id": "sQ5NCd4iOVFz",
        "colab_type": "code",
        "colab": {}
      },
      "source": [
        "g_mentions %>% ggraph(layout = \"fr\") +\n",
        "  geom_edge_fan(aes(edge_width = weight), alpha = 0.25) +\n",
        "  geom_node_point(aes(size = cent_dgr)) +\n",
        "  geom_node_text(aes(label = screen_name, filter = cent_dgr > quantile(cent_dgr, 0.9))) +\n",
        "  theme_graph()"
      ],
      "execution_count": 0,
      "outputs": []
    },
    {
      "cell_type": "markdown",
      "metadata": {
        "id": "V_TweQJfOVF0",
        "colab_type": "text"
      },
      "source": [
        "\n",
        "\n",
        "\n",
        "# Endnotes\n",
        "\n",
        "### References\n",
        "\n",
        "### More info\n",
        "You can find more info about:\n",
        "\n",
        "* `tidytext` [here](https://www.tidytextmining.com/)\n",
        "* `tm` [here](https://cran.r-project.org/web/packages/tm/)\n",
        "* `quanteda` [here](https://quanteda.io/), and many many great tutorials [here](https://tutorials.quanteda.io/)\n",
        "* `text2vec` [here](http://text2vec.org/)\n",
        "* `rtweets` [here](https://rtweet.info)\n",
        "\n",
        "\n",
        "### Session info\n"
      ]
    },
    {
      "cell_type": "code",
      "metadata": {
        "autoscroll": false,
        "id": "Hnh7PCfQOVF3",
        "colab_type": "code",
        "colab": {}
      },
      "source": [
        "sessionInfo()"
      ],
      "execution_count": 0,
      "outputs": []
    }
  ]
}