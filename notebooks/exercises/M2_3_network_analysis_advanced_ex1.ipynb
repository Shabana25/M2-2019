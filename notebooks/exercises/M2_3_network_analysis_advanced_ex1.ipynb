{
  "nbformat": 4,
  "nbformat_minor": 0,
  "metadata": {
    "kernelspec": {
      "display_name": "R",
      "language": "R",
      "name": "ir"
    },
    "language_info": {
      "mimetype": "text/x-r-source",
      "name": "R",
      "pygments_lexer": "r",
      "version": "3.4.2",
      "file_extension": ".r",
      "codemirror_mode": "r"
    },
    "colab": {
      "name": "M2_3_network_analysis_advanced_ex1.ipynb",
      "provenance": [],
      "include_colab_link": true
    }
  },
  "cells": [
    {
      "cell_type": "markdown",
      "metadata": {
        "id": "view-in-github",
        "colab_type": "text"
      },
      "source": [
        "<a href=\"https://colab.research.google.com/github/SDS-AAU/M2-2019/blob/master/notebooks/exercises/M2_3_network_analysis_advanced_ex1.ipynb\" target=\"_parent\"><img src=\"https://colab.research.google.com/assets/colab-badge.svg\" alt=\"Open In Colab\"/></a>"
      ]
    },
    {
      "cell_type": "code",
      "metadata": {
        "_uuid": "200769355472b800cb0759c746529a9cdba8fc2c",
        "_execution_state": "idle",
        "trusted": true,
        "id": "hEwyubPMevJF",
        "colab_type": "code",
        "colab": {}
      },
      "source": [
        "### Install packages if necessary\n",
        "if (!require(\"pacman\")) install.packages(\"pacman\") # package for loading and checking packages :)\n",
        "pacman::p_load(tidyverse, # Standard datasciewnce toolkid (dplyr, ggplot2 et al.)\n",
        "               magrittr, # For advanced piping (%>% et al.)\n",
        "               igraph, # For network analysis\n",
        "               tidygraph, # For tidy-style graph manipulation\n",
        "               ggraph, # For ggplot2 style graph plotting\n",
        "               bibliometrix, # for bibliometric analysis\n",
        "               data.table # for fast data manipulation\n",
        "               )"
      ],
      "execution_count": 0,
      "outputs": []
    },
    {
      "cell_type": "markdown",
      "metadata": {
        "trusted": true,
        "_uuid": "6936104387e260377154bec6a5540cab32e26e6a",
        "id": "ybD91CRtevJJ",
        "colab_type": "text"
      },
      "source": [
        "So guys, time to get serious. Who don't you do first your own biobliometric analysis. First, go via the [AAU Library Databases](https://www.en.aub.aau.dk/find-material/databases/info?id=1248970) to **Web Of Science** (WoS), and download some bibliographic metadata.\n",
        "\n",
        "You can use \"topic\", in case you want to download via a string-search, or you can search for articles in a specific journal etc. \n",
        "\n",
        "Then, you might limit yourself to a certain time-span, document type, language etc. \n",
        "\n",
        "Download the top-500 most cited articles (you could also do more in two turns). Select all possible meta-data\n",
        "\n",
        "Then, upload it to colab. Now its ready for analysis! "
      ]
    },
    {
      "cell_type": "code",
      "metadata": {
        "trusted": true,
        "_uuid": "0e33154f31c5829d9c4cc7ff08675b38ab81b2a8",
        "id": "cmaZbqo5evJK",
        "colab_type": "code",
        "colab": {}
      },
      "source": [
        "M <- convert2df(readFiles(\"../input/YOURPATH.txt\"), # You could also select multiple files here\n",
        "                dbsource = \"isi\",\n",
        "                format = \"plaintext\")"
      ],
      "execution_count": 0,
      "outputs": []
    },
    {
      "cell_type": "code",
      "metadata": {
        "trusted": true,
        "_uuid": "b86601be4defbec349567bf8c6a081aa60bcf089",
        "id": "Q9KYwm_5evJM",
        "colab_type": "code",
        "colab": {}
      },
      "source": [
        "First, produce a general overview"
      ],
      "execution_count": 0,
      "outputs": []
    },
    {
      "cell_type": "code",
      "metadata": {
        "trusted": true,
        "_uuid": "96e165f20ea930e1ac44c7fa3ac856a0039918de",
        "id": "BdQtl6pwevJO",
        "colab_type": "code",
        "colab": {}
      },
      "source": [
        "results <- biblioAnalysis(M)\n",
        "summary(results, \n",
        "        k = 20, \n",
        "        pause = FALSE)"
      ],
      "execution_count": 0,
      "outputs": []
    },
    {
      "cell_type": "code",
      "metadata": {
        "trusted": true,
        "_uuid": "8cd0691b4545f10aa9790592f508a2de33a1a4f2",
        "id": "HBskw-7vevJQ",
        "colab_type": "code",
        "colab": {}
      },
      "source": [
        ""
      ],
      "execution_count": 0,
      "outputs": []
    },
    {
      "cell_type": "markdown",
      "metadata": {
        "_uuid": "9b34d0c7d63e81b5368e86c74c2b71e43e5249cd",
        "id": "5I634yZ0evJT",
        "colab_type": "text"
      },
      "source": [
        "What are the most cited references **within** your corpus?"
      ]
    },
    {
      "cell_type": "code",
      "metadata": {
        "trusted": true,
        "_uuid": "5304904002aba93c74b0f9a0043654f09232a777",
        "id": "PIwoxZK1evJU",
        "colab_type": "code",
        "colab": {}
      },
      "source": [
        ""
      ],
      "execution_count": 0,
      "outputs": []
    },
    {
      "cell_type": "markdown",
      "metadata": {
        "_uuid": "23e75e0105326a2f309bf500c4fcbb14b6efaca9",
        "id": "CI7-m405evJW",
        "colab_type": "text"
      },
      "source": [
        "Lets look at the co-citation network:"
      ]
    },
    {
      "cell_type": "code",
      "metadata": {
        "trusted": true,
        "_uuid": "395c3ecf106bf211ea10bc5213a8a2be6c7fc997",
        "id": "gzfuSFzXevJX",
        "colab_type": "code",
        "colab": {}
      },
      "source": [
        ""
      ],
      "execution_count": 0,
      "outputs": []
    },
    {
      "cell_type": "markdown",
      "metadata": {
        "_uuid": "1100b9cef2dc80dc01ed08c43a92bb3dac058c31",
        "id": "K1Ezrs7ZevJZ",
        "colab_type": "text"
      },
      "source": [
        "Finally, do everything you would like to, fancy graphs, visualizations on all levels, etc."
      ]
    },
    {
      "cell_type": "code",
      "metadata": {
        "trusted": true,
        "_uuid": "7974b88b59f6f937f6ce2d7f0b00dfe085edf5fd",
        "id": "pX1Se-ZcevJa",
        "colab_type": "code",
        "colab": {}
      },
      "source": [
        ""
      ],
      "execution_count": 0,
      "outputs": []
    }
  ]
}