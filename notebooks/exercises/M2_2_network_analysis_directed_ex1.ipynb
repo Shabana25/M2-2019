{
  "nbformat": 4,
  "nbformat_minor": 0,
  "metadata": {
    "kernelspec": {
      "display_name": "R",
      "language": "R",
      "name": "ir"
    },
    "language_info": {
      "mimetype": "text/x-r-source",
      "name": "R",
      "pygments_lexer": "r",
      "version": "3.4.2",
      "file_extension": ".r",
      "codemirror_mode": "r"
    },
    "colab": {
      "name": "SDS_M1_datamunging_ex3.ipynb",
      "provenance": [],
      "collapsed_sections": []
    }
  },
  "cells": [
    {
      "cell_type": "code",
      "metadata": {
        "_uuid": "dc89402886b916fd5a6df3e7937920a8e1ecce18",
        "_execution_state": "idle",
        "trusted": true,
        "id": "pr_D69HbWCwP",
        "colab_type": "code",
        "colab": {}
      },
      "source": [
        "### Install packages if necessary\n",
        "if (!require(\"pacman\")) install.packages(\"pacman\") # package for loading and checking packages :)\n",
        "pacman::p_load(tidyverse, # Standard datasciewnce toolkid (dplyr, ggplot2 et al.)\n",
        "               magrittr, # For advanced piping (%>% et al.)\n",
        "               igraph, # For network analysis\n",
        "               tidygraph, # For tidy-style graph manipulation\n",
        "               ggraph, # For ggplot2 style graph plotting\n",
        "               Matrix, # For some matrix functionality\n",
        "               data.table # For fast table manipulations (and fread)\n",
        "               )"
      ],
      "execution_count": 0,
      "outputs": []
    },
    {
      "cell_type": "markdown",
      "metadata": {
        "id": "l0ab5C9C8Zl5",
        "colab_type": "text"
      },
      "source": [
        "# Load data"
      ]
    },
    {
      "cell_type": "code",
      "metadata": {
        "id": "H1xwEwuE8bHQ",
        "colab_type": "code",
        "colab": {}
      },
      "source": [
        "mat_friendship <- fread(\"https://www.dropbox.com/s/0saiulir3pr566k/ELfriend.dat?dl=1\") %>% as.matrix()\n",
        "mat_advice <- fread(\"https://www.dropbox.com/s/apq42n1grim23k9/ELadv.dat?dl=1\") %>% as.matrix(dimnames = list(c(1:nrow(.)), c(1:ncol(.))))\n",
        "mat_work <- fread(\"https://www.dropbox.com/s/dliz0sd7or8tv01/ELwork.dat?dl=1\") %>% as.matrix(dimnames = list(c(1:nrow(.)), c(1:ncol(.))))\n",
        "\n",
        "dimnames(mat_friendship) = list(c(1:nrow(mat_friendship)), c(1:ncol(mat_friendship)))\n",
        "dimnames(mat_advice) = list(c(1:nrow(mat_advice)), c(1:ncol(mat_advice)))\n",
        "dimnames(mat_work) = list(c(1:nrow(mat_work)), c(1:ncol(mat_work)))"
      ],
      "execution_count": 0,
      "outputs": []
    },
    {
      "cell_type": "code",
      "metadata": {
        "id": "cvDf-tD_8q2Q",
        "colab_type": "code",
        "colab": {}
      },
      "source": [
        "nodes <- fread(\"https://www.dropbox.com/s/qz7fvfgx8lvjgpr/ELattr.dat?dl=1\") %>% as_tibble()\n",
        "\n",
        "colnames(nodes) <- c(\"name\", \"seniority\", \"gender\", \"office\", \"tenure\", \"age\", \"practice\", \"school\")\n",
        "\n",
        "nodes %<>%\n",
        "  mutate(seniority = recode(seniority, \"1\" = \"Partner\", \"2\" = \"Associate\"),\n",
        "         gender = recode(gender, \"1\" = \"Man\", \"2\" = \"Woman\"),\n",
        "         office = recode(office, \"1\" = \"Boston\", \"2\" = \"Hartford\", \"3\" = \"Providence\"),\n",
        "         practice = recode(practice, \"1\" = \"Litigation\", \"2\" = \"Corporate\"),\n",
        "         school = recode(school, \"1\" = \"Harvard, Yale\", \"2\" = \"Ucon\", \"3\" = \"Others\"))  "
      ],
      "execution_count": 0,
      "outputs": []
    },
    {
      "cell_type": "markdown",
      "metadata": {
        "id": "eUFqSCIY835Q",
        "colab_type": "text"
      },
      "source": [
        "# Generate the graph"
      ]
    },
    {
      "cell_type": "code",
      "metadata": {
        "id": "bhSG3IZS83k3",
        "colab_type": "code",
        "colab": {}
      },
      "source": [
        "# Lerts run the steps we did before to generate 1. own graphs for the different networks, and 2. a joined graph with all 3 networks together."
      ],
      "execution_count": 0,
      "outputs": []
    },
    {
      "cell_type": "markdown",
      "metadata": {
        "id": "o2sWIKjD-Amo",
        "colab_type": "text"
      },
      "source": [
        "# Analysis"
      ]
    },
    {
      "cell_type": "code",
      "metadata": {
        "id": "Jgu9HIuZ-B5w",
        "colab_type": "code",
        "colab": {}
      },
      "source": [
        ""
      ],
      "execution_count": 0,
      "outputs": []
    }
  ]
}