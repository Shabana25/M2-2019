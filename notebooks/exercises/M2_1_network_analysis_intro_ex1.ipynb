{
  "nbformat": 4,
  "nbformat_minor": 0,
  "metadata": {
    "kernelspec": {
      "display_name": "R",
      "language": "R",
      "name": "ir"
    },
    "language_info": {
      "mimetype": "text/x-r-source",
      "name": "R",
      "pygments_lexer": "r",
      "version": "3.4.2",
      "file_extension": ".r",
      "codemirror_mode": "r"
    },
    "colab": {
      "name": "SDS_M1_datamunging_ex3.ipynb",
      "provenance": [],
      "collapsed_sections": []
    }
  },
  "cells": [
    {
      "cell_type": "code",
      "metadata": {
        "id": "Uu0D6A9fqfMg",
        "colab_type": "code",
        "colab": {
          "base_uri": "https://localhost:8080/",
          "height": 405
        },
        "outputId": "abe566a9-fd47-4807-9cb3-7939934d51bb"
      },
      "source": [
        "if (!require(\"pacman\")) install.packages(\"pacman\") # package for loading and checking packages :)\n",
        "pacman::p_load(tidyverse, # Standard datasciewnce toolkid (dplyr, ggplot2 et al.)\n",
        "               magrittr, # For advanced piping (%>% et al.)\n",
        "               igraph, # For network analysis\n",
        "               tidygraph, # For tidy-style graph manipulation\n",
        "               ggraph # For ggplot2 style graph plotting\n",
        "               )"
      ],
      "execution_count": 1,
      "outputs": [
        {
          "output_type": "stream",
          "text": [
            "Loading required package: pacman\n",
            "Warning message in library(package, lib.loc = lib.loc, character.only = TRUE, logical.return = TRUE, :\n",
            "“there is no package called ‘pacman’”Installing package into ‘/usr/local/lib/R/site-library’\n",
            "(as ‘lib’ is unspecified)\n",
            "Installing package into ‘/usr/local/lib/R/site-library’\n",
            "(as ‘lib’ is unspecified)\n",
            "\n",
            "igraph installed\n",
            "Installing package into ‘/usr/local/lib/R/site-library’\n",
            "(as ‘lib’ is unspecified)\n",
            "\n",
            "tidygraph installed\n",
            "Installing package into ‘/usr/local/lib/R/site-library’\n",
            "(as ‘lib’ is unspecified)\n",
            "also installing the dependencies ‘farver’, ‘tweenr’, ‘polyclip’, ‘RcppEigen’, ‘gridExtra’, ‘RcppArmadillo’, ‘ggforce’, ‘ggrepel’, ‘viridis’, ‘graphlayouts’\n",
            "\n",
            "\n",
            "ggraph installed\n",
            "\n",
            "Your package installed\n",
            "Warning message in pacman::p_load(tidyverse, magrittr, igraph, tidygraph, ggraph, :\n",
            "“Failed to install/load:\n",
            "”"
          ],
          "name": "stderr"
        }
      ]
    },
    {
      "cell_type": "markdown",
      "metadata": {
        "id": "erd7dBj6r1js",
        "colab_type": "text"
      },
      "source": [
        "# Load the data"
      ]
    },
    {
      "cell_type": "code",
      "metadata": {
        "id": "2eYjxzzUr2Dt",
        "colab_type": "code",
        "colab": {}
      },
      "source": [
        "# We work again with the GoT network\n",
        "edges <- read_csv(\"https://www.dropbox.com/s/l8v3if1271nu8yx/asoiaf-all-edges.csv?dl=1\") "
      ],
      "execution_count": 0,
      "outputs": []
    },
    {
      "cell_type": "markdown",
      "metadata": {
        "id": "1R1STFa-sNEB",
        "colab_type": "text"
      },
      "source": [
        "# Create the network"
      ]
    },
    {
      "cell_type": "code",
      "metadata": {
        "id": "D6-q5jcasLnC",
        "colab_type": "code",
        "colab": {}
      },
      "source": [
        "# We this time look at a bit of a smaller network. Lets forus only on the 50 main characters. \n",
        "# First, create a dataframe with only the 50 most cooccuring characters\n",
        "chars_main <- edges %>%\n",
        "  ***\n",
        "  ***\n",
        "  ***"
      ],
      "execution_count": 0,
      "outputs": []
    },
    {
      "cell_type": "code",
      "metadata": {
        "id": "Tm9oYiGps9p5",
        "colab_type": "code",
        "colab": {}
      },
      "source": [
        "# Now, lets restrict the edgelist to only these 50 main characters\n",
        "edges %<>%\n",
        "  ***\n",
        "  ***\n",
        "  *** "
      ],
      "execution_count": 0,
      "outputs": []
    },
    {
      "cell_type": "code",
      "metadata": {
        "id": "yOIJUuOXs1bc",
        "colab_type": "code",
        "colab": {}
      },
      "source": [
        "# Now, take the edgelist and create a tidygraph object\n",
        "g <- edges %>% as_tbl_graph(directed = FALSE)"
      ],
      "execution_count": 0,
      "outputs": []
    }
  ]
}