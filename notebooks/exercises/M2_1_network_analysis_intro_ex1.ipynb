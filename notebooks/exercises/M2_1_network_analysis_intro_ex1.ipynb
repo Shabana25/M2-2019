{
  "nbformat": 4,
  "nbformat_minor": 0,
  "metadata": {
    "kernelspec": {
      "display_name": "R",
      "language": "R",
      "name": "ir"
    },
    "language_info": {
      "mimetype": "text/x-r-source",
      "name": "R",
      "pygments_lexer": "r",
      "version": "3.4.2",
      "file_extension": ".r",
      "codemirror_mode": "r"
    },
    "colab": {
      "name": "SDS_M1_datamunging_ex3.ipynb",
      "provenance": [],
      "collapsed_sections": []
    }
  },
  "cells": [
    {
      "cell_type": "code",
      "metadata": {
        "id": "Uu0D6A9fqfMg",
        "colab_type": "code",
        "outputId": "abe566a9-fd47-4807-9cb3-7939934d51bb",
        "colab": {
          "base_uri": "https://localhost:8080/",
          "height": 405
        }
      },
      "source": [
        "if (!require(\"pacman\")) install.packages(\"pacman\") # package for loading and checking packages :)\n",
        "pacman::p_load(tidyverse, # Standard datasciewnce toolkid (dplyr, ggplot2 et al.)\n",
        "               magrittr, # For advanced piping (%>% et al.)\n",
        "               igraph, # For network analysis\n",
        "               tidygraph, # For tidy-style graph manipulation\n",
        "               ggraph # For ggplot2 style graph plotting\n",
        "               )"
      ],
      "execution_count": 0,
      "outputs": [
        {
          "output_type": "stream",
          "text": [
            "Loading required package: pacman\n",
            "Warning message in library(package, lib.loc = lib.loc, character.only = TRUE, logical.return = TRUE, :\n",
            "“there is no package called ‘pacman’”Installing package into ‘/usr/local/lib/R/site-library’\n",
            "(as ‘lib’ is unspecified)\n",
            "Installing package into ‘/usr/local/lib/R/site-library’\n",
            "(as ‘lib’ is unspecified)\n",
            "\n",
            "igraph installed\n",
            "Installing package into ‘/usr/local/lib/R/site-library’\n",
            "(as ‘lib’ is unspecified)\n",
            "\n",
            "tidygraph installed\n",
            "Installing package into ‘/usr/local/lib/R/site-library’\n",
            "(as ‘lib’ is unspecified)\n",
            "also installing the dependencies ‘farver’, ‘tweenr’, ‘polyclip’, ‘RcppEigen’, ‘gridExtra’, ‘RcppArmadillo’, ‘ggforce’, ‘ggrepel’, ‘viridis’, ‘graphlayouts’\n",
            "\n",
            "\n",
            "ggraph installed\n",
            "\n",
            "Your package installed\n",
            "Warning message in pacman::p_load(tidyverse, magrittr, igraph, tidygraph, ggraph, :\n",
            "“Failed to install/load:\n",
            "”"
          ],
          "name": "stderr"
        }
      ]
    },
    {
      "cell_type": "markdown",
      "metadata": {
        "id": "erd7dBj6r1js",
        "colab_type": "text"
      },
      "source": [
        "# Load the data"
      ]
    },
    {
      "cell_type": "code",
      "metadata": {
        "id": "2eYjxzzUr2Dt",
        "colab_type": "code",
        "colab": {}
      },
      "source": [
        "# We work again with the GoT network\n",
        "edges <- read_csv(\"https://www.dropbox.com/s/l8v3if1271nu8yx/asoiaf-all-edges.csv?dl=1\") "
      ],
      "execution_count": 0,
      "outputs": []
    },
    {
      "cell_type": "markdown",
      "metadata": {
        "id": "1R1STFa-sNEB",
        "colab_type": "text"
      },
      "source": [
        "# Create the network"
      ]
    },
    {
      "cell_type": "code",
      "metadata": {
        "id": "D6-q5jcasLnC",
        "colab_type": "code",
        "colab": {}
      },
      "source": [
        "# We this time look at a bit of a smaller network. Lets forus only on the 50 main characters. \n",
        "# First, create a dataframe with only the 50 most cooccuring characters\n",
        "chars_main <- edges %>%\n",
        "  ***\n",
        "  ***\n",
        "  ***"
      ],
      "execution_count": 0,
      "outputs": []
    },
    {
      "cell_type": "code",
      "metadata": {
        "id": "Tm9oYiGps9p5",
        "colab_type": "code",
        "colab": {}
      },
      "source": [
        "# Now, lets restrict the edgelist to only these 50 main characters\n",
        "edges %<>%\n",
        "  ***\n",
        "  ***\n",
        "  *** "
      ],
      "execution_count": 0,
      "outputs": []
    },
    {
      "cell_type": "code",
      "metadata": {
        "id": "yOIJUuOXs1bc",
        "colab_type": "code",
        "colab": {}
      },
      "source": [
        "# Now, take the edgelist and create a tidygraph object\n",
        "g <- edges %>% as_***"
      ],
      "execution_count": 0,
      "outputs": []
    },
    {
      "cell_type": "markdown",
      "metadata": {
        "id": "KWlLGkdf32PV",
        "colab_type": "text"
      },
      "source": [
        "# Network statistics"
      ]
    },
    {
      "cell_type": "code",
      "metadata": {
        "id": "DG_J2YuS4BX4",
        "colab_type": "code",
        "colab": {}
      },
      "source": [
        "# Lets take a look at the node level characteristics, such as the different centralities. Is the order of central characters still the same?"
      ],
      "execution_count": 0,
      "outputs": []
    },
    {
      "cell_type": "code",
      "metadata": {
        "id": "iwfZ9wIE4o45",
        "colab_type": "code",
        "colab": {}
      },
      "source": [
        "#Also, lets run a community detection. You might want to try the infomap algorithm now..."
      ],
      "execution_count": 0,
      "outputs": []
    },
    {
      "cell_type": "code",
      "metadata": {
        "id": "vc8nZl8z3755",
        "colab_type": "code",
        "colab": {}
      },
      "source": [
        "#Now, let us get some overal graph statistics. What is the degree density, tranistivity, and so forth? You can also take a look at the degree_distribution(). \n",
        "#Are the stats differnt from the graph we created before? Any ideas why?"
      ],
      "execution_count": 0,
      "outputs": []
    },
    {
      "cell_type": "code",
      "metadata": {
        "id": "e0IROv3Z5FZ7",
        "colab_type": "code",
        "colab": {}
      },
      "source": [
        "# Try out different ways to visualize the network.... you might also try the effect of different layouts."
      ],
      "execution_count": 0,
      "outputs": []
    },
    {
      "cell_type": "code",
      "metadata": {
        "id": "5LpTXpg_4we7",
        "colab_type": "code",
        "colab": {}
      },
      "source": [
        "# Also, lets create new graph opjects for the ego networks of John Snow and Daenerys. Are there big overlaps?"
      ],
      "execution_count": 0,
      "outputs": []
    }
  ]
}