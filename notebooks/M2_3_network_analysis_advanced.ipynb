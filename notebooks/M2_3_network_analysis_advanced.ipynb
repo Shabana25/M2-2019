{
  "nbformat": 4,
  "nbformat_minor": 0,
  "metadata": {
    "Rmd_header": {
      "author": "Daniel S. Hain (dsh@business.aau.dk)",
      "date": "Updated `r format(Sys.time(), '%B %d, %Y')`",
      "output": {
        "html_document": {
          "code_folding": "hide",
          "df_print": "paged",
          "theme": "flatly",
          "toc": true,
          "toc_depth": 2,
          "toc_float": {
            "collapsed": false
          }
        }
      },
      "title": "M2-3: Advanced network analysis"
    },
    "kernelspec": {
      "display_name": "R",
      "language": "R",
      "name": "ir"
    },
    "language_info": {
      "codemirror_mode": "r",
      "file_extension": ".r",
      "mimetype": "text/x-r-source",
      "name": "R",
      "pygments_lexer": "r"
    },
    "colab": {
      "name": "M2_3_network_analysis_advanced.ipynb",
      "provenance": [],
      "include_colab_link": true
    }
  },
  "cells": [
    {
      "cell_type": "markdown",
      "metadata": {
        "id": "view-in-github",
        "colab_type": "text"
      },
      "source": [
        "<a href=\"https://colab.research.google.com/github/SDS-AAU/M2-2019/blob/master/notebooks/M2_3_network_analysis_advanced.ipynb\" target=\"_parent\"><img src=\"https://colab.research.google.com/assets/colab-badge.svg\" alt=\"Open In Colab\"/></a>"
      ]
    },
    {
      "cell_type": "code",
      "metadata": {
        "Rmd_chunk_options": "setup, include=FALSE",
        "autoscroll": false,
        "id": "rXyIq8UQ-uuI",
        "colab_type": "code",
        "colab": {}
      },
      "source": [
        "### Generic preamble\n",
        "Sys.setenv(LANG = \"en\") # For english language\n",
        "options(scipen = 5) # To deactivate annoying scientific number notation\n",
        "set.seed(1337) # To have a seed defined for reproducability\n",
        "\n",
        "### Install packages if necessary\n",
        "if (!require(\"pacman\")) install.packages(\"pacman\") # package for loading and checking packages :)\n",
        "pacman::p_load(tidyverse, # Standard datasciewnce toolkid (dplyr, ggplot2 et al.)\n",
        "               magrittr, # For advanced piping (%>% et al.)\n",
        "               igraph, # For network analysis\n",
        "               tidygraph, # For tidy-style graph manipulation\n",
        "               ggraph, # For ggplot2 style graph plotting\n",
        "               Matrix, # For matrix tooling\n",
        "               bibliometrix, # for bibliometric analysis\n",
        "               data.table # for fast data manipulation\n",
        "               )"
      ],
      "execution_count": 0,
      "outputs": []
    },
    {
      "cell_type": "markdown",
      "metadata": {
        "id": "bbWh6AZq-uuS",
        "colab_type": "text"
      },
      "source": [
        "\n",
        "In this session, you will learn:\n",
        "\n",
        "1. What are alternative ways to create network structures.\n",
        "2. What are different options to visualize networks and highlight properties.\n",
        "3. How to analyse multi-modal networks.\n",
        "\n",
        "\n",
        "# Types of networks\n",
        "\n",
        "We up to now already talked about different ways how networks can be constructed. Up to now, we mainly focussed on:\n",
        "\n",
        "* Interaction between entities\n",
        "* Co-occurence\n",
        "\n",
        "However, network analysis and modelling is also fully consistent with other structures, which are often a natural outcome of supervised or unsupervised ML exercises:\n",
        "\n",
        "* Similarities\n",
        "* Hirarchies (tree-structures)\n",
        "\n",
        "## Similarity networks\n",
        "\n",
        "Since similarity is a relational property between entities, similarity matrices obviously can be modeled as a network. Lets illustrate that at the classican `mtcars` example.\n",
        "\n"
      ]
    },
    {
      "cell_type": "code",
      "metadata": {
        "autoscroll": false,
        "id": "OBBjRrDi-uuV",
        "colab_type": "code",
        "colab": {}
      },
      "source": [
        "mtcars %>% head()"
      ],
      "execution_count": 0,
      "outputs": []
    },
    {
      "cell_type": "markdown",
      "metadata": {
        "id": "Dblmmd-7-uuc",
        "colab_type": "text"
      },
      "source": [
        "\n",
        "Whe could first run a PCA to reduce the dimensionality of the numerical data.\n",
        "\n"
      ]
    },
    {
      "cell_type": "code",
      "metadata": {
        "autoscroll": false,
        "id": "nhhpVPSo-uue",
        "colab_type": "code",
        "colab": {}
      },
      "source": [
        "cars_pca <- mtcars[,c(1:7,10,11)] %>%\n",
        "  drop_na() %>%\n",
        "  prcomp(center = TRUE , scale = TRUE)"
      ],
      "execution_count": 0,
      "outputs": []
    },
    {
      "cell_type": "markdown",
      "metadata": {
        "id": "yGW9j21S-uuk",
        "colab_type": "text"
      },
      "source": [
        "\n",
        "Next, we could create a distance matrice (using the `dist()`) function.\n",
        "\n"
      ]
    },
    {
      "cell_type": "code",
      "metadata": {
        "autoscroll": false,
        "id": "EXlFMppt-uum",
        "colab_type": "code",
        "colab": {}
      },
      "source": [
        "cars_dist <- cars_pca$x %>% dist(method = \"euclidean\")"
      ],
      "execution_count": 0,
      "outputs": []
    },
    {
      "cell_type": "markdown",
      "metadata": {
        "id": "LCcGGJSh-uus",
        "colab_type": "text"
      },
      "source": [
        "\n",
        "La voila. Such a distance matrix representas a relational structure and can be modelled as a network.\n",
        "\n"
      ]
    },
    {
      "cell_type": "code",
      "metadata": {
        "autoscroll": false,
        "id": "Eacaobhh-uut",
        "colab_type": "code",
        "colab": {}
      },
      "source": [
        "g <- cars_dist %>%\n",
        "  as.matrix() %>%\n",
        "  as_tbl_graph()"
      ],
      "execution_count": 0,
      "outputs": []
    },
    {
      "cell_type": "code",
      "metadata": {
        "autoscroll": false,
        "id": "a_UEGBku-uu0",
        "colab_type": "code",
        "colab": {}
      },
      "source": [
        "g"
      ],
      "execution_count": 0,
      "outputs": []
    },
    {
      "cell_type": "markdown",
      "metadata": {
        "id": "WLr_K0u6-uu7",
        "colab_type": "text"
      },
      "source": [
        "\n",
        "\n",
        "Since the network is based on a distance matrix, we would like to reverse that to get edges representing similarity. Since similarity structures are usually fully connected networks, we probably also want to create some sparsity by deleting lower quantile edge weights.\n",
        "\n"
      ]
    },
    {
      "cell_type": "code",
      "metadata": {
        "autoscroll": false,
        "id": "mHhJZq0n-uu9",
        "colab_type": "code",
        "colab": {}
      },
      "source": [
        "g <- g %E>%\n",
        "  mutate(weight = max(weight) - weight) %>%\n",
        "  filter(weight >= weight %>% quantile(0.75)) %N>%\n",
        "  filter(!node_is_isolated())"
      ],
      "execution_count": 0,
      "outputs": []
    },
    {
      "cell_type": "markdown",
      "metadata": {
        "id": "NBxdQFYj-uvD",
        "colab_type": "text"
      },
      "source": [
        "\n",
        "Lets take a look!\n",
        "\n"
      ]
    },
    {
      "cell_type": "code",
      "metadata": {
        "autoscroll": false,
        "id": "vAs64mOC-uvF",
        "colab_type": "code",
        "colab": {}
      },
      "source": [
        "g %>% ggraph(layout = \"kk\") +\n",
        "  geom_node_point() +\n",
        "  geom_edge_link(aes(size = weight), alpha = 0.25) +\n",
        "  geom_node_text(aes(label = name)) +\n",
        "  theme_graph()"
      ],
      "execution_count": 0,
      "outputs": []
    },
    {
      "cell_type": "markdown",
      "metadata": {
        "id": "mdO81I86-uvL",
        "colab_type": "text"
      },
      "source": [
        "\n",
        "\n",
        "## Hierarchy (tree) networks\n",
        "\n",
        "Hirarchical structures are obviously also relational. The difference is, that the connectivity structure tends to be constraint to other levels.\n",
        "\n"
      ]
    },
    {
      "cell_type": "code",
      "metadata": {
        "autoscroll": false,
        "id": "5mXz8qAq-uvM",
        "colab_type": "code",
        "colab": {}
      },
      "source": [
        "create_tree(20, 3) %>%\n",
        "    mutate(leaf = node_is_leaf(), root = node_is_root()) %>%\n",
        "    ggraph(layout = 'tree') +\n",
        "    geom_edge_diagonal() +\n",
        "    geom_node_point(aes(filter = leaf), colour = 'forestgreen', size = 10) +\n",
        "    geom_node_point(aes(filter = root), colour = 'firebrick', size = 10) +\n",
        "    theme_graph()"
      ],
      "execution_count": 0,
      "outputs": []
    },
    {
      "cell_type": "markdown",
      "metadata": {
        "id": "1Xiz1vPf-uvS",
        "colab_type": "text"
      },
      "source": [
        "\n",
        "In adittion to real life exaples such as organigrams, evolutionary trees etc., many ML models result in tree-structures (eg. decision trees).\n",
        "\n",
        "We will at our car example execute a hierarchical clustering, which leads to a tree structure (visualized in the dendogram).\n",
        "\n"
      ]
    },
    {
      "cell_type": "code",
      "metadata": {
        "autoscroll": false,
        "id": "b2GADDOK-uvU",
        "colab_type": "code",
        "colab": {}
      },
      "source": [
        "cars_hc <- cars_dist %>%\n",
        "  hclust(method = \"ward.D2\")"
      ],
      "execution_count": 0,
      "outputs": []
    },
    {
      "cell_type": "markdown",
      "metadata": {
        "id": "eGFQJPs7-uva",
        "colab_type": "text"
      },
      "source": [
        "\n",
        "Again, this structure can be directly transfered to a graph object.\n",
        "\n"
      ]
    },
    {
      "cell_type": "code",
      "metadata": {
        "autoscroll": false,
        "id": "QV7dav0b-uvc",
        "colab_type": "code",
        "colab": {}
      },
      "source": [
        "g <- cars_hc %>% as_tbl_graph()"
      ],
      "execution_count": 0,
      "outputs": []
    },
    {
      "cell_type": "code",
      "metadata": {
        "autoscroll": false,
        "id": "YLfKtE4a-uvh",
        "colab_type": "code",
        "colab": {}
      },
      "source": [
        "g"
      ],
      "execution_count": 0,
      "outputs": []
    },
    {
      "cell_type": "code",
      "metadata": {
        "autoscroll": false,
        "id": "rcfS6xye-uvn",
        "colab_type": "code",
        "colab": {}
      },
      "source": [
        "g %>% ggraph(layout = 'dendrogram') +\n",
        "  geom_edge_diagonal() +\n",
        "  geom_node_point() +\n",
        "  geom_node_text(aes(filter = leaf, label = label), angle=90, hjust=1, nudge_y=-0.1) +\n",
        "  theme_graph() +\n",
        "  ylim(-.6, NA)"
      ],
      "execution_count": 0,
      "outputs": []
    },
    {
      "cell_type": "markdown",
      "metadata": {
        "id": "DkI359-G-uvs",
        "colab_type": "text"
      },
      "source": [
        "\n",
        "\n",
        "# Network Visualization\n",
        "\n",
        "## Visualize what, and why?\n",
        "\n",
        "The main concern in designing a network visualization is the purpose it has to serve. What are the structural properties that we want to highlight? What are the key concerns we want to address?\n",
        "\n",
        "![](https://www.dropbox.com/s/p34n0m16qx1hnhz/networks_viz_goal.png?dl=1){width=500px}\n",
        "\n",
        "Network maps are far from the only visualization available for graphs - other network representation formats, and even simple charts of key characteristics, may be more appropriate in some cases.\n",
        "\n",
        "![](https://www.dropbox.com/s/l7rb0v9h95jmqen/networks_viz_type.png?dl=1){width=500px}\n",
        "\n",
        "In network maps, as in other visualization formats, we have several key elements that control the outcome. The major ones are color, size, shape, and position.\n",
        "\n",
        "![](https://www.dropbox.com/s/da8n7n3gp48s2iu/networks_viz_controls.png?dl=1){width=500px}\n",
        "\n"
      ]
    },
    {
      "cell_type": "code",
      "metadata": {
        "autoscroll": false,
        "id": "I2rqQmnI-uvu",
        "colab_type": "code",
        "colab": {}
      },
      "source": [
        "g <- as_tbl_graph(highschool, directed = TRUE)"
      ],
      "execution_count": 0,
      "outputs": []
    },
    {
      "cell_type": "code",
      "metadata": {
        "Rmd_chunk_options": "warning=FALSE, message=FALSE, error=FALSE",
        "autoscroll": false,
        "id": "OI5raJLI-uvz",
        "colab_type": "code",
        "colab": {}
      },
      "source": [
        "p_load(randomNames)\n",
        "\n",
        "g <- g %E>%\n",
        "  mutate(weight = sample(1:5, n(), replace = TRUE),\n",
        "         year = year %>% as.factor()) %N>%\n",
        "  mutate(class = sample(LETTERS[1:3], n(), replace = TRUE),\n",
        "         gender = rbinom(n = n(), size = 1, prob = 0.5) %>% as.logical(),\n",
        "         label = randomNames(gender = gender, name.order = \"first.last\"),\n",
        "         cent_dgr = centrality_degree(mode = \"in\"),\n",
        "         community = group_edge_betweenness(weights = weight, directed = TRUE) %>% as.factor()) %N>%\n",
        "  filter(!node_is_isolated()) %E>%\n",
        "  mutate(community_from = .N()$community[from])"
      ],
      "execution_count": 0,
      "outputs": []
    },
    {
      "cell_type": "markdown",
      "metadata": {
        "id": "Ve1YLwyn-uv5",
        "colab_type": "text"
      },
      "source": [
        "\n",
        "## Node Visualization\n",
        "\n",
        "Nodes in a network are the entities that are connected. Sometimes these are also referred to as vertices. While the nodes in a graph are the abstract concepts of entities, and the layout is their physical placement, the node geoms are the visual manifestation of the entities.\n",
        "\n",
        "### Node positions\n",
        "\n",
        "Conceptually one can simply think of it in terms of a scatter plot — the layout provides the x and y coordinates, and these can be used to draw nodes in different ways in the plotting window. Actually, due to the design of ggraph the standard scatterplot-like geoms from ggplot2 can be used directly for plotting nodes:\n",
        "\n"
      ]
    },
    {
      "cell_type": "code",
      "metadata": {
        "autoscroll": false,
        "collapsed": true,
        "id": "_0Mo4_p5-uv7",
        "colab_type": "code",
        "colab": {}
      },
      "source": [
        "g %>%\n",
        "  ggraph(layout = \"nicely\") +\n",
        "    geom_point(aes(x = x, y = y))"
      ],
      "execution_count": 0,
      "outputs": []
    },
    {
      "cell_type": "markdown",
      "metadata": {
        "id": "G8p9vdIB-uwF",
        "colab_type": "text"
      },
      "source": [
        "\n",
        "The reason this works is that layouts (about which we talk in a moment) return a `data.frame` of node positions and metadata and this is used as the default plot data:\n",
        "\n"
      ]
    },
    {
      "cell_type": "code",
      "metadata": {
        "autoscroll": false,
        "collapsed": true,
        "id": "I2DiHQ7M-uwK",
        "colab_type": "code",
        "colab": {}
      },
      "source": [
        "g %>% create_layout(layout = \"nicely\") %>% head()"
      ],
      "execution_count": 0,
      "outputs": []
    },
    {
      "cell_type": "markdown",
      "metadata": {
        "id": "AG-D2NyR-uwT",
        "colab_type": "text"
      },
      "source": [
        "\n",
        "While usage of the default `ggplot2` is fine, `ggraph` comes with its own set of node geoms (`geom_node_*()`). They by defaul already inherit the layout x and y coordinates, and come with extra features for network visualization.\n",
        "\n"
      ]
    },
    {
      "cell_type": "code",
      "metadata": {
        "autoscroll": false,
        "collapsed": true,
        "id": "hVhOvRFM-uwV",
        "colab_type": "code",
        "colab": {}
      },
      "source": [
        "g %>% ggraph(layout = 'nicely') +\n",
        "  geom_node_point()"
      ],
      "execution_count": 0,
      "outputs": []
    },
    {
      "cell_type": "markdown",
      "metadata": {
        "id": "jCPI_zo6-uwb",
        "colab_type": "text"
      },
      "source": [
        "\n",
        "Usually (but not always) when visualizing a network, we are interested in the connectivity structure as expressed by the interplay between nodes and edges. So, lets also plot the edges (the geometries from the `geom_edge_*` family, about which we talk in a moment)\n",
        "\n"
      ]
    },
    {
      "cell_type": "code",
      "metadata": {
        "autoscroll": false,
        "collapsed": true,
        "id": "agv8kvFu-uwc",
        "colab_type": "code",
        "colab": {}
      },
      "source": [
        "g %>% ggraph(layout = 'nicely') +\n",
        "  geom_node_point() +\n",
        "  geom_edge_link(alpha = 0.25)"
      ],
      "execution_count": 0,
      "outputs": []
    },
    {
      "cell_type": "markdown",
      "metadata": {
        "id": "D3dN5HoY-uwh",
        "colab_type": "text"
      },
      "source": [
        "\n",
        "\n",
        "\n",
        "### Size\n",
        "\n"
      ]
    },
    {
      "cell_type": "code",
      "metadata": {
        "autoscroll": false,
        "collapsed": true,
        "id": "kX2MgxN8-uwi",
        "colab_type": "code",
        "colab": {}
      },
      "source": [
        "g %>% ggraph(layout = 'nicely') +\n",
        "  geom_edge_link(alpha = 0.25) +\n",
        "  geom_node_point(aes(size = cent_dgr))"
      ],
      "execution_count": 0,
      "outputs": []
    },
    {
      "cell_type": "markdown",
      "metadata": {
        "id": "iukmEXi4-uwo",
        "colab_type": "text"
      },
      "source": [
        "\n",
        "### Color\n",
        "\n"
      ]
    },
    {
      "cell_type": "code",
      "metadata": {
        "autoscroll": false,
        "collapsed": true,
        "id": "1cBaFPVP-uwq",
        "colab_type": "code",
        "colab": {}
      },
      "source": [
        "g %>% ggraph(layout = 'nicely') +\n",
        "  geom_edge_link(alpha = 0.25) +\n",
        "  geom_node_point(aes(size = cent_dgr,\n",
        "                      color = community))"
      ],
      "execution_count": 0,
      "outputs": []
    },
    {
      "cell_type": "markdown",
      "metadata": {
        "id": "SWWgiLpM-uwu",
        "colab_type": "text"
      },
      "source": [
        "\n",
        "### Shapes\n",
        "\n"
      ]
    },
    {
      "cell_type": "code",
      "metadata": {
        "autoscroll": false,
        "collapsed": true,
        "id": "z7e7sBWg-uwv",
        "colab_type": "code",
        "colab": {}
      },
      "source": [
        "shapes()"
      ],
      "execution_count": 0,
      "outputs": []
    },
    {
      "cell_type": "code",
      "metadata": {
        "autoscroll": false,
        "collapsed": true,
        "id": "7v-UsCoH-uw0",
        "colab_type": "code",
        "colab": {}
      },
      "source": [
        "g %>% ggraph(layout = 'nicely') +\n",
        "  geom_edge_link(alpha = 0.25) +\n",
        "  geom_node_point(aes(size = cent_dgr,\n",
        "                      color = community,\n",
        "                      shape = gender)) +\n",
        "  theme_graph()"
      ],
      "execution_count": 0,
      "outputs": []
    },
    {
      "cell_type": "markdown",
      "metadata": {
        "id": "6eAaoDAv-uw5",
        "colab_type": "text"
      },
      "source": [
        "\n",
        "### Labels\n",
        "\n",
        "With the `geom_node_text` geometry, we can also ad labels to the node. They are subject to common aestetics.\n",
        "\n"
      ]
    },
    {
      "cell_type": "code",
      "metadata": {
        "autoscroll": false,
        "collapsed": true,
        "id": "4wIzE-wC-uw7",
        "colab_type": "code",
        "colab": {}
      },
      "source": [
        "g %>% ggraph(layout = 'nicely') +\n",
        "  geom_edge_link(alpha = 0.25) +\n",
        "  geom_node_text(aes(label = label,\n",
        "                     size = cent_dgr))"
      ],
      "execution_count": 0,
      "outputs": []
    },
    {
      "cell_type": "markdown",
      "metadata": {
        "id": "Okiv5n0G-uxC",
        "colab_type": "text"
      },
      "source": [
        "\n",
        "In large graphs, plotting labels can appear messy, so it might make sense to only focus on important nodes to label\n",
        "\n"
      ]
    },
    {
      "cell_type": "code",
      "metadata": {
        "autoscroll": false,
        "collapsed": true,
        "id": "UPNWltx4-uxD",
        "colab_type": "code",
        "colab": {}
      },
      "source": [
        "g %>% ggraph(layout = 'nicely') +\n",
        "  geom_edge_link(alpha = 0.25) +\n",
        "  geom_edge_link(alpha = 0.25) +\n",
        "  geom_node_point(aes(size = cent_dgr,\n",
        "                      color = community,\n",
        "                      shape = gender)) +\n",
        "  geom_node_text(aes(label = label,\n",
        "                     filter = cent_dgr >= cent_dgr %>% quantile(0.8)),\n",
        "                 repel = TRUE) +\n",
        "  theme_graph()"
      ],
      "execution_count": 0,
      "outputs": []
    },
    {
      "cell_type": "markdown",
      "metadata": {
        "id": "kDW4rYRi-uxI",
        "colab_type": "text"
      },
      "source": [
        "\n",
        "## Edge Visualization\n",
        "\n",
        "So, now that we captured nodes, lets see how we can highlight aspects of edges, which are visualized with the geometries of the `geom_edge_*` family.\n",
        "\n",
        "### Size\n",
        "\n"
      ]
    },
    {
      "cell_type": "code",
      "metadata": {
        "autoscroll": false,
        "collapsed": true,
        "id": "1uotZjYT-uxP",
        "colab_type": "code",
        "colab": {}
      },
      "source": [
        "g %>% ggraph(layout = 'nicely') +\n",
        "  geom_edge_link(aes(size = weight), alpha = 0.25) +\n",
        "  geom_node_point(aes(size = cent_dgr,\n",
        "                      color = community,\n",
        "                      shape = gender),\n",
        "                  show.legend = FALSE) +\n",
        "  theme_graph()"
      ],
      "execution_count": 0,
      "outputs": []
    },
    {
      "cell_type": "markdown",
      "metadata": {
        "id": "ctyRiRqf-uxT",
        "colab_type": "text"
      },
      "source": [
        "\n",
        "### Color\n",
        "\n",
        "Notice, since we want to represent the colors of potentially multiple edges between a node pair, I now use the `geom_edge_fan` geometry.\n",
        "\n"
      ]
    },
    {
      "cell_type": "code",
      "metadata": {
        "autoscroll": false,
        "collapsed": true,
        "id": "CiDD87WT-uxU",
        "colab_type": "code",
        "colab": {}
      },
      "source": [
        "g %>% ggraph(layout = 'nicely') +\n",
        "  geom_edge_fan(aes(size = weight,\n",
        "                     color = year), alpha = 0.25) +\n",
        "  geom_node_point(aes(size = cent_dgr,\n",
        "                      color = community,\n",
        "                      shape = gender),\n",
        "                  show.legend = FALSE) +\n",
        "  theme_graph()"
      ],
      "execution_count": 0,
      "outputs": []
    },
    {
      "cell_type": "markdown",
      "metadata": {
        "id": "yHRD_iG_-uxY",
        "colab_type": "text"
      },
      "source": [
        "\n",
        "### Density\n",
        "\n"
      ]
    },
    {
      "cell_type": "code",
      "metadata": {
        "autoscroll": false,
        "collapsed": true,
        "id": "RS7OtLRv-uxZ",
        "colab_type": "code",
        "colab": {}
      },
      "source": [
        "g %>% ggraph(layout = 'nicely') +\n",
        "  geom_edge_link(alpha = 0.1) +\n",
        "  geom_edge_density(aes(fill = year)) +\n",
        "  geom_node_point(aes(size = cent_dgr,\n",
        "                      color = community,\n",
        "                      shape = gender),\n",
        "                  show.legend = FALSE) +\n",
        "  theme_graph()"
      ],
      "execution_count": 0,
      "outputs": []
    },
    {
      "cell_type": "markdown",
      "metadata": {
        "id": "V3zaW3pl-uxe",
        "colab_type": "text"
      },
      "source": [
        "\n",
        "### Directionality\n",
        "\n",
        "The easiestb way to express directionality is by defining the `arrow()`, which comes with own aestetics.\n",
        "\n"
      ]
    },
    {
      "cell_type": "code",
      "metadata": {
        "autoscroll": false,
        "collapsed": true,
        "id": "WdqblIEB-uxf",
        "colab_type": "code",
        "colab": {}
      },
      "source": [
        "g %>% ggraph(layout = 'nicely') +\n",
        "  geom_edge_fan(aes(size = weight,\n",
        "                    color = year,\n",
        "                    shape = year),\n",
        "                arrow = arrow(type = \"closed\", length = unit(2, \"mm\")),\n",
        "                start_cap = circle(1, \"mm\"),\n",
        "                end_cap = circle(1, \"mm\"),\n",
        "                alpha = 0.5) +\n",
        "  geom_node_point(aes(size = cent_dgr,\n",
        "                      color = community,\n",
        "                      shape = gender),\n",
        "                  show.legend = FALSE) +\n",
        "  theme_graph()"
      ],
      "execution_count": 0,
      "outputs": []
    },
    {
      "cell_type": "markdown",
      "metadata": {
        "id": "-bWNU4ZR-uxk",
        "colab_type": "text"
      },
      "source": [
        "\n",
        "Another nice trick is to work with alphas or colors, which change between start and end node.\n",
        "\n"
      ]
    },
    {
      "cell_type": "code",
      "metadata": {
        "autoscroll": false,
        "collapsed": true,
        "id": "xtmy7ckN-uxl",
        "colab_type": "code",
        "colab": {}
      },
      "source": [
        "g %>%\n",
        "  ggraph(layout = 'nicely') +\n",
        "  geom_edge_fan(aes(size = weight,\n",
        "                    color = community_from, # Notice that\n",
        "                    shape = year,\n",
        "                    alpha = stat(index)) # Notice that\n",
        "                ) +\n",
        "  geom_node_point(aes(size = cent_dgr,\n",
        "                      color = community,\n",
        "                      shape = gender),\n",
        "                  show.legend = FALSE) +\n",
        "  theme_graph() +\n",
        "  scale_edge_alpha(\"Edge direction\", guide = \"edge_direction\")"
      ],
      "execution_count": 0,
      "outputs": []
    },
    {
      "cell_type": "markdown",
      "metadata": {
        "id": "zYsM_twv-uxq",
        "colab_type": "text"
      },
      "source": [
        "\n",
        "\n",
        "## Layouts\n",
        "\n",
        "### Ordinary graph style\n",
        "\n"
      ]
    },
    {
      "cell_type": "code",
      "metadata": {
        "Rmd_chunk_options": "fig.height=10, fig.width= 20",
        "autoscroll": false,
        "collapsed": true,
        "id": "A5lfLhDs-uxs",
        "colab_type": "code",
        "colab": {}
      },
      "source": [
        "pacman::p_load(ggpubr)\n",
        "layout_list <- c(\"randomly\", \"circle\", \"grid\", \"fr\", \"kk\", \"graphopt\")\n",
        "\n",
        "g_list <- list(NULL)\n",
        "for(i in 1:length(layout_list)){\n",
        "  g_list[[i]] <-g %>%\n",
        "    ggraph(layout = layout_list[i]) +\n",
        "    geom_edge_fan(aes(size = weight)) +\n",
        "    geom_node_point(aes(size = cent_dgr,\n",
        "                        color = community),\n",
        "                    show.legend = FALSE) +\n",
        "    theme_graph() +\n",
        "    labs(title = paste(\"Layout:\", layout_list[i], sep = \" \"))\n",
        "}\n",
        "\n",
        "ggarrange(plotlist = g_list, nrow = 2, ncol = 3, common.legend = TRUE, legend = \"bottom\")\n"
      ],
      "execution_count": 0,
      "outputs": []
    },
    {
      "cell_type": "markdown",
      "metadata": {
        "id": "VlSfFRkB-uxw",
        "colab_type": "text"
      },
      "source": [
        "\n",
        "### Arcs and circles\n",
        "\n"
      ]
    },
    {
      "cell_type": "code",
      "metadata": {
        "autoscroll": false,
        "collapsed": true,
        "id": "oBluznmG-uxy",
        "colab_type": "code",
        "colab": {}
      },
      "source": [
        "# An arc diagram\n",
        "g %>% ggraph(layout = 'linear') +\n",
        "  geom_edge_arc(aes(colour = community_from)) +\n",
        "  geom_node_point(aes(size = cent_dgr,\n",
        "                      color = community),\n",
        "                  show.legend = FALSE) +\n",
        "    theme_graph()"
      ],
      "execution_count": 0,
      "outputs": []
    },
    {
      "cell_type": "code",
      "metadata": {
        "autoscroll": false,
        "collapsed": true,
        "id": "85vb1yUT-ux5",
        "colab_type": "code",
        "colab": {}
      },
      "source": [
        "# An arc diagram\n",
        "g %>% ggraph(layout = \"linear\", circular = TRUE) +\n",
        "  geom_edge_arc(aes(colour = community_from)) +\n",
        "  geom_node_point(aes(size = cent_dgr,\n",
        "                      color = community),\n",
        "                  show.legend = FALSE) +\n",
        "    theme_graph()"
      ],
      "execution_count": 0,
      "outputs": []
    },
    {
      "cell_type": "markdown",
      "metadata": {
        "id": "YNIbmA4e-uyB",
        "colab_type": "text"
      },
      "source": [
        "\n",
        "\n",
        "### Hive plots\n",
        "\n",
        "A hive plot, while still technically a node-edge diagram, is a bit different from the rest as it uses information pertaining to the nodes, rather than the connection information in the graph. This means that hive plots, to a certain extent are more interpretable as well as less vulnerable to small changes in the graph structure. They are less common though, so use will often require some additional explanation.\n",
        "\n"
      ]
    },
    {
      "cell_type": "code",
      "metadata": {
        "autoscroll": false,
        "collapsed": true,
        "id": "FZTcJyeG-uyC",
        "colab_type": "code",
        "colab": {}
      },
      "source": [
        "g %>%\n",
        "  ggraph(layout = \"hive\", axis = \"community\") +\n",
        "  geom_edge_hive(aes(colour = factor(year))) +\n",
        "  geom_axis_hive(aes(colour = community), size = 2, label = FALSE) +\n",
        "  coord_fixed() +\n",
        "  theme_graph()"
      ],
      "execution_count": 0,
      "outputs": []
    },
    {
      "cell_type": "markdown",
      "metadata": {
        "id": "u1fymdCE-uyJ",
        "colab_type": "text"
      },
      "source": [
        "\n",
        "\n",
        "### Hirarchies\n",
        "\n"
      ]
    },
    {
      "cell_type": "code",
      "metadata": {
        "autoscroll": false,
        "collapsed": true,
        "id": "k7juRP76-uyL",
        "colab_type": "code",
        "colab": {}
      },
      "source": [
        "flare$vertices %>% head()"
      ],
      "execution_count": 0,
      "outputs": []
    },
    {
      "cell_type": "code",
      "metadata": {
        "autoscroll": false,
        "collapsed": true,
        "id": "iyCT8kgK-uyP",
        "colab_type": "code",
        "colab": {}
      },
      "source": [
        "flare$edges %>% head()"
      ],
      "execution_count": 0,
      "outputs": []
    },
    {
      "cell_type": "code",
      "metadata": {
        "autoscroll": false,
        "collapsed": true,
        "id": "jYN0kCBv-uyS",
        "colab_type": "code",
        "colab": {}
      },
      "source": [
        "g <- tbl_graph(flare$vertices, flare$edges)"
      ],
      "execution_count": 0,
      "outputs": []
    },
    {
      "cell_type": "code",
      "metadata": {
        "autoscroll": false,
        "collapsed": true,
        "id": "uc67edyo-uyW",
        "colab_type": "code",
        "colab": {}
      },
      "source": [
        "# An icicle plot\n",
        "g %>% ggraph('partition') +\n",
        "  geom_node_tile(aes(fill = depth), size = 0.25)"
      ],
      "execution_count": 0,
      "outputs": []
    },
    {
      "cell_type": "code",
      "metadata": {
        "autoscroll": false,
        "collapsed": true,
        "id": "pbkmMoUF-uyb",
        "colab_type": "code",
        "colab": {}
      },
      "source": [
        "# A sunburst plot\n",
        "g %>% ggraph('partition', circular = TRUE) +\n",
        "  geom_node_arc_bar(aes(fill = depth), size = 0.25) +\n",
        "  coord_fixed()"
      ],
      "execution_count": 0,
      "outputs": []
    },
    {
      "cell_type": "code",
      "metadata": {
        "autoscroll": false,
        "collapsed": true,
        "id": "RdJtT5hI-uyh",
        "colab_type": "code",
        "colab": {}
      },
      "source": [
        "g %>% ggraph('circlepack') + # , weight = size\n",
        "  geom_node_circle(aes(fill = depth), size = 0.25, n = 50) +\n",
        "  coord_fixed()"
      ],
      "execution_count": 0,
      "outputs": []
    },
    {
      "cell_type": "code",
      "metadata": {
        "autoscroll": false,
        "collapsed": true,
        "id": "AJn20BNE-uyo",
        "colab_type": "code",
        "colab": {}
      },
      "source": [
        "g %>% ggraph('tree') +\n",
        "  geom_edge_diagonal()"
      ],
      "execution_count": 0,
      "outputs": []
    },
    {
      "cell_type": "code",
      "metadata": {
        "autoscroll": false,
        "collapsed": true,
        "id": "_xonojvf-uyt",
        "colab_type": "code",
        "colab": {}
      },
      "source": [
        "rm(list=ls())"
      ],
      "execution_count": 0,
      "outputs": []
    },
    {
      "cell_type": "markdown",
      "metadata": {
        "id": "1M672LMX-uyy",
        "colab_type": "text"
      },
      "source": [
        "\n",
        "\n",
        "# Multi-Modal Networks\n",
        "\n",
        "Now its time to talk about an interesting type of networks, multi-modal. This means, a network has several \"modes\", meaning connects entities on different conceptual levels. The most commone one is a **2-mode** (or **bipartite**) network. Examples could be an Author $\\rightarrow$ Paper, Inventor $\\rightarrow$ Patent, Member $\\rightarrow$ Club network. Here, the elements in the different modes represent different things.\n",
        "\n",
        "We can alalyse them in sepperation (and sometimes we should), but often its helpful to \"project\"\" them onto one mode. Here, we create a node in one mode by joint association with another mode.\n",
        "\n",
        "![](https://www.dropbox.com/s/e4vnq7kh24pyu0t/networks_2mode.png?dl=1{width=500px}\n",
        "\n",
        "While that sounds simple, it can be a very powerful technique, as I will demonstrate now.\n",
        "\n",
        "\n"
      ]
    },
    {
      "cell_type": "code",
      "metadata": {
        "autoscroll": false,
        "id": "7JbDsw62-uyz",
        "colab_type": "code",
        "colab": {}
      },
      "source": [
        "#data <- whigs %>% as_tibble()\n",
        "#data %>% head()"
      ],
      "execution_count": 0,
      "outputs": []
    },
    {
      "cell_type": "code",
      "metadata": {
        "autoscroll": false,
        "id": "LV68c9VC-uy8",
        "colab_type": "code",
        "colab": {}
      },
      "source": [
        "g <- create_bipartite(20, 5, directed = FALSE, mode = \"out\")"
      ],
      "execution_count": 0,
      "outputs": []
    },
    {
      "cell_type": "code",
      "metadata": {
        "autoscroll": false,
        "id": "A9SPDj-v-uzD",
        "colab_type": "code",
        "colab": {}
      },
      "source": [
        "g"
      ],
      "execution_count": 0,
      "outputs": []
    },
    {
      "cell_type": "code",
      "metadata": {
        "autoscroll": false,
        "id": "ZpCn7qDG-uzH",
        "colab_type": "code",
        "colab": {}
      },
      "source": [
        "g %>% ggraph(\"bipartite\") +\n",
        "  geom_edge_link() +\n",
        "  theme_graph()"
      ],
      "execution_count": 0,
      "outputs": []
    },
    {
      "cell_type": "markdown",
      "metadata": {
        "id": "fnzzW6kq-uzK",
        "colab_type": "text"
      },
      "source": [
        "\n",
        "\n",
        "# Case study: Bibliographic networks\n",
        "\n",
        "## Basics\n",
        "\n",
        "Lets talk about bibliographic networks. In short, that are networks between documents which cite each others. That can be (commonly) academic publications, but also patents or policy reports. Conceptually, we can see them as 2 mode networks, between articles and their reference. That helps us to apply some interesting metrics, such as:\n",
        "\n",
        "* direct citations\n",
        "* Bibliographic coupling\n",
        "* Co--citations\n",
        "\n",
        "Interestingly, different projections of this 2-mode network give the whole resulting 1-mode network a different meaning.\n",
        "\n",
        "![](https://www.dropbox.com/s/f8g8nr83lucvpqx/networks_biblio.png?dl=1){width=500px}\n",
        "\n",
        "\n",
        "I will illustrate more in detail in the following. The example is absed on some own work.[^1]\n",
        "\n",
        "## Doing it by hand\n",
        "\n",
        "Lets imagine we do it the hard way. We download some bibliographic data, and have to do all the munging on our own, till we end up with a nice network representation. Lets go through some of these steps together.\n",
        "\n",
        "Lets get started. I will load some bibliographic data (selection process explained in the paper) on articles concerned with the field of \"Innovation Studies\". It already went through some upfront cleaning, but is very similar to what you get when you download data from WoS.\n",
        "\n"
      ]
    },
    {
      "cell_type": "code",
      "metadata": {
        "autoscroll": false,
        "id": "FQCFeWQC-uzL",
        "colab_type": "code",
        "colab": {}
      },
      "source": [
        "rm(list=ls())\n",
        "articles <- readRDS(url(\"https://www.dropbox.com/s/oumm3n0km316im4/publications.RDS?dl=1\"))"
      ],
      "execution_count": 0,
      "outputs": []
    },
    {
      "cell_type": "code",
      "metadata": {
        "autoscroll": false,
        "id": "wTgcVdpH-uzQ",
        "colab_type": "code",
        "colab": {}
      },
      "source": [
        "articles %<>%\n",
        "  select(SR, AU, TI, JI, PY, AU_UN, DE, TC, NR, CR) %>%\n",
        "  rename(article = SR,\n",
        "         author = AU,\n",
        "         title = TI,\n",
        "         journal = JI,\n",
        "         year = PY,\n",
        "         affiliation = AU_UN,\n",
        "         keywords = DE,\n",
        "         citations = TC,\n",
        "         references = NR,\n",
        "         reference.list = CR)"
      ],
      "execution_count": 0,
      "outputs": []
    },
    {
      "cell_type": "code",
      "metadata": {
        "autoscroll": false,
        "id": "gTy5Zg3t-uzU",
        "colab_type": "code",
        "colab": {}
      },
      "source": [
        "articles %>%\n",
        "  arrange(desc(citations)) %>%\n",
        "  glimpse()"
      ],
      "execution_count": 0,
      "outputs": []
    },
    {
      "cell_type": "markdown",
      "metadata": {
        "id": "NNyaUXYk-uzX",
        "colab_type": "text"
      },
      "source": [
        "\n",
        "\n",
        "So, where are the links to the references? Its a bit messy, they are all found in the `CRF` field, sepperated by `;`.\n",
        "\n"
      ]
    },
    {
      "cell_type": "code",
      "metadata": {
        "autoscroll": false,
        "id": "nCRAASZ4-uzc",
        "colab_type": "code",
        "colab": {}
      },
      "source": [
        "articles[1, \"reference.list\"]"
      ],
      "execution_count": 0,
      "outputs": []
    },
    {
      "cell_type": "markdown",
      "metadata": {
        "id": "jWyTGIs4-uzk",
        "colab_type": "text"
      },
      "source": [
        "\n",
        "I will now transfere them to an article $\\rightarrow$ reference edgelist. Since its a lot of data, I will here use the `data.table` package functionality. I usually avoid it, because I hate the syntax. However, its just way faster, and when working with large bibliometric corpus that matters.\n",
        "\n",
        "\n"
      ]
    },
    {
      "cell_type": "code",
      "metadata": {
        "autoscroll": false,
        "id": "M98z2ubb-uzl",
        "colab_type": "code",
        "colab": {}
      },
      "source": [
        "citation.el <- data.table(article = articles$article,\n",
        "                          str_split_fixed(articles$reference.list, \";\", max(articles$references, na.rm=T)))\n",
        "\n",
        "citation.el <- melt(citation.el, id.vars = \"article\")[, variable:= NULL][value!=\"\"]\n",
        "\n",
        "citation.el %<>%\n",
        "  rename(reference = value) %>%\n",
        "  arrange(article,reference)"
      ],
      "execution_count": 0,
      "outputs": []
    },
    {
      "cell_type": "code",
      "metadata": {
        "autoscroll": false,
        "id": "cZvrjWiz-uzo",
        "colab_type": "code",
        "colab": {}
      },
      "source": [
        "citation.el %>% head()"
      ],
      "execution_count": 0,
      "outputs": []
    },
    {
      "cell_type": "markdown",
      "metadata": {
        "id": "1w3jh5Jk-uzs",
        "colab_type": "text"
      },
      "source": [
        "\n",
        "\n",
        "\n",
        "Likewise, I will transfer this into a sparse 2-mode matrix. I amke it sparse because its way more efficient.\n",
        "\n"
      ]
    },
    {
      "cell_type": "code",
      "metadata": {
        "autoscroll": false,
        "id": "NzHQCDTK-uzu",
        "colab_type": "code",
        "colab": {}
      },
      "source": [
        "library(Matrix)\n",
        "mat <- spMatrix(nrow=length(unique(citation.el$article)),\n",
        "                ncol=length(unique(citation.el$reference)),\n",
        "                i = as.numeric(factor(citation.el$article)),\n",
        "                j = as.numeric(factor(citation.el$reference)),\n",
        "                x = rep(1, length(as.numeric(citation.el$article))) )\n",
        "row.names(mat) <- levels(factor(citation.el$article))\n",
        "colnames(mat) <- levels(factor(citation.el$reference))"
      ],
      "execution_count": 0,
      "outputs": []
    },
    {
      "cell_type": "code",
      "metadata": {
        "autoscroll": false,
        "id": "6ITi1U5R-uz0",
        "colab_type": "code",
        "colab": {}
      },
      "source": [
        "mat %>% str()"
      ],
      "execution_count": 0,
      "outputs": []
    },
    {
      "cell_type": "markdown",
      "metadata": {
        "id": "fA2Dd9CU-uz9",
        "colab_type": "text"
      },
      "source": [
        "\n",
        "\n",
        "Here again, I use a efficient way to create the 1-mode projection. This is done by taking the matrix, and taking the dotproduct of its pransposed version (`m %*% t(m)`). For the one that still remember some matrix algebra, that will sound familiar.\n",
        "\n"
      ]
    },
    {
      "cell_type": "code",
      "metadata": {
        "autoscroll": false,
        "id": "u7z6zBmW-u0A",
        "colab_type": "code",
        "colab": {}
      },
      "source": [
        "mat.art <- tcrossprod(mat)\n",
        "# mat.ref <- crossprod(mat)"
      ],
      "execution_count": 0,
      "outputs": []
    },
    {
      "cell_type": "code",
      "metadata": {
        "autoscroll": false,
        "id": "7AL_CMeu-u0H",
        "colab_type": "code",
        "colab": {}
      },
      "source": [
        "rm(mat)"
      ],
      "execution_count": 0,
      "outputs": []
    },
    {
      "cell_type": "markdown",
      "metadata": {
        "id": "kY8jNgbT-u0K",
        "colab_type": "text"
      },
      "source": [
        "\n",
        "So far so good, lets put it in a graph. I also set the attributes right away.\n",
        "\n"
      ]
    },
    {
      "cell_type": "code",
      "metadata": {
        "autoscroll": false,
        "id": "JllaKVMX-u0L",
        "colab_type": "code",
        "colab": {}
      },
      "source": [
        "g <- graph_from_adjacency_matrix(mat.art,\n",
        "                                 mode = \"undirected\",\n",
        "                                 weighted = T,\n",
        "                                 diag = F)\n",
        "# Note: The gfraph creation with the original `igraph` functionality, since `tidygraph` up to now has issues with sparse matrices."
      ],
      "execution_count": 0,
      "outputs": []
    },
    {
      "cell_type": "code",
      "metadata": {
        "autoscroll": false,
        "id": "FNSvZF5q-u0Q",
        "colab_type": "code",
        "colab": {}
      },
      "source": [
        "rm(mat.art)"
      ],
      "execution_count": 0,
      "outputs": []
    },
    {
      "cell_type": "markdown",
      "metadata": {
        "id": "Fuq6QDsJ-u0T",
        "colab_type": "text"
      },
      "source": [
        "\n",
        "We now simplify the network.\n",
        "\n"
      ]
    },
    {
      "cell_type": "code",
      "metadata": {
        "autoscroll": false,
        "id": "kkCn3vxm-u0U",
        "colab_type": "code",
        "colab": {}
      },
      "source": [
        "g <- g %>% simplify(remove.multiple = T,\n",
        "                    remove.loops = T,\n",
        "                    edge.attr.comb = \"sum\")"
      ],
      "execution_count": 0,
      "outputs": []
    },
    {
      "cell_type": "markdown",
      "metadata": {
        "id": "gXtFfn5A-u0X",
        "colab_type": "text"
      },
      "source": [
        "\n",
        "And finally create a tidygraph object.\n",
        "\n"
      ]
    },
    {
      "cell_type": "code",
      "metadata": {
        "autoscroll": false,
        "id": "4TLapmte-u0Y",
        "colab_type": "code",
        "colab": {}
      },
      "source": [
        "g <- g %>% as_tbl_graph()"
      ],
      "execution_count": 0,
      "outputs": []
    },
    {
      "cell_type": "code",
      "metadata": {
        "autoscroll": false,
        "id": "-RTkBaVT-u0a",
        "colab_type": "code",
        "colab": {}
      },
      "source": [
        "g"
      ],
      "execution_count": 0,
      "outputs": []
    },
    {
      "cell_type": "markdown",
      "metadata": {
        "id": "7Ft0SheO-u0j",
        "colab_type": "text"
      },
      "source": [
        "\n",
        "\n",
        "La voila, we can start the analysis. However, the rest you by now know, so I will skip that for now. Instead, I will show you how to do that all way more convenient.\n",
        "\n"
      ]
    },
    {
      "cell_type": "code",
      "metadata": {
        "autoscroll": false,
        "id": "dKFyXwhX-u0k",
        "colab_type": "code",
        "colab": {}
      },
      "source": [
        "rm(list=ls())"
      ],
      "execution_count": 0,
      "outputs": []
    },
    {
      "cell_type": "markdown",
      "metadata": {
        "id": "HnFXkLtY-u0n",
        "colab_type": "text"
      },
      "source": [
        "\n",
        "\n",
        "## Fun with the [`bibliometrix`](http://www.bibliometrix.org/) package\n",
        "\n",
        "Since lately, the [`bibliometrix`](http://www.bibliometrix.org/) package became exteremly good, and by now almost suitable to replace my hand-made workflows. So, I will spare you the data munging, and demonstrate how to use the nice inbuild functionalities here. By doing so, you will develop a lot of intuition on network projection, and aggregation on different levels.\n",
        "\n"
      ]
    },
    {
      "cell_type": "code",
      "metadata": {
        "autoscroll": false,
        "collapsed": true,
        "id": "M-xVg00W-u0o",
        "colab_type": "code",
        "colab": {}
      },
      "source": [
        "library(bibliometrix)"
      ],
      "execution_count": 0,
      "outputs": []
    },
    {
      "cell_type": "markdown",
      "metadata": {
        "id": "b09OBDRc-u0u",
        "colab_type": "text"
      },
      "source": [
        "\n",
        "### Loading the data\n",
        "\n",
        "So, lets load some data. Since it is the topic of this lecture series, why not do a bibliographic mapping of \"Innovation system\" and \"innovation ecosystem\"\" literature. Here I use the web of science database on scientific literature. I here downloaded the following query.\n",
        "\n",
        "* **Data source**:   Clarivate Analytics Web of Science (http://apps.webofknowledge.com)\n",
        "* **Data format**:   bibtex\n",
        "* **Query**:         TOPIC: (\"innovation system\" OR \"systems of innovation\" OR \"innovation ecosystem\")\n",
        "* **Timespan**:      the beginning of time - March 2019\n",
        "* **Document Type**: Articles\n",
        "* **Language**:      English\n",
        "* **Query data**:    March, 2019\n",
        "* **Selection**:     1000 most cited\n",
        "\n",
        "We now just read the plain  data with the inbuild `convert2df()` function\n",
        "\n"
      ]
    },
    {
      "cell_type": "code",
      "metadata": {
        "autoscroll": false,
        "collapsed": true,
        "id": "fHNBINO9-u0v",
        "colab_type": "code",
        "colab": {}
      },
      "source": [
        "M <- readFiles(\"https://www.dropbox.com/s/2jh33ktj3ox7ztu/biblio_nw1.txt?dl=1\")"
      ],
      "execution_count": 0,
      "outputs": []
    },
    {
      "cell_type": "code",
      "metadata": {
        "autoscroll": false,
        "collapsed": true,
        "id": "AdOYJAT1-u0y",
        "colab_type": "code",
        "colab": {}
      },
      "source": [
        "M %<>%\n",
        "  convert2df(dbsource = \"isi\",\n",
        "             format = \"plaintext\")"
      ],
      "execution_count": 0,
      "outputs": []
    },
    {
      "cell_type": "code",
      "metadata": {
        "autoscroll": false,
        "collapsed": true,
        "id": "vW8kdEKS-u03",
        "colab_type": "code",
        "colab": {}
      },
      "source": [
        "M %>% glimpse()"
      ],
      "execution_count": 0,
      "outputs": []
    },
    {
      "cell_type": "markdown",
      "metadata": {
        "id": "3HVfIlcz-u07",
        "colab_type": "text"
      },
      "source": [
        "\n",
        "To figure out what the field mean, check the [WoS fieldtags](http://images.webofknowledge.com/WOKRS525R8.4/help/WOS/hs_wos_fieldtags.html).\n",
        "\n",
        "### Descriptive Analysis\n",
        "\n",
        "Although bibliometrics is mainly known for quantifying the scientific production and measuring its quality and impact, it is also useful for displaying and analysing the intellectual, conceptual and social structures of research as well as their evolution and dynamical aspects.\n",
        "\n",
        "In this way, bibliometrics aims to describe how specific disciplines, scientific domains, or research fields are structured and how they evolve over time. In other words, bibliometric methods help to map the science (so-called science mapping) and are very useful in the case of research synthesis, especially for the systematic ones.\n",
        "\n",
        "Bibliometrics is an academic science founded on a set of statistical methods, which can be used to analyze scientific big data quantitatively and their evolution over time and discover information. Network structure is often used to model the interaction among authors, papers/documents/articles, references, keywords, etc.\n",
        "\n",
        "Bibliometrix is an open-source software for automating the stages of data-analysis and data-visualization. After converting and uploading bibliographic data in R, Bibliometrix performs a descriptive analysis and different research-structure analysis.\n",
        "\n",
        "Descriptive analysis provides some snapshots about the annual research development, the top \"k\" productive authors, papers, countries and most relevant keywords.\n",
        "\n",
        "#### Main findings about the collection\n",
        "\n"
      ]
    },
    {
      "cell_type": "code",
      "metadata": {
        "autoscroll": false,
        "collapsed": true,
        "id": "noIyKnb5-u08",
        "colab_type": "code",
        "colab": {}
      },
      "source": [
        "results <- biblioAnalysis(M)"
      ],
      "execution_count": 0,
      "outputs": []
    },
    {
      "cell_type": "code",
      "metadata": {
        "autoscroll": false,
        "collapsed": true,
        "id": "gL9rvpil-u0_",
        "colab_type": "code",
        "colab": {}
      },
      "source": [
        "summary(results,\n",
        "        k = 20,\n",
        "        pause = F)"
      ],
      "execution_count": 0,
      "outputs": []
    },
    {
      "cell_type": "code",
      "metadata": {
        "autoscroll": false,
        "collapsed": true,
        "id": "-14586ik-u1D",
        "colab_type": "code",
        "colab": {}
      },
      "source": [
        "plot(results)"
      ],
      "execution_count": 0,
      "outputs": []
    },
    {
      "cell_type": "markdown",
      "metadata": {
        "id": "siGb5HGC-u1G",
        "colab_type": "text"
      },
      "source": [
        "\n",
        "#### Most Cited References (internally)\n",
        "\n"
      ]
    },
    {
      "cell_type": "code",
      "metadata": {
        "autoscroll": false,
        "collapsed": true,
        "id": "XZQzLEfa-u1H",
        "colab_type": "code",
        "colab": {}
      },
      "source": [
        "CR <- citations(M,\n",
        "                field = \"article\",\n",
        "                sep = \";\")\n"
      ],
      "execution_count": 0,
      "outputs": []
    },
    {
      "cell_type": "code",
      "metadata": {
        "autoscroll": false,
        "collapsed": true,
        "id": "aUtzaJ0k-u1K",
        "colab_type": "code",
        "colab": {}
      },
      "source": [
        "cbind(CR$Cited[1:10]) %>% head()"
      ],
      "execution_count": 0,
      "outputs": []
    },
    {
      "cell_type": "markdown",
      "metadata": {
        "id": "ozQkEiN2-u1P",
        "colab_type": "text"
      },
      "source": [
        "\n",
        "\n",
        "### Bibliographic Copling Analysis: The Knowledge Frontier of the Field\n",
        "\n",
        "Bibliographic coupling is a newer technique, which has turned out to be very appropriate to capture a fields current knowledge frontier. I will show you how to do it here, but in case you are interested, read my paper :)\n",
        "\n",
        "\n"
      ]
    },
    {
      "cell_type": "code",
      "metadata": {
        "Rmd_chunk_options": "fig.width=15,fig.height=15",
        "autoscroll": false,
        "collapsed": true,
        "id": "Xf0VPvk3-u1Q",
        "colab_type": "code",
        "colab": {}
      },
      "source": [
        "NetMatrix <- biblioNetwork(M,\n",
        "                           analysis = \"coupling\",\n",
        "                           network = \"references\",\n",
        "                           sep = \";\")"
      ],
      "execution_count": 0,
      "outputs": []
    },
    {
      "cell_type": "code",
      "metadata": {
        "Rmd_chunk_options": "fig.width=15,fig.height=15",
        "autoscroll": false,
        "collapsed": true,
        "id": "A5ZFItcI-u1V",
        "colab_type": "code",
        "colab": {}
      },
      "source": [
        "net <-networkPlot(NetMatrix,\n",
        "            n = 50,\n",
        "            Title = \"Bibliographic Coupling Network\",\n",
        "            type = \"fruchterman\",\n",
        "            size.cex = TRUE,\n",
        "            size = 20,\n",
        "            remove.multiple = FALSE,\n",
        "            labelsize = 0.7,\n",
        "            edgesize = 10,\n",
        "            edges.min = 5)"
      ],
      "execution_count": 0,
      "outputs": []
    },
    {
      "cell_type": "markdown",
      "metadata": {
        "id": "tRChhZnb-u1Y",
        "colab_type": "text"
      },
      "source": [
        "\n",
        "\n",
        "### Co-citation Analysis: The Intellectual Structure and Knowledge Bases of the field\n",
        "\n",
        "Citation analysis is one of the main classic techniques in bibliometrics. It shows the structure of a specific field through the linkages between nodes (e.g. authors, papers, journal), while the edges can be differently interpretated depending on the network type, that are namely co-citation, direct citation, bibliographic coupling.\n",
        "\n",
        "Below there are three examples.\n",
        "\n",
        "* First, a co-citation network that shows relations between cited-reference works (nodes).\n",
        "* Second, a co-citation network that uses cited-journals as unit of analysis. The useful dimensions to comment the co-citation networks are: (i) centrality and peripherality of nodes, (ii) their proximity and distance, (iii) strength of ties, (iv) clusters, (iiv) bridging contributions.\n",
        "* Third, a historiograph is built on direct citations. It draws the intellectual linkages in a historical order. Cited works of thousands of authors contained in a collection of published scientific articles is sufficient for recostructing the historiographic structure of the field, calling out the basic works in it.\n",
        "\n",
        "\n",
        "#### Co-citation (cited references) analysis\n",
        "\n",
        "**Plot options**:\n",
        "\n",
        "* n = 50 (the funxtion plots the main 50 cited references)\n",
        "* type = \"fruchterman\" (the network layout is generated using the Fruchterman-Reingold Algorithm)\n",
        "* size.cex = TRUE (the size of the vertices is proportional to their degree)\n",
        "* size = 20 (the max size of vertices)\n",
        "* remove.multiple=FALSE (multiple edges are not removed)\n",
        "* labelsize = 0.7 (defines the size of vertex labels)\n",
        "* edgesize = 10 (The thickness of the edges is proportional to their strength. Edgesize defines the max value of the thickness)\n",
        "* edges.min = 5 (plots only edges with a strength greater than or equal to 5)\n",
        "* all other arguments assume the default values\n",
        "\n"
      ]
    },
    {
      "cell_type": "code",
      "metadata": {
        "autoscroll": false,
        "collapsed": true,
        "id": "RJMxiVHI-u1b",
        "colab_type": "code",
        "colab": {}
      },
      "source": [
        "NetMatrix <- biblioNetwork(M,\n",
        "                           analysis = \"co-citation\",\n",
        "                           network = \"references\",\n",
        "                           sep = \";\")"
      ],
      "execution_count": 0,
      "outputs": []
    },
    {
      "cell_type": "code",
      "metadata": {
        "Rmd_chunk_options": "fig.width=15,fig.height=15",
        "autoscroll": false,
        "collapsed": true,
        "id": "NrJl4Kkh-u1g",
        "colab_type": "code",
        "colab": {}
      },
      "source": [
        "net <-networkPlot(NetMatrix,\n",
        "            n = 50,\n",
        "            Title = \"Co-Citation Network\",\n",
        "            type = \"fruchterman\",\n",
        "            size.cex = TRUE,\n",
        "            size = 20,\n",
        "            remove.multiple = FALSE,\n",
        "            labelsize = 0.7,\n",
        "            edgesize = 10,\n",
        "            edges.min = 5)"
      ],
      "execution_count": 0,
      "outputs": []
    },
    {
      "cell_type": "markdown",
      "metadata": {
        "id": "XEvDM7Qw-u1m",
        "colab_type": "text"
      },
      "source": [
        "\n",
        "\n",
        "#### Cited Journal (Source) co-citation analysis\n",
        "\n"
      ]
    },
    {
      "cell_type": "code",
      "metadata": {
        "autoscroll": false,
        "collapsed": true,
        "id": "twbRRLo4-u1n",
        "colab_type": "code",
        "colab": {}
      },
      "source": [
        "M <- metaTagExtraction(M, \"CR_SO\", sep=\";\")"
      ],
      "execution_count": 0,
      "outputs": []
    },
    {
      "cell_type": "code",
      "metadata": {
        "autoscroll": false,
        "collapsed": true,
        "id": "HMGZ711z-u1q",
        "colab_type": "code",
        "colab": {}
      },
      "source": [
        "NetMatrix <- biblioNetwork(M,\n",
        "                           analysis = \"co-citation\",\n",
        "                           network = \"sources\",\n",
        "                           sep = \";\")"
      ],
      "execution_count": 0,
      "outputs": []
    },
    {
      "cell_type": "code",
      "metadata": {
        "Rmd_chunk_options": "fig.width=15,fig.height=15",
        "autoscroll": false,
        "collapsed": true,
        "id": "Y-lmAivv-u1s",
        "colab_type": "code",
        "colab": {}
      },
      "source": [
        "net <-networkPlot(NetMatrix,\n",
        "            n = 50,\n",
        "            Title = \"Co-Citation Network\",\n",
        "            type = \"auto\",\n",
        "            size.cex = TRUE,\n",
        "            size = 15,\n",
        "            remove.multiple = FALSE,\n",
        "            labelsize = 0.7,\n",
        "            edgesize = 10,\n",
        "            edges.min = 5)"
      ],
      "execution_count": 0,
      "outputs": []
    },
    {
      "cell_type": "markdown",
      "metadata": {
        "id": "tw7RawgQ-u1y",
        "colab_type": "text"
      },
      "source": [
        "\n",
        "Some summary statistics. I will only provide them here, but theur are availabel for all object created with `biblioNetwork()`\n",
        "\n"
      ]
    },
    {
      "cell_type": "code",
      "metadata": {
        "autoscroll": false,
        "collapsed": true,
        "id": "0q6WGkfy-u1z",
        "colab_type": "code",
        "colab": {}
      },
      "source": [
        "netstat <- networkStat(NetMatrix)\n",
        "summary(netstat, k = 10)"
      ],
      "execution_count": 0,
      "outputs": []
    },
    {
      "cell_type": "markdown",
      "metadata": {
        "id": "-t3fHrAh-u12",
        "colab_type": "text"
      },
      "source": [
        "\n",
        "**Note:** By the way, the results contain an \"hidden\" igraph obejct. That is new, and makes further analysis of the results possible. Great!\n",
        "\n"
      ]
    },
    {
      "cell_type": "code",
      "metadata": {
        "autoscroll": false,
        "collapsed": true,
        "id": "Tt0j4nxZ-u13",
        "colab_type": "code",
        "colab": {}
      },
      "source": [
        "str(net, max.level = 2)"
      ],
      "execution_count": 0,
      "outputs": []
    },
    {
      "cell_type": "code",
      "metadata": {
        "autoscroll": false,
        "collapsed": true,
        "id": "SRunWwwg-u15",
        "colab_type": "code",
        "colab": {}
      },
      "source": [
        "net$graph %>% as_tbl_graph()"
      ],
      "execution_count": 0,
      "outputs": []
    },
    {
      "cell_type": "markdown",
      "metadata": {
        "id": "_T2ycamM-u18",
        "colab_type": "text"
      },
      "source": [
        "\n",
        "\n",
        "### The conceptual structure and context - Co-Word Analysis\n",
        "\n",
        "Co-word networks show the conceptual structure, that uncovers links between concepts through term co-occurences.\n",
        "\n",
        "Conceptual structure is often used to understand the topics covered by scholars (so-called research front) and identify what are the most important and the most recent issues.\n",
        "\n",
        "Dividing the whole timespan in different timeslices and comparing the conceptual structures is useful to analyze the evolution of topics over time.\n",
        "\n",
        "Bibliometrix is able to analyze keywords, but also the terms in the articles' titles and abstracts. It does it using network analysis or correspondance analysis (CA) or multiple correspondance analysis (MCA). CA and MCA visualise the conceptual structure in a two-dimensional plot.\n",
        "\n",
        "We can even do way more fancy stuff with abstracts or full texts (and do so). However, I dont want to spoiler Romans sessions, so I will hold myself back here\n",
        "\n",
        "#### Co-word Analysis through Keyword co-occurrences\n",
        "\n",
        "**Plot options**:\n",
        "\n",
        "* normalize = \"association\" (the vertex similarities are normalized using association strength)\n",
        "* n = 50 (the function plots the main 50 cited references)\n",
        "* type = \"fruchterman\" (the network layout is generated using the Fruchterman-Reingold Algorithm)\n",
        "* size.cex = TRUE (the size of the vertices is proportional to their degree)\n",
        "* size = 20 (the max size of the vertices)\n",
        "* remove.multiple=FALSE (multiple edges are not removed)\n",
        "* labelsize = 3 (defines the max size of vertex labels)\n",
        "* label.cex = TRUE (The vertex label sizes are proportional to their degree)\n",
        "* edgesize = 10 (The thickness of the edges is proportional to their strength. Edgesize defines the max value of the thickness)\n",
        "* label.n = 30 (Labels are plotted only for the main 30 vertices)\n",
        "* edges.min = 25 (plots only edges with a strength greater than or equal to 2)\n",
        "* all other arguments assume the default values\n",
        "\n"
      ]
    },
    {
      "cell_type": "code",
      "metadata": {
        "Rmd_chunk_options": "Keyword co-occurrences, comment=NA, fig.height=15, fig.width=15",
        "autoscroll": false,
        "collapsed": true,
        "id": "T4bYZKRw-u19",
        "colab_type": "code",
        "colab": {}
      },
      "source": [
        "NetMatrix <- biblioNetwork(M,\n",
        "                           analysis = \"co-occurrences\",\n",
        "                           network = \"keywords\",\n",
        "                           sep = \";\")"
      ],
      "execution_count": 0,
      "outputs": []
    },
    {
      "cell_type": "code",
      "metadata": {
        "autoscroll": false,
        "collapsed": true,
        "id": "Ck8z5e4H-u2B",
        "colab_type": "code",
        "colab": {}
      },
      "source": [
        "# net <- networkPlot(NetMatrix,\n",
        "#                    normalize = \"association\",\n",
        "#                    n = 50,\n",
        "#                    Title = \"Keyword Co-occurrences\",\n",
        "#                    type = \"fruchterman\",\n",
        "#                    size.cex = TRUE, size = 20, remove.multiple = FALSE,\n",
        "#                    edgesize = 10,\n",
        "#                    labelsize = 3,\n",
        "#                    label.cex = TRUE,\n",
        "#                    label.n = 50,\n",
        "#                    edges.min = 2)"
      ],
      "execution_count": 0,
      "outputs": []
    },
    {
      "cell_type": "markdown",
      "metadata": {
        "id": "NE2o5J5Z-u2F",
        "colab_type": "text"
      },
      "source": [
        "\n",
        "\n",
        "#### Co-word Analysis through Correspondence Analysis\n",
        "\n",
        "You already saw that comming, right?\n",
        "\n"
      ]
    },
    {
      "cell_type": "code",
      "metadata": {
        "autoscroll": false,
        "collapsed": true,
        "id": "5WIaj3L4-u2N",
        "colab_type": "code",
        "colab": {}
      },
      "source": [
        "CS <- conceptualStructure(M,\n",
        "                          method = \"CA\",\n",
        "                          field = \"ID\",\n",
        "                          minDegree = 10,\n",
        "                          k.max = 8,\n",
        "                          stemming = FALSE,\n",
        "                          labelsize = 8,\n",
        "                          documents = 20)"
      ],
      "execution_count": 0,
      "outputs": []
    },
    {
      "cell_type": "markdown",
      "metadata": {
        "id": "IuE_2kau-u2X",
        "colab_type": "text"
      },
      "source": [
        "\n",
        "\n",
        "#### Thematic Map\n",
        "\n",
        "Co-word analysis draws clusters of keywords. They are considered as themes, whose density and centrality can be used in classifying themes and mapping in a two-dimensional diagram.\n",
        "\n",
        "Thematic map is a very intuitive plot and we can analyze themes according to the quadrant in which they are placed: (1) upper-right quadrant: motor-themes; (2) lower-right quadrant: basic themes; (3) lower-left quadrant: emerging or disappearing themes; (4) upper-left quadrant: very specialized/niche themes.\n",
        "\n",
        "Please see Cobo, M. J., López-Herrera, A. G., Herrera-Viedma, E., & Herrera, F. (2011). An approach for detecting, quantifying, and visualizing the evolution of a research field: A practical application to the fuzzy sets theory field. Journal of Informetrics, 5(1), 146-166.\n",
        "\n"
      ]
    },
    {
      "cell_type": "code",
      "metadata": {
        "Rmd_chunk_options": "Keyword Network, fig.height15, fig.width=15",
        "autoscroll": false,
        "collapsed": true,
        "id": "ASzYXK6y-u2a",
        "colab_type": "code",
        "colab": {}
      },
      "source": [
        "NetMatrix <- biblioNetwork(M,\n",
        "                           analysis = \"co-occurrences\",\n",
        "                           network = \"keywords\",\n",
        "                           sep = \";\")\n",
        "\n",
        "S <- normalizeSimilarity(NetMatrix,\n",
        "                         type = \"association\")"
      ],
      "execution_count": 0,
      "outputs": []
    },
    {
      "cell_type": "code",
      "metadata": {
        "Rmd_chunk_options": "ThematicMap, fig.height15, fig.width=15",
        "autoscroll": false,
        "collapsed": true,
        "id": "qiTvfD7X-u2d",
        "colab_type": "code",
        "colab": {}
      },
      "source": [
        "Map <- thematicMap(M,\n",
        "                   minfreq =5 )\n",
        "plot(Map$map)"
      ],
      "execution_count": 0,
      "outputs": []
    },
    {
      "cell_type": "markdown",
      "metadata": {
        "id": "i_oEsxA5-u2i",
        "colab_type": "text"
      },
      "source": [
        "\n",
        "Lets inspect the clusters we found:\n",
        "\n"
      ]
    },
    {
      "cell_type": "code",
      "metadata": {
        "autoscroll": false,
        "collapsed": true,
        "id": "AG1brmyf-u2j",
        "colab_type": "code",
        "colab": {}
      },
      "source": [
        "clusters <-Map$words %>%\n",
        "  arrange(Cluster, desc(Occurrences))\n",
        "\n",
        "clusters %>%\n",
        "  select(Cluster, Words, Occurrences) %>%\n",
        "  group_by(Cluster) %>%\n",
        "  mutate(n.rel = Occurrences / sum(Occurrences) ) %>%\n",
        "  slice(1:3)"
      ],
      "execution_count": 0,
      "outputs": []
    },
    {
      "cell_type": "markdown",
      "metadata": {
        "id": "ATMKjJd0-u2l",
        "colab_type": "text"
      },
      "source": [
        "\n",
        "\n",
        "\n",
        "### The social structure - Collaboration Analysis\n",
        "\n",
        "Collaboration networks show how authors, institutions (e.g. universities or departments) and countries relate to others in a specific field of research. For example, the first figure below is a co-author network. It discovers regular study groups, hidden groups of scholars, and pivotal authors. The second figure is called \"Edu collaboration network\" and uncovers relevant institutions in a specific research field and their relations.\n",
        "\n",
        "#### Author collaboration network\n"
      ]
    },
    {
      "cell_type": "code",
      "metadata": {
        "Rmd_chunk_options": "Au collaboration network, fig.height=15, fig.width=15",
        "autoscroll": false,
        "collapsed": true,
        "id": "W2ACjGLf-u2m",
        "colab_type": "code",
        "colab": {}
      },
      "source": [
        "NetMatrix <- biblioNetwork(M,\n",
        "                           analysis = \"collaboration\",\n",
        "                           network = \"authors\",\n",
        "                           sep = \";\")\n",
        "\n",
        "S <- normalizeSimilarity(NetMatrix, type = \"jaccard\")\n",
        "\n",
        "net <- networkPlot(S,\n",
        "                   n = 50,\n",
        "                   Title = \"Author collaboration\",\n",
        "                   type = \"auto\",\n",
        "                   size = 10,\n",
        "                   weighted = TRUE,\n",
        "                   remove.isolates = TRUE,\n",
        "                   size.cex = TRUE,\n",
        "                   edgesize = 1,\n",
        "                   labelsize = 0.6)"
      ],
      "execution_count": 0,
      "outputs": []
    },
    {
      "cell_type": "markdown",
      "metadata": {
        "id": "9lVQg61H-u2p",
        "colab_type": "text"
      },
      "source": [
        "\n",
        "\n",
        "#### Edu collaboration network\n",
        "\n"
      ]
    },
    {
      "cell_type": "code",
      "metadata": {
        "Rmd_chunk_options": "Edu collaboration network, fig.height=10, fig.width=10",
        "autoscroll": false,
        "collapsed": true,
        "id": "A7JNVKCW-u2q",
        "colab_type": "code",
        "colab": {}
      },
      "source": [
        "NetMatrix <- biblioNetwork(M,\n",
        "                           analysis = \"collaboration\",\n",
        "                           network = \"universities\",\n",
        "                           sep = \";\")\n",
        "\n",
        "net <- networkPlot(NetMatrix,\n",
        "                   n = 50,\n",
        "                   Title = \"Edu collaboration\",\n",
        "                   type = \"auto\",\n",
        "                   size = 10,\n",
        "                   size.cex = T,\n",
        "                   edgesize = 3,\n",
        "                   labelsize = 0.6)"
      ],
      "execution_count": 0,
      "outputs": []
    },
    {
      "cell_type": "markdown",
      "metadata": {
        "id": "r3YPxmdc-u2s",
        "colab_type": "text"
      },
      "source": [
        "\n",
        "\n",
        "\n",
        "\n",
        "#### Country collaboration network\n",
        "\n"
      ]
    },
    {
      "cell_type": "code",
      "metadata": {
        "Rmd_chunk_options": "Co collaboration network, fig.height=15, fig.width=15",
        "autoscroll": false,
        "collapsed": true,
        "id": "5rJh-n3a-u2t",
        "colab_type": "code",
        "colab": {}
      },
      "source": [
        "M <- metaTagExtraction(M,\n",
        "                       Field = \"AU_CO\",\n",
        "                       sep = \";\")\n",
        "\n",
        "NetMatrix <- biblioNetwork(M,\n",
        "                           analysis = \"collaboration\",\n",
        "                           network = \"countries\",\n",
        "                           sep = \";\")\n",
        "\n",
        "net <- networkPlot(NetMatrix,\n",
        "                   n = dim(NetMatrix)[1],\n",
        "                   Title = \"Country collaboration\",\n",
        "                   type = \"sphere\",\n",
        "                   cluster = \"lovain\",\n",
        "                   weighted = TRUE,\n",
        "                   size = 10,\n",
        "                   size.cex = T,\n",
        "                   edgesize = 1,\n",
        "                   labelsize = 0.6)"
      ],
      "execution_count": 0,
      "outputs": []
    },
    {
      "cell_type": "markdown",
      "metadata": {
        "id": "QKJP0D_x-u2u",
        "colab_type": "text"
      },
      "source": [
        "\n",
        "\n",
        "Isn't that all a lot of fun?\n",
        "\n",
        "By now you should have realized that different leevel of projection and aggregation offer almost endless possibilities for analysis of ibliographic data!\n",
        "\n",
        "By the way: We can also do all of that with `tidygraph` and `ggraph`\n",
        "\n"
      ]
    },
    {
      "cell_type": "code",
      "metadata": {
        "autoscroll": false,
        "collapsed": true,
        "id": "qif8s5LB-u2w",
        "colab_type": "code",
        "colab": {}
      },
      "source": [
        "g <- NetMatrix %>% as.matrix() %>% as_tbl_graph(directed = FALSE)\n",
        "g"
      ],
      "execution_count": 0,
      "outputs": []
    },
    {
      "cell_type": "code",
      "metadata": {
        "autoscroll": false,
        "collapsed": true,
        "id": "FSndXyEV-u26",
        "colab_type": "code",
        "colab": {}
      },
      "source": [
        "g <- g %N>%\n",
        "    mutate(community = as.factor(group_louvain(weights = weight)))"
      ],
      "execution_count": 0,
      "outputs": []
    },
    {
      "cell_type": "code",
      "metadata": {
        "autoscroll": false,
        "collapsed": true,
        "id": "CmLg5Suf-u2_",
        "colab_type": "code",
        "colab": {}
      },
      "source": [
        "g %N>%\n",
        "  mutate(dgr = centrality_degree(weights = weight)) %>%\n",
        "  arrange(desc(dgr)) %>%\n",
        "  slice(1:200) %>%\n",
        "  ggraph(layout = 'fr') +\n",
        "  geom_edge_link(aes(width = weight), alpha = 0.2, colour = \"grey\") +\n",
        "  geom_node_point(aes(colour = community, size = dgr)) +\n",
        "  geom_node_text(aes(label = name), size = 1, repel = FALSE) +\n",
        "  theme_graph()"
      ],
      "execution_count": 0,
      "outputs": []
    },
    {
      "cell_type": "markdown",
      "metadata": {
        "id": "I_uZL8EH-u3B",
        "colab_type": "text"
      },
      "source": [
        "\n",
        "\n",
        "## Your turn\n",
        "Please do **Exercise 1** in the corresponding section on `Github`. This time you are about to do your own bibliographic analysis!\n",
        "\n",
        "# Endnotes\n",
        "\n",
        "### References\n",
        "\n",
        "[^1]: Rakas, M., & Hain, D. S. (2019). The state of innovation system research: What happens beneath the surface?. Research Policy, 45 (9). DOI: https://doi.org/10.1016/j.respol.2019.04.011\n",
        "\n",
        "\n",
        "### More info\n",
        "You can find more info about:\n",
        "\n",
        "* `tidygraph` [here](https://tidygraph.data-imaginist.com/)\n",
        "* `ggraph` [here](https://ggraph.data-imaginist.com/)\n",
        "* `bibliometrix` [here](http://www.bibliometrix.org/)\n",
        "* `TidyScientometrix` [here](https://github.com/daniel-hain/TidyScientometrix)\n",
        "\n",
        "\n",
        "### Session info\n"
      ]
    },
    {
      "cell_type": "code",
      "metadata": {
        "autoscroll": false,
        "collapsed": true,
        "id": "3ygVdhGL-u3B",
        "colab_type": "code",
        "colab": {}
      },
      "source": [
        "sessionInfo()"
      ],
      "execution_count": 0,
      "outputs": []
    },
    {
      "cell_type": "markdown",
      "metadata": {
        "id": "Kb3Sxbxb-u3E",
        "colab_type": "text"
      },
      "source": [
        "\n"
      ]
    }
  ]
}