{
  "nbformat": 4,
  "nbformat_minor": 0,
  "metadata": {
    "Rmd_header": {
      "author": "Daniel S. Hain (dsh@business.aau.dk)",
      "date": "Updated `r format(Sys.time(), '%B %d, %Y')`",
      "output": {
        "html_document": {
          "code_folding": "hide",
          "df_print": "paged",
          "theme": "flatly",
          "toc": true,
          "toc_depth": 2,
          "toc_float": {
            "collapsed": false
          }
        }
      },
      "title": "M2-2: Introduction to Network Analysis (Part II)"
    },
    "kernelspec": {
      "display_name": "R",
      "language": "R",
      "name": "ir"
    },
    "language_info": {
      "codemirror_mode": "r",
      "file_extension": ".r",
      "mimetype": "text/x-r-source",
      "name": "R",
      "pygments_lexer": "r"
    },
    "colab": {
      "name": "M2_2_network_analysis_directedX.ipynb",
      "provenance": [],
      "include_colab_link": true
    }
  },
  "cells": [
    {
      "cell_type": "markdown",
      "metadata": {
        "id": "view-in-github",
        "colab_type": "text"
      },
      "source": [
        "<a href=\"https://colab.research.google.com/github/SDS-AAU/M2-2019/blob/master/notebooks/M2_2_network_analysis_directedX.ipynb\" target=\"_parent\"><img src=\"https://colab.research.google.com/assets/colab-badge.svg\" alt=\"Open In Colab\"/></a>"
      ]
    },
    {
      "cell_type": "code",
      "metadata": {
        "Rmd_chunk_options": "setup, include=FALSE",
        "autoscroll": false,
        "id": "Jzbm4NfcmoYK",
        "colab_type": "code",
        "colab": {}
      },
      "source": [
        "### Generic preamble\n",
        "Sys.setenv(LANG = \"en\") # For english language\n",
        "options(scipen = 5) # To deactivate annoying scientific number notation\n",
        "set.seed(1337) # To have a seed defined for reproducability\n",
        "\n",
        "### Knitr options\n",
        "if (!require(\"knitr\")) install.packages(\"knitr\"); library(knitr) # For display of the markdown\n",
        "knitr::opts_chunk$set(warning=FALSE,\n",
        "                     message=FALSE,\n",
        "                     fig.align=\"center\"\n",
        "                     )\n",
        "\n",
        "### Install packages if necessary\n",
        "if (!require(\"pacman\")) install.packages(\"pacman\") # package for loading and checking packages :)\n",
        "pacman::p_load(tidyverse, # Standard datasciewnce toolkid (dplyr, ggplot2 et al.)\n",
        "               magrittr, # For advanced piping (%>% et al.)\n",
        "               igraph, # For network analysis\n",
        "               tidygraph, # For tidy-style graph manipulation\n",
        "               ggraph, # For ggplot2 style graph plotting\n",
        "               Matrix, # For some matrix functionality\n",
        "               data.table # For fast table manipulations (and fread)\n",
        "               )"
      ],
      "execution_count": 0,
      "outputs": []
    },
    {
      "cell_type": "markdown",
      "metadata": {
        "id": "kMDpMsnUmoYN",
        "colab_type": "text"
      },
      "source": [
        "\n",
        "Welcome to your second part of the introduction to network analysis. In this session you will learn:\n",
        "\n",
        "1. xxx\n",
        "\n",
        "# Introduction\n",
        "\n",
        "# Directed networks\n",
        "\n"
      ]
    },
    {
      "cell_type": "code",
      "metadata": {
        "autoscroll": false,
        "id": "9tmoz_j3moYO",
        "colab_type": "code",
        "colab": {}
      },
      "source": [
        "highschool %>%\n",
        "  head()"
      ],
      "execution_count": 0,
      "outputs": []
    },
    {
      "cell_type": "code",
      "metadata": {
        "autoscroll": false,
        "id": "6KVqzLj6moYR",
        "colab_type": "code",
        "colab": {}
      },
      "source": [
        "g <- highschool %>%\n",
        "  as_tbl_graph(directed = TRUE)\n",
        "g"
      ],
      "execution_count": 0,
      "outputs": []
    },
    {
      "cell_type": "code",
      "metadata": {
        "autoscroll": false,
        "id": "XNxpWpV2moYU",
        "colab_type": "code",
        "colab": {}
      },
      "source": [
        "p_load(randomNames)\n",
        "\n",
        "g <- g %N>%\n",
        "  mutate(gender = rbinom(n = n(), size = 1, prob = 0.5),\n",
        "         label= randomNames(gender = gender, name.order = \"first.last\"))"
      ],
      "execution_count": 0,
      "outputs": []
    },
    {
      "cell_type": "code",
      "metadata": {
        "autoscroll": false,
        "id": "LAR1PCGTmoYX",
        "colab_type": "code",
        "colab": {}
      },
      "source": [
        "g %E>%\n",
        "  ggraph(layout = \"nicely\") +\n",
        "    geom_edge_link(arrow = arrow()) +\n",
        "    geom_node_point() +\n",
        "    theme_graph() +\n",
        "    facet_edges(~year)"
      ],
      "execution_count": 0,
      "outputs": []
    },
    {
      "cell_type": "code",
      "metadata": {
        "autoscroll": false,
        "id": "2j8IbDMfmoYa",
        "colab_type": "code",
        "colab": {}
      },
      "source": [
        "g <- g %E>%\n",
        "  filter(year == 1958) %N>%\n",
        "  filter(!node_is_isolated())"
      ],
      "execution_count": 0,
      "outputs": []
    },
    {
      "cell_type": "markdown",
      "metadata": {
        "id": "Lnu5QKU0moYc",
        "colab_type": "text"
      },
      "source": [
        "\n",
        "## Centrality measures\n",
        "\n"
      ]
    },
    {
      "cell_type": "code",
      "metadata": {
        "autoscroll": false,
        "id": "NkZiZ2dQmoYd",
        "colab_type": "code",
        "colab": {}
      },
      "source": [
        "g <- g %N>%\n",
        "  mutate(cent_dgr_in = centrality_degree(mode = \"in\"),\n",
        "         cent_dgr_out = centrality_degree(mode = \"out\"))"
      ],
      "execution_count": 0,
      "outputs": []
    },
    {
      "cell_type": "markdown",
      "metadata": {
        "id": "6eQ2RUNBmoYf",
        "colab_type": "text"
      },
      "source": [
        "\n",
        "## Community Structures\n",
        "\n",
        "\n",
        "\n",
        "\n",
        "# Case: Lawyers, Friends & Foes\n",
        "\n",
        "## Introduction to the case\n",
        "\n",
        "Emmanuel Lazega, The Collegial Phenomenon: The Social Mechanisms of Cooperation Among Peers in a Corporate Law Partnership, Oxford University Press (2001).\n",
        "\n",
        "### Data\n",
        "This data set comes from a network study of corporate law partnership that was carried out in a Northeastern US corporate law firm, referred to as SG&R, 1988-1991 in New England. It includes (among others) measurements of networks among the 71 attorneys (partners and associates) of this firm, i.e. their strong-coworker network, advice network, friendship network, and indirect control networks. Various members' attributes are also part of the dataset, including seniority, formal status, office in which they work, gender, lawschool attended, individual performance measurements (hours worked, fees brought in), attitudes concerning various management policy options, etc. This dataset was used to identify social processes such as bounded solidarity, lateral control, quality control, knowledge sharing, balancing powers, regulation, etc. among peers.\n",
        "\n",
        "### Setting\n",
        "* What do corporate lawyers do? Litigation and corporate work.\n",
        "* Division of work and interdependencies.\n",
        "* Three offices, no departments, built-in pressures to grow, intake and assignment rules.\n",
        "* Partners and associates: hierarchy, up or out rule, billing targets.\n",
        "* Partnership agreement (sharing benefits equally, 90% exclusion rule, governance structure, elusive committee system) and incompleteness of the contracts.\n",
        "* Informal, unwritten rules (ex: no moonlighting, no investment in buildings, no nepotism, no borrowing to pay partners, etc.).\n",
        "* Huge incentives to behave opportunistically ; thus the dataset is appropriate for the study of social processes that make cooperation among rival partners possible.\n",
        "* Sociometric name generators used to elicit coworkers, advice, and 'friendship' ties at SG&R:\"Here is the list of all the members of your Firm.\"\n",
        "\n",
        "The networks where created according to the follwoing questionaire:\n",
        "\n",
        "* Strong coworkers network: \"Because most firms like yours are also organized very informally, it is difficult to get a clear idea of how the members really work together. Think back over the past year, consider all the lawyers in your Firm. Would you go through this list and check the names of those with whom you have worked with. By \"worked with\" I mean that you have spent time together on at least one case, that you have been assigned to the same case, that they read or used your work product or that you have read or used their work product; this includes professional work done within the Firm like Bar association work, administration, etc.\"\n",
        "* Basic advice network: \"Think back over the past year, consider all the lawyers in your Firm. To whom did you go for basic professional advice? For instance, you want to make sure that you are handling a case right, making a proper decision, and you want to consult someone whose professional opinions are in general of great value to you. By advice I do not mean simply technical advice.\"\n",
        "* 'Friendship' network:\n",
        "\"Would you go through this list, and check the names of those you socialize with outside work. You know their family, they know yours, for instance. I do not mean all the people you are simply on a friendly level with, or people you happen to meet at Firm functions.\"\n",
        "\n",
        "## Data preperation\n",
        "\n",
        "###  Load the data\n",
        "\n",
        "Lets load the data! The three networks refer to cowork, friendship, and advice. The first 36 respondents are the partners in the firm.\n",
        "\n"
      ]
    },
    {
      "cell_type": "code",
      "metadata": {
        "autoscroll": false,
        "id": "Mcmr7-9BmoYg",
        "colab_type": "code",
        "colab": {}
      },
      "source": [
        "# Note the .dat format is a bit unconfortable to load with readr, since we have to specify the delimiters on our own. Therefore I use the convenient fread function by the data.table package, which is able to detect them without help\n",
        "\n",
        "mat_friendship <- fread(\"https://www.dropbox.com/s/0saiulir3pr566k/ELfriend.dat?dl=1\") %>% as.matrix()\n",
        "mat_advice <- fread(\"https://www.dropbox.com/s/apq42n1grim23k9/ELadv.dat?dl=1\") %>% as.matrix(dimnames = list(c(1:nrow(.)), c(1:ncol(.))))\n",
        "mat_work <- fread(\"https://www.dropbox.com/s/dliz0sd7or8tv01/ELwork.dat?dl=1\") %>% as.matrix(dimnames = list(c(1:nrow(.)), c(1:ncol(.))))\n",
        "\n",
        "dimnames(mat_friendship) = list(c(1:nrow(mat_friendship)), c(1:ncol(mat_friendship)))\n",
        "dimnames(mat_advice) = list(c(1:nrow(mat_advice)), c(1:ncol(mat_advice)))\n",
        "dimnames(mat_work) = list(c(1:nrow(mat_work)), c(1:ncol(mat_work)))\n",
        "# Note that we have to overwrite the column and rownames of the matrices with 1:71 (corresponding to the name codes in the nodeslist)"
      ],
      "execution_count": 0,
      "outputs": []
    },
    {
      "cell_type": "markdown",
      "metadata": {
        "id": "NleBUY4KmoYj",
        "colab_type": "text"
      },
      "source": [
        "\n",
        "We also load a set of\n",
        "\n"
      ]
    },
    {
      "cell_type": "code",
      "metadata": {
        "autoscroll": false,
        "id": "6K0Bt-yhmoYk",
        "colab_type": "code",
        "colab": {}
      },
      "source": [
        "nodes <- fread(\"https://www.dropbox.com/s/qz7fvfgx8lvjgpr/ELattr.dat?dl=1\") %>% as_tibble()"
      ],
      "execution_count": 0,
      "outputs": []
    },
    {
      "cell_type": "code",
      "metadata": {
        "autoscroll": false,
        "id": "Si6stCZLmoYn",
        "colab_type": "code",
        "colab": {}
      },
      "source": [
        "nodes %>% head()"
      ],
      "execution_count": 0,
      "outputs": []
    },
    {
      "cell_type": "markdown",
      "metadata": {
        "id": "0kdGYOGRmoYq",
        "colab_type": "text"
      },
      "source": [
        "\n",
        "\n",
        "### Cleaning up\n",
        "\n",
        "The variables in `nodes` are unnamed, but from the paper I know how they are coded, so we can give them names.\n",
        "\n"
      ]
    },
    {
      "cell_type": "code",
      "metadata": {
        "autoscroll": false,
        "id": "oDjJT8_omoYr",
        "colab_type": "code",
        "colab": {}
      },
      "source": [
        "colnames(nodes) <- c(\"name\", \"seniority\", \"gender\", \"office\", \"tenure\", \"age\", \"practice\", \"school\")"
      ],
      "execution_count": 0,
      "outputs": []
    },
    {
      "cell_type": "markdown",
      "metadata": {
        "id": "j0eyTS5CmoYu",
        "colab_type": "text"
      },
      "source": [
        "\n",
        "We can also recode the numeric codes in the data into something more intuitive. I agaion know from the data description of the paper the coding.\n",
        "\n",
        "* seniority status (1=partner; 2=associate)\n",
        "* gender (1=man; 2=woman)\n",
        "* office (1=Boston; 2=Hartford; 3=Providence)\n",
        "* years with the firm\n",
        "* age\n",
        "* practice (1=litigation; 2=corporate)\n",
        "* law school (1: harvard, yale; 2: ucon; 3: other)\n",
        "\n"
      ]
    },
    {
      "cell_type": "code",
      "metadata": {
        "autoscroll": false,
        "id": "NzaemksrmoYv",
        "colab_type": "code",
        "colab": {}
      },
      "source": [
        "nodes %<>%\n",
        "  mutate(seniority = recode(seniority, \"1\" = \"Partner\", \"2\" = \"Associate\"),\n",
        "         gender = recode(gender, \"1\" = \"Man\", \"2\" = \"Woman\"),\n",
        "         office = recode(office, \"1\" = \"Boston\", \"2\" = \"Hartford\", \"3\" = \"Providence\"),\n",
        "         practice = recode(practice, \"1\" = \"Litigation\", \"2\" = \"Corporate\"),\n",
        "         school = recode(school, \"1\" = \"Harvard, Yale\", \"2\" = \"Ucon\", \"3\" = \"Others\"))"
      ],
      "execution_count": 0,
      "outputs": []
    },
    {
      "cell_type": "code",
      "metadata": {
        "autoscroll": false,
        "id": "RRWPq40-moYx",
        "colab_type": "code",
        "colab": {}
      },
      "source": [
        "nodes %>% head()"
      ],
      "execution_count": 0,
      "outputs": []
    },
    {
      "cell_type": "markdown",
      "metadata": {
        "id": "8bLLun6nmoYz",
        "colab_type": "text"
      },
      "source": [
        "\n",
        "\n",
        "### Generate the graph\n",
        "\n"
      ]
    },
    {
      "cell_type": "code",
      "metadata": {
        "autoscroll": false,
        "collapsed": true,
        "id": "4spqJG4SmoY0",
        "colab_type": "code",
        "colab": {}
      },
      "source": [
        "g_friendship <- mat_friendship %>% as_tbl_graph(directed = TRUE) %E>%\n",
        "  mutate(type = \"friendship\") %N>%\n",
        "  mutate(name = name %>% as.numeric()) %>%\n",
        "  left_join(nodes, by = \"name\")\n",
        "\n",
        "g_advice <- mat_advice %>% as_tbl_graph(directed = TRUE) %E>%\n",
        "  mutate(type = \"advice\") %N>%\n",
        "  mutate(name = name %>% as.numeric()) %>%\n",
        "  left_join(nodes, by = \"name\")\n",
        "\n",
        "g_work <- mat_work %>% as_tbl_graph(directed = TRUE) %E>%\n",
        "  mutate(type = \"work\") %N>%\n",
        "  mutate(name = name %>% as.numeric()) %>%\n",
        "  left_join(nodes, by = \"name\")\n",
        "\n",
        "# Notice: The node names are taken from the matrices dimnames as string, therefore need to be converted as numeric"
      ],
      "execution_count": 0,
      "outputs": []
    },
    {
      "cell_type": "code",
      "metadata": {
        "autoscroll": false,
        "collapsed": true,
        "id": "ZC90eaWwmoY3",
        "colab_type": "code",
        "colab": {}
      },
      "source": [
        "g <- g_friendship %>%\n",
        "  graph_join(g_advice, by = \"name\") %>%\n",
        "  graph_join(g_work, by = \"name\")"
      ],
      "execution_count": 0,
      "outputs": []
    },
    {
      "cell_type": "code",
      "metadata": {
        "autoscroll": false,
        "collapsed": true,
        "id": "TkNEIKKYmoY6",
        "colab_type": "code",
        "colab": {}
      },
      "source": [
        "g %>%\n",
        "  ggraph(layout = \"nicely\") +\n",
        "  geom_node_point() +\n",
        "  geom_edge_fan(aes(col = type), arrow = arrow(), alpha = 0.5) +\n",
        "  theme_graph() +\n",
        "  facet_edges(~type)"
      ],
      "execution_count": 0,
      "outputs": []
    },
    {
      "cell_type": "code",
      "metadata": {
        "Rmd_chunk_options": "fig.width=15,fig.height=15",
        "autoscroll": false,
        "collapsed": true,
        "id": "7KwTz4UrmoY8",
        "colab_type": "code",
        "colab": {}
      },
      "source": [
        "plot(g,\n",
        "     layout= layout_with_fr(g),\n",
        "     vertex.label = degree(g, mode = \"in\"),\n",
        "     vertex.size = 1+ sqrt(degree(g, mode = \"in\")),\n",
        "     vertex.color = as.numeric(factor(V(g)$office)),\n",
        "     vertex.label = NA,\n",
        "     edge.arrow.size = 0.5)"
      ],
      "execution_count": 0,
      "outputs": []
    },
    {
      "cell_type": "markdown",
      "metadata": {
        "id": "uYUige0kmoZA",
        "colab_type": "text"
      },
      "source": [
        "\n",
        "\n",
        "\n",
        "## Network effects & structures\n",
        "\n",
        "### Node level (local)\n",
        "\n",
        "We could look at all the node level characteristics (degree, betweenness etc.) again, but for the sake of time I skip that for now, since its all already in the last notebook.\n",
        "\n",
        "### Network level (global)\n",
        "\n",
        "Ok, lets do the whole exercise with getting the main-determinants of the network structure again. We can look at the classical structural determinants.\n",
        "\n"
      ]
    },
    {
      "cell_type": "code",
      "metadata": {
        "autoscroll": false,
        "id": "KeSMmbajmoZB",
        "colab_type": "code",
        "colab": {}
      },
      "source": [
        "# Get density of a graph\n",
        "edge_density(g)\n",
        "\n",
        "# Get the diameter of the graph g\n",
        "diameter(g, directed = TRUE)\n",
        "\n",
        "# Get the average path length of the graph g\n",
        "mean_distance(g, directed = TRUE)\n",
        "\n",
        "# Transistivity\n",
        "transitivity(g, type =\"global\")\n",
        "\n",
        "# recipricity\n",
        "reciprocity(g)"
      ],
      "execution_count": 0,
      "outputs": []
    },
    {
      "cell_type": "markdown",
      "metadata": {
        "id": "as8f0cCymoZE",
        "colab_type": "text"
      },
      "source": [
        "\n",
        "The last two ones make even mores sense in social networks, don't they?\n",
        "\n",
        "We have another important concept that often explains edge-formation: **Assortativity**, anso called **homopholy**. This is a measure of how preferentially attached vertices are to other vertices with identical attributes. In other words: How much \"*birds of the same feather flock together *\".\n",
        "\n",
        "Lets first look at people of the same tenure flock together.\n",
        "\n"
      ]
    },
    {
      "cell_type": "code",
      "metadata": {
        "autoscroll": false,
        "id": "LonntvjVmoZF",
        "colab_type": "code",
        "colab": {}
      },
      "source": [
        "assortativity(g, V(g)$tenure, directed = TRUE)"
      ],
      "execution_count": 0,
      "outputs": []
    },
    {
      "cell_type": "markdown",
      "metadata": {
        "id": "UPqk44AYmoZH",
        "colab_type": "text"
      },
      "source": [
        "\n",
        "What about people from elite universities?\n",
        "\n",
        "\n"
      ]
    },
    {
      "cell_type": "code",
      "metadata": {
        "autoscroll": false,
        "id": "rPscrt0mmoZI",
        "colab_type": "code",
        "colab": {}
      },
      "source": [
        "assortativity(g, V(g)$school == \"Harvard, Yale\", directed = TRUE)"
      ],
      "execution_count": 0,
      "outputs": []
    },
    {
      "cell_type": "markdown",
      "metadata": {
        "id": "bAtIw82ZmoZL",
        "colab_type": "text"
      },
      "source": [
        "\n",
        "Lastly, what about the popularity (or \"Matthew\") effect?\n",
        "\n"
      ]
    },
    {
      "cell_type": "code",
      "metadata": {
        "autoscroll": false,
        "id": "eZXJIgqmmoZM",
        "colab_type": "code",
        "colab": {}
      },
      "source": [
        "assortativity(g, degree(g, mode = \"in\"), directed = TRUE)"
      ],
      "execution_count": 0,
      "outputs": []
    },
    {
      "cell_type": "markdown",
      "metadata": {
        "id": "Ezdl591smoZP",
        "colab_type": "text"
      },
      "source": [
        "\n",
        "Also not that much.....\n",
        "\n",
        "One more thing we didn't talk about yet: Small worlds.\n",
        "\n",
        "Small worlds are an interesting network structure, combining short path lenght betwen the nodes with a high clustering coefficient. That means, that we have small interconected clusters, which are in turn connected by **gatekeepers** (the edges we call **bridges** or **structural holes**).\n",
        "\n",
        "![](../media/M2_1_smallworld2.jpg){width=500px}\n",
        "\n",
        "This leads to an interesting setup, which has proven to be conductive for efficient communication and fast diffusion of information in social networks.\n",
        "\n",
        "![](../media/M2_1_smallworld1.jpg){width=500px}\n",
        "\n",
        "We calculate it for now in an easy way:\n",
        "\n"
      ]
    },
    {
      "cell_type": "code",
      "metadata": {
        "autoscroll": false,
        "id": "DvGbEi7gmoZP",
        "colab_type": "code",
        "colab": {}
      },
      "source": [
        "transitivity(g, type =\"global\") / mean_distance(g, directed = TRUE)"
      ],
      "execution_count": 0,
      "outputs": []
    },
    {
      "cell_type": "markdown",
      "metadata": {
        "id": "EnchN_-BmoZS",
        "colab_type": "text"
      },
      "source": [
        "\n",
        "However, you by now probably wonder how to interprete this numbers. Are they high, low, or whatever? What is the reference? In fact, it's very hard to say. The best way to say something about that is to compare it with what a random network would look like.\n",
        "\n",
        "So, lets create a random network. Here, we use the `erdos.renyi.game()` function, which creates a network with a given number of nodes and edge-density, but where the edges are constructed completely random.\n",
        "\n"
      ]
    },
    {
      "cell_type": "code",
      "metadata": {
        "autoscroll": false,
        "id": "ze2vevt6moZT",
        "colab_type": "code",
        "colab": {}
      },
      "source": [
        "g.r <- erdos.renyi.game(n = gorder(g),\n",
        "                        p.or.m = gsize(g),\n",
        "                        type = \"gnm\",\n",
        "                        directed = TRUE,\n",
        "                        loops = FALSE)\n",
        "plot(g.r)"
      ],
      "execution_count": 0,
      "outputs": []
    },
    {
      "cell_type": "markdown",
      "metadata": {
        "id": "qqyHuvhvmoZW",
        "colab_type": "text"
      },
      "source": [
        "\n",
        "Looks kind of different. However, one randomly created network doesn't present a good abseline. So, lets better create a bunch, and compare our network to the average values of the randomly generated ones.\n",
        "\n"
      ]
    },
    {
      "cell_type": "code",
      "metadata": {
        "autoscroll": false,
        "id": "qrDXWoK-moZX",
        "colab_type": "code",
        "colab": {}
      },
      "source": [
        "# Generate 1000 random graphs\n",
        "g.l <- vector('list',1000)\n",
        "\n",
        "for(i in 1:1000){\n",
        "  g.l[[i]] <- erdos.renyi.game(n = gorder(g),\n",
        "                        p.or.m = gsize(g),\n",
        "                        type = \"gnm\",\n",
        "                        directed = TRUE,\n",
        "                        loops = FALSE)\n",
        "}"
      ],
      "execution_count": 0,
      "outputs": []
    },
    {
      "cell_type": "markdown",
      "metadata": {
        "id": "3bGEsb2ymoZb",
        "colab_type": "text"
      },
      "source": [
        "\n",
        "\n",
        "Now we can see how meaningful our observed network statistics are, by comparing them with the mean of the statistics in the random network.\n",
        "\n"
      ]
    },
    {
      "cell_type": "code",
      "metadata": {
        "autoscroll": false,
        "id": "iuZiUyY9moZc",
        "colab_type": "code",
        "colab": {}
      },
      "source": [
        "# Calculate average path length of 1000 random graphs\n",
        "dist.r <- mean(unlist(lapply(g.l, mean_distance, directed = TRUE)))\n",
        "cc.r <- mean(unlist(lapply(g.l, transitivity, type =\"global\")))\n",
        "rp.r <- mean(unlist(lapply(g.l, reciprocity)))"
      ],
      "execution_count": 0,
      "outputs": []
    },
    {
      "cell_type": "markdown",
      "metadata": {
        "id": "AjpX9NHYmoZg",
        "colab_type": "text"
      },
      "source": [
        "\n",
        "Lets see:\n",
        "\n"
      ]
    },
    {
      "cell_type": "code",
      "metadata": {
        "autoscroll": false,
        "id": "8MTIQyCwmoZh",
        "colab_type": "code",
        "colab": {}
      },
      "source": [
        "stats.friend <- tibble(density = edge_density(g),\n",
        "                       diameter = diameter(g, directed = TRUE),\n",
        "                       reciprocity = reciprocity(g),\n",
        "                       reciprocity.score = mean(reciprocity(g) > rp.r),\n",
        "                       distance = mean_distance(g, directed = TRUE),\n",
        "                       distance.score = mean(mean_distance(g, directed = TRUE) > dist.r),\n",
        "                       clustering = transitivity(g, type =\"global\"),\n",
        "                       clustering.score = mean(transitivity(g, type =\"global\")  > cc.r),\n",
        "                       small.world = mean(transitivity(g, type =\"global\")  > cc.r) / mean(mean_distance(g, directed = TRUE) > dist.r) )\n",
        "\n",
        "stats.friend"
      ],
      "execution_count": 0,
      "outputs": []
    },
    {
      "cell_type": "markdown",
      "metadata": {
        "id": "XkscKavOmoZj",
        "colab_type": "text"
      },
      "source": [
        "\n",
        "\n",
        "## Your turn\n",
        "\n",
        "Its time for you to explore the data a bit on your own. You can find it  [here](https://www.kaggle.com/danielhain/sds-2018-m2-3-nw-exercise-1).\n",
        "\n",
        "\n",
        "\n",
        "\n",
        "# Multi-Modal Networks\n",
        "\n",
        "Now its time to talk about an interesting type of networks, multi-modal. This means, a network has several \"modes\", meaning connects entities on different conceptual levels. The most commone one is a **2-mode** (or **bipartite**) network. Examples could be an Author $\\rightarrow$ Paper, Inventor $\\rightarrow$ Patent, Member $\\rightarrow$ Club network. Here, the elements in the different modes represent different things.\n",
        "\n",
        "We can alalyse them in sepperation (and sometimes we should), but often its helpful to \"project\"\" them onto one mode. Here, we create a node in one mode by joint association with another mode.\n",
        "\n",
        "![](../media/M2_3_2mode.png){width=500px}\n",
        "\n",
        "While that sounds simple, it can be a very powerful technique, as I will demonstrate now.\n",
        "\n",
        "\n",
        "\n",
        "# Case study: Bibliographic networks\n",
        "\n",
        "## Basics\n",
        "\n",
        "Lets talk about bibliographic networks. In short, that are networks between documents which cite each others. That can be (commonly) academic publications, but also patents or policy reports. Conceptually, we can see them as 2 mode networks, between articles and their reference. That helps us to apply some interesting metrics, such as:\n",
        "\n",
        "* direct citations\n",
        "* Bibliographic coupling\n",
        "* Co--citations\n",
        "\n",
        "Interestingly, different projections of this 2-mode network give the whole resulting 1-mode network a different meaning.\n",
        "\n",
        "![](../media/M2_3_biblio.png){width=500px}\n",
        "\n",
        "I will illustrate more in detail in the following.\n",
        "\n",
        "## Doing it by hand\n",
        "\n",
        "Lets imagine we do it the hard way. We download some bibliographic data, and have to do all the munging on our own, till we end up with a nice network representation. Lets go through some of these steps together.\n",
        "\n",
        "The example is absed on some own work, which is currently under revision, but made available for you:\n",
        "\n",
        "[Rakas, M and Hain, D, (under revision), \"Innovation System Research: Where It\n",
        "Came From, and What It Is Now\"](https://rawgit.com/SDS-AAU/M2-2018/master/material/The_Development_of_Innovation_System_Research_RR1.pdf)\n",
        "\n",
        "Lets get started. I will load some bibliographic data (selection process explained in the paper) on articles concerned with the field of \"Innovation Studies\". It already went through some upfront cleaning, but is very similar to what you get when you download data from WoS.\n",
        "\n",
        "\n"
      ]
    },
    {
      "cell_type": "code",
      "metadata": {
        "autoscroll": false,
        "id": "LutHqQ82moZk",
        "colab_type": "code",
        "colab": {}
      },
      "source": [
        "rm(list=ls())\n",
        "\n",
        "articles <- readRDS(\"../input/biblio/publications.RDS\")\n",
        "\n",
        "articles %<>%\n",
        "  select(SR, AU, TI, JI, PY, AU_UN, DE, TC, NR, CR) %>%\n",
        "  rename(article = SR,\n",
        "         author = AU,\n",
        "         title = TI,\n",
        "         journal = JI,\n",
        "         year = PY,\n",
        "         affiliation = AU_UN,\n",
        "         keywords = DE,\n",
        "         citations = TC,\n",
        "         references = NR,\n",
        "         reference.list = CR)\n",
        "\n",
        "articles %>%\n",
        "  arrange(desc(citations)) %>%\n",
        "  head(20)"
      ],
      "execution_count": 0,
      "outputs": []
    },
    {
      "cell_type": "markdown",
      "metadata": {
        "id": "RVf7acJHmoZn",
        "colab_type": "text"
      },
      "source": [
        "\n",
        "So, where are the links to the references? Its a bit messy, they are all found in the `CRF` field, sepperated by `;`.\n",
        "\n"
      ]
    },
    {
      "cell_type": "code",
      "metadata": {
        "autoscroll": false,
        "id": "K0fMB4p7moZo",
        "colab_type": "code",
        "colab": {}
      },
      "source": [
        "articles[1, \"reference.list\"]"
      ],
      "execution_count": 0,
      "outputs": []
    },
    {
      "cell_type": "markdown",
      "metadata": {
        "id": "mvz97r9hmoZr",
        "colab_type": "text"
      },
      "source": [
        "\n",
        "I will now transfere them to an article $\\rightarrow$ reference edgelist. Since its a lot of data, I will here use the `data.table` package functionality. I usually avoid it, because I ahte the syntax. However, its just way faster.\n",
        "\n"
      ]
    },
    {
      "cell_type": "code",
      "metadata": {
        "autoscroll": false,
        "id": "eu6F25wrmoZs",
        "colab_type": "code",
        "colab": {}
      },
      "source": [
        "citation.el <- data.table(article = articles$article,\n",
        "                          str_split_fixed(articles$reference.list, \";\", max(articles$references, na.rm=T)))\n",
        "\n",
        "citation.el <- melt(citation.el, id.vars = \"article\")[, variable:= NULL][value!=\"\"]\n",
        "\n",
        "citation.el %<>%\n",
        "  rename(reference = value) %>%\n",
        "  arrange(article,reference)\n",
        "head(citation.el)"
      ],
      "execution_count": 0,
      "outputs": []
    },
    {
      "cell_type": "markdown",
      "metadata": {
        "id": "gp-_pZammoZx",
        "colab_type": "text"
      },
      "source": [
        "\n",
        "Likewise, I will transfer this into a sparse 2-mode matrix. I amke it sparse because its way more efficient.\n",
        "\n"
      ]
    },
    {
      "cell_type": "code",
      "metadata": {
        "autoscroll": false,
        "id": "Gn3wXgX5moZx",
        "colab_type": "code",
        "colab": {}
      },
      "source": [
        "library(Matrix)\n",
        "mat <- spMatrix(nrow=length(unique(citation.el$article)),\n",
        "                ncol=length(unique(citation.el$reference)),\n",
        "                i = as.numeric(factor(citation.el$article)),\n",
        "                j = as.numeric(factor(citation.el$reference)),\n",
        "                x = rep(1, length(as.numeric(citation.el$article))) )\n",
        "row.names(mat) <- levels(factor(citation.el$article))\n",
        "colnames(mat) <- levels(factor(citation.el$reference))\n",
        "\n",
        "str(mat)"
      ],
      "execution_count": 0,
      "outputs": []
    },
    {
      "cell_type": "markdown",
      "metadata": {
        "id": "5EcIAFXpmoZ0",
        "colab_type": "text"
      },
      "source": [
        "\n",
        "Here again, I use a efficient way to create the 1-mode projection. This is done by taking the matrix, and taking the dotproduct of its pransposed version (`m %*% t(m)`). For the one that still remember some matrix algebra, that will sound familiar.\n",
        "\n"
      ]
    },
    {
      "cell_type": "code",
      "metadata": {
        "autoscroll": false,
        "id": "28U8BBdDmoZ1",
        "colab_type": "code",
        "colab": {}
      },
      "source": [
        "mat.art <- tcrossprod(mat)\n",
        "mat.ref <- tcrossprod(t(mat))\n",
        "rm(mat)"
      ],
      "execution_count": 0,
      "outputs": []
    },
    {
      "cell_type": "markdown",
      "metadata": {
        "id": "-2T_e4BwmoZ3",
        "colab_type": "text"
      },
      "source": [
        "\n",
        "So far so good, lets put it in a graph. I also set the attributes right away.\n",
        "\n"
      ]
    },
    {
      "cell_type": "code",
      "metadata": {
        "autoscroll": false,
        "id": "LRj1XcuGmoZ3",
        "colab_type": "code",
        "colab": {}
      },
      "source": [
        "require(igraph)\n",
        "g <- graph_from_adjacency_matrix(mat.art,\n",
        "                                 mode = \"undirected\",\n",
        "                                 weighted = T,\n",
        "                                 diag = F) ; rm(mat.art)\n",
        "\n",
        "g <- simplify(g,\n",
        "              remove.multiple = T,\n",
        "              remove.loops = T,\n",
        "              edge.attr.comb = \"sum\")\n",
        "\n",
        "temp <- tibble(article = V(g)$name) %>%\n",
        "  left_join(articles %>% select(article, year, citations, references), by = \"article\")\n",
        "\n",
        "g <- set_vertex_attr(g, \"year\", value = temp$year)\n",
        "g <- set_vertex_attr(g, \"citations\", value = temp$citations)\n",
        "g <- set_vertex_attr(g, \"references\", value = temp$references)\n",
        "rm(temp)\n",
        "\n",
        "g"
      ],
      "execution_count": 0,
      "outputs": []
    },
    {
      "cell_type": "markdown",
      "metadata": {
        "id": "aWwxjdjsmoZ5",
        "colab_type": "text"
      },
      "source": [
        "\n",
        "I will now do some jaccard weighting on the edges, to get a nicer distribution.\n",
        "\n"
      ]
    },
    {
      "cell_type": "code",
      "metadata": {
        "autoscroll": false,
        "id": "xPZlrcafmoZ6",
        "colab_type": "code",
        "colab": {}
      },
      "source": [
        "E(g)$weight.count <- E(g)$weight\n",
        "i <- V(g)[get.edges(g, E(g))[,1]]$references # degree of node V1 of every edge\n",
        "j <- V(g)[get.edges(g, E(g))[,2]]$references # degree of node V2 of every edge\n",
        "E(g)$weight <- E(g)$weight.count / (i + j - E(g)$weight.count)\n",
        "rm(i, j)"
      ],
      "execution_count": 0,
      "outputs": []
    },
    {
      "cell_type": "markdown",
      "metadata": {
        "id": "gLtnls9mmoZ_",
        "colab_type": "text"
      },
      "source": [
        "\n",
        "And delete the weak edges, to create more sparsity.\n",
        "\n"
      ]
    },
    {
      "cell_type": "code",
      "metadata": {
        "autoscroll": false,
        "id": "MDf_CfWEmoaA",
        "colab_type": "code",
        "colab": {}
      },
      "source": [
        "g <- delete.edges(g, E(g)[weight < quantile(weight, 0.1, na.rm = T)])\n",
        "g <- delete.vertices(g, strength(g) == 0)\n",
        "g <- delete.vertices(g, strength(g) < quantile(strength(g), 0.25, na.rm = T) )\n",
        "g"
      ],
      "execution_count": 0,
      "outputs": []
    },
    {
      "cell_type": "markdown",
      "metadata": {
        "id": "MOPA_---moaD",
        "colab_type": "text"
      },
      "source": [
        "\n",
        "La voila, we can start the analysis. However, the rest you by now know, so I will skip that for now. Instead, I will show you how to do that all way more convenient.\n",
        "\n",
        "## Fun with the [`bibliometrix`](http://www.bibliometrix.org/) package\n",
        "\n",
        "Since lately, the [`bibliometrix`](http://www.bibliometrix.org/) package became exteremly good, and by now almost suitable to replace my hand-made workflows. So, I will spare you the data munging, and demonstrate how to use the nice inbuild functionalities here. By doing so, you will develop a lot of intuition on network projection, and aggregation on different levels.\n",
        "\n"
      ]
    },
    {
      "cell_type": "code",
      "metadata": {
        "autoscroll": false,
        "id": "dmuE_wgOmoaF",
        "colab_type": "code",
        "colab": {}
      },
      "source": [
        "rm(list = ls())\n",
        "require(bibliometrix)\n",
        "?bibliometrix"
      ],
      "execution_count": 0,
      "outputs": []
    },
    {
      "cell_type": "markdown",
      "metadata": {
        "id": "tHJhJLIcmoaJ",
        "colab_type": "text"
      },
      "source": [
        "\n",
        "### Loading the data\n",
        "\n",
        "So, lets load some data. We could go on with my \"Innovation System\" data, but I have a better idea. Since it appeared appropriate, I went to Web of Science, and downloaded the most cited paper which ahve \"Network Analysis\" in their title, abstract. or keywords.\"\n",
        "\n",
        "* **Data source**:   Clarivate Analytics Web of Science (http://apps.webofknowledge.com)\n",
        "* **Data format**:   Plaintext\n",
        "* **Query**:         Topic = \"Network Analysis\"\n",
        "* **Timespan**:      2008-2018\n",
        "* **Document Type**: Articles\n",
        "* **Language**:      English\n",
        "* **Query data**:    October, 2018\n",
        "* **Selection**:     500 most cited\n",
        "\n",
        "We now just read the plain  data with the inbuild `convert2df()` function\n",
        "\n"
      ]
    },
    {
      "cell_type": "code",
      "metadata": {
        "autoscroll": false,
        "collapsed": true,
        "id": "nKUa7NC9moaJ",
        "colab_type": "code",
        "colab": {}
      },
      "source": [
        "M <- convert2df(readFiles(\"../input/biblio/biblio_nw1.txt\"),\n",
        "                dbsource = \"isi\",\n",
        "                format = \"plaintext\")\n",
        "\n",
        "head(M)"
      ],
      "execution_count": 0,
      "outputs": []
    },
    {
      "cell_type": "markdown",
      "metadata": {
        "id": "PEdIw2O8moaL",
        "colab_type": "text"
      },
      "source": [
        "\n",
        "### Descriptive Analysis\n",
        "\n",
        "Although bibliometrics is mainly known for quantifying the scientific production and measuring its quality and impact, it is also useful for displaying and analysing the intellectual, conceptual and social structures of research as well as their evolution and dynamical aspects.\n",
        "\n",
        "In this way, bibliometrics aims to describe how specific disciplines, scientific domains, or research fields are structured and how they evolve over time. In other words, bibliometric methods help to map the science (so-called science mapping) and are very useful in the case of research synthesis, especially for the systematic ones.\n",
        "\n",
        "Bibliometrics is an academic science founded on a set of statistical methods, which can be used to analyze scientific big data quantitatively and their evolution over time and discover information. Network structure is often used to model the interaction among authors, papers/documents/articles, references, keywords, etc.\n",
        "\n",
        "Bibliometrix is an open-source software for automating the stages of data-analysis and data-visualization. After converting and uploading bibliographic data in R, Bibliometrix performs a descriptive analysis and different research-structure analysis.\n",
        "\n",
        "Descriptive analysis provides some snapshots about the annual research development, the top \"k\" productive authors, papers, countries and most relevant keywords.\n",
        "\n",
        "#### Main findings about the collection\n",
        "\n"
      ]
    },
    {
      "cell_type": "code",
      "metadata": {
        "autoscroll": false,
        "collapsed": true,
        "id": "cCSBbBLVmoaM",
        "colab_type": "code",
        "colab": {}
      },
      "source": [
        "results <- biblioAnalysis(M)\n",
        "summary(results,\n",
        "        k = 20,\n",
        "        pause = F)\n",
        "plot(results)"
      ],
      "execution_count": 0,
      "outputs": []
    },
    {
      "cell_type": "markdown",
      "metadata": {
        "id": "IExHEVjPmoaN",
        "colab_type": "text"
      },
      "source": [
        "\n",
        "#### Most Cited References (internally)\n",
        "\n"
      ]
    },
    {
      "cell_type": "code",
      "metadata": {
        "autoscroll": false,
        "collapsed": true,
        "id": "7U9Sju9cmoaO",
        "colab_type": "code",
        "colab": {}
      },
      "source": [
        "CR <- citations(M,\n",
        "                field = \"article\",\n",
        "                sep = \";\")\n",
        "cbind(CR$Cited[1:10])"
      ],
      "execution_count": 0,
      "outputs": []
    },
    {
      "cell_type": "markdown",
      "metadata": {
        "id": "yyseIAkymoaQ",
        "colab_type": "text"
      },
      "source": [
        "\n",
        "### Bibliographic Copling Analysis: The Knowledge Frontier of the Field\n",
        "\n",
        "Bibliographic coupling is a newer technique, which has turned out to be very appropriate to capture a fields current knowledge frontier. I will show you how to do it here, but in case you are interested, read my paper :)\n",
        "\n",
        "\n"
      ]
    },
    {
      "cell_type": "code",
      "metadata": {
        "Rmd_chunk_options": "fig.width=15,fig.height=15",
        "autoscroll": false,
        "collapsed": true,
        "id": "pplSb1yEmoaR",
        "colab_type": "code",
        "colab": {}
      },
      "source": [
        "NetMatrix <- biblioNetwork(M,\n",
        "                           analysis = \"coupling\",\n",
        "                           network = \"references\",\n",
        "                           sep = \";\")\n",
        "\n",
        "net <-networkPlot(NetMatrix,\n",
        "            n = 50,\n",
        "            Title = \"Bibliographic Coupling Network\",\n",
        "            type = \"fruchterman\",\n",
        "            size.cex = TRUE,\n",
        "            size = 20,\n",
        "            remove.multiple = FALSE,\n",
        "            labelsize = 0.7,\n",
        "            edgesize = 10,\n",
        "            edges.min = 5)"
      ],
      "execution_count": 0,
      "outputs": []
    },
    {
      "cell_type": "markdown",
      "metadata": {
        "id": "T36WevZJmoaS",
        "colab_type": "text"
      },
      "source": [
        "\n",
        "### Co-citation Analysis: The Intellectual Structure and Knowledge Bases of the field\n",
        "\n",
        "Citation analysis is one of the main classic techniques in bibliometrics. It shows the structure of a specific field through the linkages between nodes (e.g. authors, papers, journal), while the edges can be differently interpretated depending on the network type, that are namely co-citation, direct citation, bibliographic coupling.\n",
        "\n",
        "Below there are three examples.\n",
        "\n",
        "* First, a co-citation network that shows relations between cited-reference works (nodes).\n",
        "* Second, a co-citation network that uses cited-journals as unit of analysis. The useful dimensions to comment the co-citation networks are: (i) centrality and peripherality of nodes, (ii) their proximity and distance, (iii) strength of ties, (iv) clusters, (iiv) bridging contributions.\n",
        "* Third, a historiograph is built on direct citations. It draws the intellectual linkages in a historical order. Cited works of thousands of authors contained in a collection of published scientific articles is sufficient for recostructing the historiographic structure of the field, calling out the basic works in it.\n",
        "\n",
        "\n",
        "#### Co-citation (cited references) analysis\n",
        "\n",
        "**Plot options**:\n",
        "\n",
        "* n = 50 (the funxtion plots the main 50 cited references)\n",
        "* type = \"fruchterman\" (the network layout is generated using the Fruchterman-Reingold Algorithm)\n",
        "* size.cex = TRUE (the size of the vertices is proportional to their degree)\n",
        "* size = 20 (the max size of vertices)\n",
        "* remove.multiple=FALSE (multiple edges are not removed)\n",
        "* labelsize = 0.7 (defines the size of vertex labels)\n",
        "* edgesize = 10 (The thickness of the edges is proportional to their strength. Edgesize defines the max value of the thickness)\n",
        "* edges.min = 5 (plots only edges with a strength greater than or equal to 5)\n",
        "* all other arguments assume the default values\n",
        "\n"
      ]
    },
    {
      "cell_type": "code",
      "metadata": {
        "Rmd_chunk_options": "fig.width=15,fig.height=15",
        "autoscroll": false,
        "collapsed": true,
        "id": "9UJJw6YmmoaU",
        "colab_type": "code",
        "colab": {}
      },
      "source": [
        "NetMatrix <- biblioNetwork(M,\n",
        "                           analysis = \"co-citation\",\n",
        "                           network = \"references\",\n",
        "                           sep = \";\")\n",
        "\n",
        "net <-networkPlot(NetMatrix,\n",
        "            n = 50,\n",
        "            Title = \"Co-Citation Network\",\n",
        "            type = \"fruchterman\",\n",
        "            size.cex = TRUE,\n",
        "            size = 20,\n",
        "            remove.multiple = FALSE,\n",
        "            labelsize = 0.7,\n",
        "            edgesize = 10,\n",
        "            edges.min = 5)"
      ],
      "execution_count": 0,
      "outputs": []
    },
    {
      "cell_type": "markdown",
      "metadata": {
        "id": "qk1rhjnimoaV",
        "colab_type": "text"
      },
      "source": [
        "\n",
        "#### Cited Journal (Source) co-citation analysis\n",
        "\n"
      ]
    },
    {
      "cell_type": "code",
      "metadata": {
        "Rmd_chunk_options": "fig.width=15,fig.height=15",
        "autoscroll": false,
        "collapsed": true,
        "id": "8Zg1IreqmoaW",
        "colab_type": "code",
        "colab": {}
      },
      "source": [
        "M <- metaTagExtraction(M, \"CR_SO\", sep=\";\")\n",
        "\n",
        "NetMatrix <- biblioNetwork(M,\n",
        "                           analysis = \"co-citation\",\n",
        "                           network = \"sources\",\n",
        "                           sep = \";\")\n",
        "\n",
        "net <-networkPlot(NetMatrix,\n",
        "            n = 50,\n",
        "            Title = \"Co-Citation Network\",\n",
        "            type = \"auto\",\n",
        "            size.cex = TRUE,\n",
        "            size = 15,\n",
        "            remove.multiple = FALSE,\n",
        "            labelsize = 0.7,\n",
        "            edgesize = 10,\n",
        "            edges.min = 5)"
      ],
      "execution_count": 0,
      "outputs": []
    },
    {
      "cell_type": "markdown",
      "metadata": {
        "id": "vb-P-0gMmoaX",
        "colab_type": "text"
      },
      "source": [
        "\n",
        "by the way, the results contain an \"hidden\" igraph obejct. That is new, and makes further analysis of the results possible. Great!\n",
        "\n"
      ]
    },
    {
      "cell_type": "code",
      "metadata": {
        "autoscroll": false,
        "collapsed": true,
        "id": "iQuPdHb7moaY",
        "colab_type": "code",
        "colab": {}
      },
      "source": [
        "str(net)\n",
        "net$graph"
      ],
      "execution_count": 0,
      "outputs": []
    },
    {
      "cell_type": "markdown",
      "metadata": {
        "id": "DcMs5YfLmoaa",
        "colab_type": "text"
      },
      "source": [
        "\n",
        "Some summary statistics. I will only provide them here, but theur are availabel for all object created with `biblioNetwork()`\n",
        "\n"
      ]
    },
    {
      "cell_type": "code",
      "metadata": {
        "autoscroll": false,
        "collapsed": true,
        "id": "7OVOhZNYmoaa",
        "colab_type": "code",
        "colab": {}
      },
      "source": [
        "netstat <- networkStat(NetMatrix)\n",
        "summary(netstat, k = 10)"
      ],
      "execution_count": 0,
      "outputs": []
    },
    {
      "cell_type": "markdown",
      "metadata": {
        "id": "KYh3HbkOmoad",
        "colab_type": "text"
      },
      "source": [
        "\n",
        "\n",
        "#### Historiograph - Direct citation linkages\n",
        "\n",
        "We can also look at a histograph of ciation pattern over time.\n",
        "\n"
      ]
    },
    {
      "cell_type": "code",
      "metadata": {
        "Rmd_chunk_options": "fig.width=15,fig.height=15",
        "autoscroll": false,
        "collapsed": true,
        "id": "eGpWh-0vmoae",
        "colab_type": "code",
        "colab": {}
      },
      "source": [
        "histResults <- histNetwork(M,\n",
        "                           min.citations = quantile(M$TC,0.75),\n",
        "                           sep = \";\")\n",
        "\n",
        "net <- histPlot(histResults,\n",
        "                n = 20,\n",
        "                size.cex=TRUE,\n",
        "                size = 5,\n",
        "                labelsize = 3,\n",
        "                arrowsize = 0.5)"
      ],
      "execution_count": 0,
      "outputs": []
    },
    {
      "cell_type": "markdown",
      "metadata": {
        "id": "1kg3FLjamoaf",
        "colab_type": "text"
      },
      "source": [
        "\n",
        "\n",
        "\n",
        "### The conceptual structure and context - Co-Word Analysis\n",
        "\n",
        "Co-word networks show the conceptual structure, that uncovers links between concepts through term co-occurences.\n",
        "\n",
        "Conceptual structure is often used to understand the topics covered by scholars (so-called research front) and identify what are the most important and the most recent issues.\n",
        "\n",
        "Dividing the whole timespan in different timeslices and comparing the conceptual structures is useful to analyze the evolution of topics over time.\n",
        "\n",
        "Bibliometrix is able to analyze keywords, but also the terms in the articles' titles and abstracts. It does it using network analysis or correspondance analysis (CA) or multiple correspondance analysis (MCA). CA and MCA visualise the conceptual structure in a two-dimensional plot.\n",
        "\n",
        "We can even do way more fancy stuff with abstracts or full texts (and do so). However, I dont want to spoiler Romans sessions, so I will hold myself back here\n",
        "\n",
        "#### Co-word Analysis through Keyword co-occurrences\n",
        "\n",
        "**Plot options**:\n",
        "\n",
        "* normalize = \"association\" (the vertex similarities are normalized using association strength)\n",
        "* n = 50 (the function plots the main 50 cited references)\n",
        "* type = \"fruchterman\" (the network layout is generated using the Fruchterman-Reingold Algorithm)\n",
        "* size.cex = TRUE (the size of the vertices is proportional to their degree)\n",
        "* size = 20 (the max size of the vertices)\n",
        "* remove.multiple=FALSE (multiple edges are not removed)\n",
        "* labelsize = 3 (defines the max size of vertex labels)\n",
        "* label.cex = TRUE (The vertex label sizes are proportional to their degree)\n",
        "* edgesize = 10 (The thickness of the edges is proportional to their strength. Edgesize defines the max value of the thickness)\n",
        "* label.n = 30 (Labels are plotted only for the main 30 vertices)\n",
        "* edges.min = 25 (plots only edges with a strength greater than or equal to 2)\n",
        "* all other arguments assume the default values\n",
        "\n"
      ]
    },
    {
      "cell_type": "code",
      "metadata": {
        "Rmd_chunk_options": "Keyword co-occurrences, comment=NA, fig.height=15, fig.width=15",
        "autoscroll": false,
        "collapsed": true,
        "id": "HEQ1ptuLmoag",
        "colab_type": "code",
        "colab": {}
      },
      "source": [
        "NetMatrix <- biblioNetwork(M,\n",
        "                           analysis = \"co-occurrences\",\n",
        "                           network = \"keywords\",\n",
        "                           sep = \";\")\n",
        "\n",
        "net <- networkPlot(NetMatrix,\n",
        "                   normalize = \"association\",\n",
        "                   n = 50,\n",
        "                   Title = \"Keyword Co-occurrences\",\n",
        "                   type = \"fruchterman\",\n",
        "                   size.cex = TRUE, size = 20, remove.multiple = FALSE,\n",
        "                   edgesize = 10,\n",
        "                   labelsize = 3,\n",
        "                   label.cex = TRUE,\n",
        "                   label.n = 50,\n",
        "                   edges.min = 2)"
      ],
      "execution_count": 0,
      "outputs": []
    },
    {
      "cell_type": "markdown",
      "metadata": {
        "id": "NYYY3AN3moah",
        "colab_type": "text"
      },
      "source": [
        "\n",
        "\n",
        "#### Co-word Analysis through Correspondence Analysis\n",
        "\n",
        "You already saw that comming, right?\n",
        "\n"
      ]
    },
    {
      "cell_type": "code",
      "metadata": {
        "autoscroll": false,
        "collapsed": true,
        "id": "ddSPP94Vmoah",
        "colab_type": "code",
        "colab": {}
      },
      "source": [
        "CS <- conceptualStructure(M,\n",
        "                          method = \"CA\",\n",
        "                          field = \"ID\",\n",
        "                          minDegree = 10,\n",
        "                          k.max = 8,\n",
        "                          stemming = FALSE,\n",
        "                          labelsize = 8,\n",
        "                          documents = 20)"
      ],
      "execution_count": 0,
      "outputs": []
    },
    {
      "cell_type": "markdown",
      "metadata": {
        "id": "5owvFS9Wmoaj",
        "colab_type": "text"
      },
      "source": [
        "\n",
        "\n",
        "#### Thematic Map\n",
        "\n",
        "Co-word analysis draws clusters of keywords. They are considered as themes, whose density and centrality can be used in classifying themes and mapping in a two-dimensional diagram.\n",
        "\n",
        "Thematic map is a very intuitive plot and we can analyze themes according to the quadrant in which they are placed: (1) upper-right quadrant: motor-themes; (2) lower-right quadrant: basic themes; (3) lower-left quadrant: emerging or disappearing themes; (4) upper-left quadrant: very specialized/niche themes.\n",
        "\n",
        "Please see Cobo, M. J., L?pez-Herrera, A. G., Herrera-Viedma, E., & Herrera, F. (2011). An approach for detecting, quantifying, and visualizing the evolution of a research field: A practical application to the fuzzy sets theory field. Journal of Informetrics, 5(1), 146-166.\n",
        "\n"
      ]
    },
    {
      "cell_type": "code",
      "metadata": {
        "Rmd_chunk_options": "Keyword Network",
        "autoscroll": false,
        "collapsed": true,
        "id": "xerzlWXSmoan",
        "colab_type": "code",
        "colab": {}
      },
      "source": [
        "NetMatrix <- biblioNetwork(M,\n",
        "                           analysis = \"co-occurrences\",\n",
        "                           network = \"keywords\",\n",
        "                           sep = \";\")\n",
        "\n",
        "S <- normalizeSimilarity(NetMatrix,\n",
        "                         type = \"association\")\n",
        "\n",
        "net <- networkPlot(S,\n",
        "                   n = 500,\n",
        "                   Title = \"Keyword co-occurrences\",\n",
        "                   type = \"fruchterman\",\n",
        "                   labelsize = 2,\n",
        "                   halo = FALSE,\n",
        "                   cluster = \"walktrap\",\n",
        "                   remove.isolates = FALSE,\n",
        "                   remove.multiple = FALSE,\n",
        "                   noloops = TRUE,\n",
        "                   weighted = TRUE,\n",
        "                   label.cex = TRUE,\n",
        "                   edgesize = 5,\n",
        "                   size = 1,\n",
        "                   edges.min = 2)"
      ],
      "execution_count": 0,
      "outputs": []
    },
    {
      "cell_type": "code",
      "metadata": {
        "Rmd_chunk_options": "ThematicMap, fig.height15, fig.width=15",
        "autoscroll": false,
        "collapsed": true,
        "id": "qcCC2-FLmoaq",
        "colab_type": "code",
        "colab": {}
      },
      "source": [
        "Map <- thematicMap(net, NetMatrix,\n",
        "                   S = S,\n",
        "                   minfreq =5 )\n",
        "plot(Map$map)"
      ],
      "execution_count": 0,
      "outputs": []
    },
    {
      "cell_type": "markdown",
      "metadata": {
        "id": "Z6W_svxSmoav",
        "colab_type": "text"
      },
      "source": [
        "\n",
        "Lets inspect the clusters we found:\n",
        "\n"
      ]
    },
    {
      "cell_type": "code",
      "metadata": {
        "autoscroll": false,
        "collapsed": true,
        "id": "pw7HafJ4moav",
        "colab_type": "code",
        "colab": {}
      },
      "source": [
        "clusters <-Map$words %>%\n",
        "  arrange(Cluster, desc(Occurrences))\n",
        "\n",
        "clusters %>%\n",
        "  select(Cluster, Words, Occurrences) %>%\n",
        "  group_by(Cluster) %>%\n",
        "  mutate(n.rel = Occurrences / sum(Occurrences) ) %>%\n",
        "  slice(1:3)"
      ],
      "execution_count": 0,
      "outputs": []
    },
    {
      "cell_type": "markdown",
      "metadata": {
        "id": "RZFha-7Emoax",
        "colab_type": "text"
      },
      "source": [
        "\n",
        "\n",
        "\n",
        "### The social structure - Collaboration Analysis\n",
        "\n",
        "Collaboration networks show how authors, institutions (e.g. universities or departments) and countries relate to others in a specific field of research. For example, the first figure below is a co-author network. It discovers regular study groups, hidden groups of scholars, and pivotal authors. The second figure is called \"Edu collaboration network\" and uncovers relevant institutions in a specific research field and their relations.\n",
        "\n",
        "#### Author collaboration network\n"
      ]
    },
    {
      "cell_type": "code",
      "metadata": {
        "Rmd_chunk_options": "Au collaboration network, fig.height=15, fig.width=15",
        "autoscroll": false,
        "collapsed": true,
        "id": "s54XGFiPmoax",
        "colab_type": "code",
        "colab": {}
      },
      "source": [
        "NetMatrix <- biblioNetwork(M %>% filter(!grepl(\"GESCHWIND\", AU)),\n",
        "                           analysis = \"collaboration\",\n",
        "                           network = \"authors\",\n",
        "                           sep = \";\")\n",
        "\n",
        "S <- normalizeSimilarity(NetMatrix, type = \"jaccard\")\n",
        "\n",
        "net <- networkPlot(S,\n",
        "                   n = 50,\n",
        "                   Title = \"Author collaboration\",\n",
        "                   type = \"auto\",\n",
        "                   size = 10,\n",
        "                   weighted = TRUE,\n",
        "                   remove.isolates = TRUE,\n",
        "                   size.cex = TRUE,\n",
        "                   edgesize = 1,\n",
        "                   labelsize = 0.6)"
      ],
      "execution_count": 0,
      "outputs": []
    },
    {
      "cell_type": "markdown",
      "metadata": {
        "id": "FU7Bl3Upmoa0",
        "colab_type": "text"
      },
      "source": [
        "\n",
        "\n",
        "#### Edu collaboration network\n",
        "\n"
      ]
    },
    {
      "cell_type": "code",
      "metadata": {
        "Rmd_chunk_options": "Edu collaboration network, fig.height=10, fig.width=10",
        "autoscroll": false,
        "collapsed": true,
        "id": "FmGkgy5hmoa0",
        "colab_type": "code",
        "colab": {}
      },
      "source": [
        "NetMatrix <- biblioNetwork(M,\n",
        "                           analysis = \"collaboration\",\n",
        "                           network = \"universities\",\n",
        "                           sep = \";\")\n",
        "\n",
        "net <- networkPlot(NetMatrix,\n",
        "                   n = 50,\n",
        "                   Title = \"Edu collaboration\",\n",
        "                   type = \"auto\",\n",
        "                   size = 10,\n",
        "                   size.cex = T,\n",
        "                   edgesize = 3,\n",
        "                   labelsize = 0.6)"
      ],
      "execution_count": 0,
      "outputs": []
    },
    {
      "cell_type": "markdown",
      "metadata": {
        "id": "EFAXilszmoa3",
        "colab_type": "text"
      },
      "source": [
        "\n",
        "\n",
        "\n",
        "#### Country collaboration network\n",
        "\n"
      ]
    },
    {
      "cell_type": "code",
      "metadata": {
        "Rmd_chunk_options": "Co collaboration network, fig.height=15, fig.width=15",
        "autoscroll": false,
        "collapsed": true,
        "id": "JwC6zQtUmoa3",
        "colab_type": "code",
        "colab": {}
      },
      "source": [
        "M <- metaTagExtraction(M,\n",
        "                       Field = \"AU_CO\",\n",
        "                       sep = \";\")\n",
        "\n",
        "NetMatrix <- biblioNetwork(M,\n",
        "                           analysis = \"collaboration\",\n",
        "                           network = \"countries\",\n",
        "                           sep = \";\")\n",
        "\n",
        "net <- networkPlot(NetMatrix,\n",
        "                   n = dim(NetMatrix)[1],\n",
        "                   Title = \"Country collaboration\",\n",
        "                   type = \"sphere\",\n",
        "                   cluster = \"lovain\",\n",
        "                   weighted = TRUE,\n",
        "                   size = 10,\n",
        "                   size.cex = T,\n",
        "                   edgesize = 1,\n",
        "                   labelsize = 0.6)"
      ],
      "execution_count": 0,
      "outputs": []
    },
    {
      "cell_type": "markdown",
      "metadata": {
        "id": "VoVIqdZYmoa7",
        "colab_type": "text"
      },
      "source": [
        "\n",
        "Isn't that all a lot of fun?\n",
        "\n",
        "By now you should have realized that different leevel of projection and aggregation offer almost endless possibilities for analysis of ibliographic data!\n",
        "\n",
        "\n",
        "## Your turn\n",
        "\n",
        "Finally, its again time for you to have some fun. Check out this final exercise: [here](https://www.kaggle.com/danielhain/sds-2018-m2-3-nw-exercise-1).\n",
        "\n"
      ]
    }
  ]
}