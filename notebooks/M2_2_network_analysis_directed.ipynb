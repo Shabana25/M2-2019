{
  "nbformat": 4,
  "nbformat_minor": 0,
  "metadata": {
    "Rmd_header": {
      "author": "Daniel S. Hain (dsh@business.aau.dk)",
      "date": "Updated `r format(Sys.time(), '%B %d, %Y')`",
      "output": {
        "html_document": {
          "code_folding": "hide",
          "df_print": "paged",
          "theme": "flatly",
          "toc": true,
          "toc_depth": 2,
          "toc_float": {
            "collapsed": false
          }
        }
      },
      "title": "M2-2: Introduction to Network Analysis (Part II)"
    },
    "kernelspec": {
      "display_name": "R",
      "language": "R",
      "name": "ir"
    },
    "language_info": {
      "codemirror_mode": "r",
      "file_extension": ".r",
      "mimetype": "text/x-r-source",
      "name": "R",
      "pygments_lexer": "r"
    },
    "colab": {
      "name": "M2_2_network_analysis_directed.ipynb",
      "provenance": [],
      "include_colab_link": true
    }
  },
  "cells": [
    {
      "cell_type": "markdown",
      "metadata": {
        "id": "view-in-github",
        "colab_type": "text"
      },
      "source": [
        "<a href=\"https://colab.research.google.com/github/SDS-AAU/M2-2019/blob/master/notebooks/M2_2_network_analysis_directed.ipynb\" target=\"_parent\"><img src=\"https://colab.research.google.com/assets/colab-badge.svg\" alt=\"Open In Colab\"/></a>"
      ]
    },
    {
      "cell_type": "code",
      "metadata": {
        "Rmd_chunk_options": "setup, include=FALSE",
        "autoscroll": false,
        "id": "GUoFRTeJ6WgJ",
        "colab_type": "code",
        "colab": {}
      },
      "source": [
        "### Generic preamble\n",
        "Sys.setenv(LANG = \"en\") # For english language\n",
        "options(scipen = 5) # To deactivate annoying scientific number notation\n",
        "set.seed(1337) # To have a seed defined for reproducability\n",
        "\n",
        "### Knitr options\n",
        "if (!require(\"knitr\")) install.packages(\"knitr\"); library(knitr) # For display of the markdown\n",
        "knitr::opts_chunk$set(warning=FALSE,\n",
        "                     message=FALSE,\n",
        "                     fig.align=\"center\"\n",
        "                     )\n",
        "\n",
        "### Install packages if necessary\n",
        "if (!require(\"pacman\")) install.packages(\"pacman\") # package for loading and checking packages :)\n",
        "pacman::p_load(tidyverse, # Standard datasciewnce toolkid (dplyr, ggplot2 et al.)\n",
        "               magrittr, # For advanced piping (%>% et al.)\n",
        "               igraph, # For network analysis\n",
        "               tidygraph, # For tidy-style graph manipulation\n",
        "               ggraph, # For ggplot2 style graph plotting\n",
        "               Matrix, # For some matrix functionality\n",
        "               data.table # For fast table manipulations (and fread)\n",
        "               )"
      ],
      "execution_count": 0,
      "outputs": []
    },
    {
      "cell_type": "markdown",
      "metadata": {
        "id": "6ezdNcnW6WgN",
        "colab_type": "text"
      },
      "source": [
        "\n",
        "Welcome to your second part of the introduction to network analysis. In this session you will learn:\n",
        "\n",
        "1. What directed networks are, and when that matters.\n",
        "2. How different measures have to be calculated in directed networks.\n",
        "3. What multidimensional networks are, and how they matter.\n",
        "4. How to compare network measures between graphs, and with random graphs\n",
        "\n",
        "# Introduction\n",
        "\n",
        "Hello so far :)\n",
        "\n",
        "# Directed networks\n",
        "\n",
        "Up to now, we did not pay attention to the direction of edges, and assumed them to be symetric (`A->B == B->A`). this makes sense in a lot of setting, for instance when we look at co-occurence networks. However, in many cases, such as friendship networks, that might not be the case (the person you name a close friend not necessarily thinks the same about you). In such cases, we would like to take this directionality into account, and analyse **directed networks**.\n",
        "\n",
        "Lets look a brief example of highschool students data, which had to name their close friends.\n",
        "\n"
      ]
    },
    {
      "cell_type": "code",
      "metadata": {
        "autoscroll": false,
        "id": "hqejOi1H6WgO",
        "colab_type": "code",
        "colab": {}
      },
      "source": [
        "highschool %>%\n",
        "  head()"
      ],
      "execution_count": 0,
      "outputs": []
    },
    {
      "cell_type": "markdown",
      "metadata": {
        "id": "S3feo1E36WgQ",
        "colab_type": "text"
      },
      "source": [
        "\n",
        "Again, here it sometimes happens that friendship is not reciprocal, so we will create a directed friendship graph.\n",
        "\n"
      ]
    },
    {
      "cell_type": "code",
      "metadata": {
        "autoscroll": false,
        "id": "omcaJgD36WgR",
        "colab_type": "code",
        "colab": {}
      },
      "source": [
        "g <- highschool %>%\n",
        "  as_tbl_graph(directed = TRUE)\n",
        "g"
      ],
      "execution_count": 0,
      "outputs": []
    },
    {
      "cell_type": "code",
      "metadata": {
        "autoscroll": false,
        "id": "iyDrg9aP6WgT",
        "colab_type": "code",
        "colab": {}
      },
      "source": [
        "# The names where anonymized, which is a bit boring. So I will just give them some random names to associate with.\n",
        "p_load(randomNames)\n",
        "\n",
        "g <- g %N>%\n",
        "  mutate(gender = rbinom(n = n(), size = 1, prob = 0.5),\n",
        "         label= randomNames(gender = gender, name.order = \"first.last\"))"
      ],
      "execution_count": 0,
      "outputs": []
    },
    {
      "cell_type": "markdown",
      "metadata": {
        "id": "guD6BDl06WgV",
        "colab_type": "text"
      },
      "source": [
        "\n",
        "Lets plot this network briefly to get a sense. Notice that we have edges for two years, so we can do a facet plot for every year.\n",
        "\n"
      ]
    },
    {
      "cell_type": "code",
      "metadata": {
        "autoscroll": false,
        "id": "cCKZZsma6WgW",
        "colab_type": "code",
        "colab": {}
      },
      "source": [
        "g %E>%\n",
        "  ggraph(layout = \"nicely\") +\n",
        "    geom_edge_link(arrow = arrow()) +\n",
        "    geom_node_point() +\n",
        "    theme_graph() +\n",
        "    facet_edges(~year)"
      ],
      "execution_count": 0,
      "outputs": []
    },
    {
      "cell_type": "markdown",
      "metadata": {
        "id": "mCb8WIsn6WgY",
        "colab_type": "text"
      },
      "source": [
        "\n",
        "We indeed see that the friendship structure alters slightly between years. To make it less complicated for now, we will only look at the 1958 network.\n",
        "\n"
      ]
    },
    {
      "cell_type": "code",
      "metadata": {
        "autoscroll": false,
        "id": "37n0K0g66WgZ",
        "colab_type": "code",
        "colab": {}
      },
      "source": [
        "g <- g %E>%\n",
        "  filter(year == 1958) %N>%\n",
        "  filter(!node_is_isolated())"
      ],
      "execution_count": 0,
      "outputs": []
    },
    {
      "cell_type": "markdown",
      "metadata": {
        "id": "mMSOCv_86Wgc",
        "colab_type": "text"
      },
      "source": [
        "\n",
        "## Centrality measures\n",
        "\n",
        "Our network is now directed, meaning a node-pair now has two different roles:\n",
        "\n",
        "* **Ego:** The node the edge loriginates from.\n",
        "* **Alter:** The node the edge leads to.\n",
        "\n",
        "Consequently, most network metrics have to take this directionality into account. For example, degree centrality is now differentiated between the **in-degree** centrality (now many edges lead to the node) and the **out-degree** centrality (now many edges lead to the node)\n",
        "\n"
      ]
    },
    {
      "cell_type": "code",
      "metadata": {
        "autoscroll": false,
        "id": "G8zMn21B6Wgd",
        "colab_type": "code",
        "colab": {}
      },
      "source": [
        "g <- g %N>%\n",
        "  mutate(cent_dgr_in = centrality_degree(mode = \"in\"),\n",
        "         cent_dgr_out = centrality_degree(mode = \"out\"))"
      ],
      "execution_count": 0,
      "outputs": []
    },
    {
      "cell_type": "markdown",
      "metadata": {
        "id": "V7uDiUG_6Wgg",
        "colab_type": "text"
      },
      "source": [
        "\n",
        "## Community Structures\n",
        "\n",
        "Now it is getting a bit more complicated. Most community detection algorithms implemented in `igraph` only work with undirected networks. So, now we could do 2 things:\n",
        "\n",
        "1. Convert the network in an undirected one.\n",
        "2. Use the \"edge betweenness\" algorithm, the only one implementedthat can handle directed networks.\n",
        "\n"
      ]
    },
    {
      "cell_type": "code",
      "metadata": {
        "autoscroll": false,
        "id": "xUBM8APm6Wgh",
        "colab_type": "code",
        "colab": {}
      },
      "source": [
        "g <- g %N>%\n",
        "  mutate(community = group_edge_betweenness(directed = TRUE) %>% as.factor())"
      ],
      "execution_count": 0,
      "outputs": []
    },
    {
      "cell_type": "code",
      "metadata": {
        "autoscroll": false,
        "id": "ASaLF6AW6Wgj",
        "colab_type": "code",
        "colab": {}
      },
      "source": [
        "g %E>%\n",
        "  ggraph(layout = \"nicely\") +\n",
        "    geom_edge_link(arrow = arrow()) +\n",
        "    geom_node_point(aes(col = community, size = cent_dgr_in)) +\n",
        "    theme_graph()"
      ],
      "execution_count": 0,
      "outputs": []
    },
    {
      "cell_type": "markdown",
      "metadata": {
        "id": "SVA3opba6Wgn",
        "colab_type": "text"
      },
      "source": [
        "\n",
        "\n",
        "\n",
        "\n",
        "# Case: Lawyers, Friends & Foes\n",
        "\n",
        "## Introduction to the case\n",
        "\n",
        "* Emmanuel Lazega, The Collegial Phenomenon: The Social Mechanisms of Cooperation Among Peers in a Corporate Law Partnership, Oxford University Press (2001).\n",
        "\n",
        "### Data\n",
        "This data set comes from a network study of corporate law partnership that was carried out in a Northeastern US corporate law firm, referred to as SG&R, 1988-1991 in New England. It includes (among others) measurements of networks among the 71 attorneys (partners and associates) of this firm, i.e. their strong-coworker network, advice network, friendship network, and indirect control networks. Various members' attributes are also part of the dataset, including seniority, formal status, office in which they work, gender, lawschool attended, individual performance measurements (hours worked, fees brought in), attitudes concerning various management policy options, etc. This dataset was used to identify social processes such as bounded solidarity, lateral control, quality control, knowledge sharing, balancing powers, regulation, etc. among peers.\n",
        "\n",
        "### Setting\n",
        "* What do corporate lawyers do? Litigation and corporate work.\n",
        "* Division of work and interdependencies.\n",
        "* Three offices, no departments, built-in pressures to grow, intake and assignment rules.\n",
        "* Partners and associates: hierarchy, up or out rule, billing targets.\n",
        "* Partnership agreement (sharing benefits equally, 90% exclusion rule, governance structure, elusive committee system) and incompleteness of the contracts.\n",
        "* Informal, unwritten rules (ex: no moonlighting, no investment in buildings, no nepotism, no borrowing to pay partners, etc.).\n",
        "* Huge incentives to behave opportunistically ; thus the dataset is appropriate for the study of social processes that make cooperation among rival partners possible.\n",
        "* Sociometric name generators used to elicit coworkers, advice, and 'friendship' ties at SG&R:\"Here is the list of all the members of your Firm.\"\n",
        "\n",
        "The networks where created according to the follwoing questionaire:\n",
        "\n",
        "* Strong coworkers network: \"Because most firms like yours are also organized very informally, it is difficult to get a clear idea of how the members really work together. Think back over the past year, consider all the lawyers in your Firm. Would you go through this list and check the names of those with whom you have worked with. By \"worked with\" I mean that you have spent time together on at least one case, that you have been assigned to the same case, that they read or used your work product or that you have read or used their work product; this includes professional work done within the Firm like Bar association work, administration, etc.\"\n",
        "* Basic advice network: \"Think back over the past year, consider all the lawyers in your Firm. To whom did you go for basic professional advice? For instance, you want to make sure that you are handling a case right, making a proper decision, and you want to consult someone whose professional opinions are in general of great value to you. By advice I do not mean simply technical advice.\"\n",
        "* 'Friendship' network:\n",
        "\"Would you go through this list, and check the names of those you socialize with outside work. You know their family, they know yours, for instance. I do not mean all the people you are simply on a friendly level with, or people you happen to meet at Firm functions.\"\n",
        "\n",
        "## Data preperation\n",
        "\n",
        "###  Load the data\n",
        "\n",
        "Lets load the data! The three networks refer to cowork, friendship, and advice. The first 36 respondents are the partners in the firm.\n",
        "\n"
      ]
    },
    {
      "cell_type": "code",
      "metadata": {
        "autoscroll": false,
        "id": "0Y1cKfB36Wgn",
        "colab_type": "code",
        "colab": {}
      },
      "source": [
        "# Note the .dat format is a bit unconfortable to load with readr, since we have to specify the delimiters on our own. Therefore I use the convenient fread function by the data.table package, which is able to detect them without help\n",
        "\n",
        "mat_friendship <- fread(\"https://www.dropbox.com/s/0saiulir3pr566k/ELfriend.dat?dl=1\") %>% as.matrix()\n",
        "mat_advice <- fread(\"https://www.dropbox.com/s/apq42n1grim23k9/ELadv.dat?dl=1\") %>% as.matrix(dimnames = list(c(1:nrow(.)), c(1:ncol(.))))\n",
        "mat_work <- fread(\"https://www.dropbox.com/s/dliz0sd7or8tv01/ELwork.dat?dl=1\") %>% as.matrix(dimnames = list(c(1:nrow(.)), c(1:ncol(.))))\n",
        "\n",
        "dimnames(mat_friendship) = list(c(1:nrow(mat_friendship)), c(1:ncol(mat_friendship)))\n",
        "dimnames(mat_advice) = list(c(1:nrow(mat_advice)), c(1:ncol(mat_advice)))\n",
        "dimnames(mat_work) = list(c(1:nrow(mat_work)), c(1:ncol(mat_work)))\n",
        "# Note that we have to overwrite the column and rownames of the matrices with 1:71 (corresponding to the name codes in the nodeslist)"
      ],
      "execution_count": 0,
      "outputs": []
    },
    {
      "cell_type": "markdown",
      "metadata": {
        "id": "FFe752d56Wgq",
        "colab_type": "text"
      },
      "source": [
        "\n",
        "We also load a set of\n",
        "\n"
      ]
    },
    {
      "cell_type": "code",
      "metadata": {
        "autoscroll": false,
        "id": "KW0cPALz6Wgq",
        "colab_type": "code",
        "colab": {}
      },
      "source": [
        "nodes <- fread(\"https://www.dropbox.com/s/qz7fvfgx8lvjgpr/ELattr.dat?dl=1\") %>% as_tibble()"
      ],
      "execution_count": 0,
      "outputs": []
    },
    {
      "cell_type": "code",
      "metadata": {
        "autoscroll": false,
        "id": "JLiRcgRS6Wgt",
        "colab_type": "code",
        "colab": {}
      },
      "source": [
        "nodes %>% head()"
      ],
      "execution_count": 0,
      "outputs": []
    },
    {
      "cell_type": "markdown",
      "metadata": {
        "id": "Q1upY_BZ6Wgv",
        "colab_type": "text"
      },
      "source": [
        "\n",
        "\n",
        "### Cleaning up\n",
        "\n",
        "The variables in `nodes` are unnamed, but from the paper I know how they are coded, so we can give them names.\n",
        "\n"
      ]
    },
    {
      "cell_type": "code",
      "metadata": {
        "autoscroll": false,
        "id": "qHjfSe8i6Wgw",
        "colab_type": "code",
        "colab": {}
      },
      "source": [
        "colnames(nodes) <- c(\"name\", \"seniority\", \"gender\", \"office\", \"tenure\", \"age\", \"practice\", \"school\")"
      ],
      "execution_count": 0,
      "outputs": []
    },
    {
      "cell_type": "markdown",
      "metadata": {
        "id": "VwFVXBME6Wgy",
        "colab_type": "text"
      },
      "source": [
        "\n",
        "We can also recode the numeric codes in the data into something more intuitive. I agaion know from the data description of the paper the coding.\n",
        "\n",
        "* seniority status (1=partner; 2=associate)\n",
        "* gender (1=man; 2=woman)\n",
        "* office (1=Boston; 2=Hartford; 3=Providence)\n",
        "* years with the firm\n",
        "* age\n",
        "* practice (1=litigation; 2=corporate)\n",
        "* law school (1: harvard, yale; 2: ucon; 3: other)\n",
        "\n"
      ]
    },
    {
      "cell_type": "code",
      "metadata": {
        "autoscroll": false,
        "id": "2-dfv_wB6Wgz",
        "colab_type": "code",
        "colab": {}
      },
      "source": [
        "nodes %<>%\n",
        "  mutate(seniority = recode(seniority, \"1\" = \"Partner\", \"2\" = \"Associate\"),\n",
        "         gender = recode(gender, \"1\" = \"Man\", \"2\" = \"Woman\"),\n",
        "         office = recode(office, \"1\" = \"Boston\", \"2\" = \"Hartford\", \"3\" = \"Providence\"),\n",
        "         practice = recode(practice, \"1\" = \"Litigation\", \"2\" = \"Corporate\"),\n",
        "         school = recode(school, \"1\" = \"Harvard, Yale\", \"2\" = \"Ucon\", \"3\" = \"Others\"))"
      ],
      "execution_count": 0,
      "outputs": []
    },
    {
      "cell_type": "code",
      "metadata": {
        "autoscroll": false,
        "id": "JG4tvoal6Wg2",
        "colab_type": "code",
        "colab": {}
      },
      "source": [
        "nodes %>% head()"
      ],
      "execution_count": 0,
      "outputs": []
    },
    {
      "cell_type": "markdown",
      "metadata": {
        "id": "qPURbS6r6Wg4",
        "colab_type": "text"
      },
      "source": [
        "\n",
        "\n",
        "### Generate the graph\n",
        "\n",
        "Since we have now a **multidimensional** network (=different types of edges), we first load them into isolated networks.\n",
        "\n"
      ]
    },
    {
      "cell_type": "code",
      "metadata": {
        "autoscroll": false,
        "id": "9BqM7ICw6Wg4",
        "colab_type": "code",
        "colab": {}
      },
      "source": [
        "g_friendship <- mat_friendship %>% as_tbl_graph(directed = TRUE) %E>%\n",
        "  mutate(type = \"friendship\") %N>%\n",
        "  mutate(name = name %>% as.numeric()) %>%\n",
        "  left_join(nodes, by = \"name\")\n",
        "\n",
        "g_advice <- mat_advice %>% as_tbl_graph(directed = TRUE) %E>%\n",
        "  mutate(type = \"advice\") %N>%\n",
        "  mutate(name = name %>% as.numeric()) %>%\n",
        "  left_join(nodes, by = \"name\")\n",
        "\n",
        "g_work <- mat_work %>% as_tbl_graph(directed = TRUE) %E>%\n",
        "  mutate(type = \"work\") %N>%\n",
        "  mutate(name = name %>% as.numeric()) %>%\n",
        "  left_join(nodes, by = \"name\")\n",
        "\n",
        "# Notice: The node names are taken from the matrices dimnames as string, therefore need to be converted as numeric"
      ],
      "execution_count": 0,
      "outputs": []
    },
    {
      "cell_type": "markdown",
      "metadata": {
        "id": "VVCn20946Wg9",
        "colab_type": "text"
      },
      "source": [
        "\n",
        "### Calculate dimensional centralities\n",
        "\n",
        "There might be better ways to do that (still experimenting), but for now lets first create centralities upfront for all networks. We for now only look at the in-degree.\n",
        "\n"
      ]
    },
    {
      "cell_type": "code",
      "metadata": {
        "autoscroll": false,
        "id": "VSPNGwP76Wg-",
        "colab_type": "code",
        "colab": {}
      },
      "source": [
        "g_friendship <- g_friendship %N>%\n",
        "  mutate(centrality_dgr_in_friendship = centrality_degree(mode = \"in\"))\n",
        "\n",
        "g_advice <- g_advice %N>%\n",
        "  mutate(centrality_dgr_in_advice = centrality_degree(mode = \"in\"))\n",
        "\n",
        "g_work <- g_work %N>%\n",
        "  mutate(centrality_dgr_in_work = centrality_degree(mode = \"in\"))"
      ],
      "execution_count": 0,
      "outputs": []
    },
    {
      "cell_type": "markdown",
      "metadata": {
        "id": "zAq3p9_H6WhC",
        "colab_type": "text"
      },
      "source": [
        "\n",
        "\n",
        "### Join the networks\n",
        "\n",
        "\n",
        "\n",
        "\n"
      ]
    },
    {
      "cell_type": "code",
      "metadata": {
        "autoscroll": false,
        "id": "tX_6g7SN6WhD",
        "colab_type": "code",
        "colab": {}
      },
      "source": [
        "g <- g_friendship %>%\n",
        "  graph_join(g_advice, by = \"name\") %>%\n",
        "  graph_join(g_work, by = \"name\")"
      ],
      "execution_count": 0,
      "outputs": []
    },
    {
      "cell_type": "code",
      "metadata": {
        "autoscroll": false,
        "id": "l7Pphs6r6WhF",
        "colab_type": "code",
        "colab": {}
      },
      "source": [
        "g %>%\n",
        "  ggraph(layout = \"nicely\") +\n",
        "  geom_node_point() +\n",
        "  geom_edge_fan(aes(col = type), arrow = arrow(), alpha = 0.5) +\n",
        "  theme_graph() +\n",
        "  facet_edges(~type)"
      ],
      "execution_count": 0,
      "outputs": []
    },
    {
      "cell_type": "code",
      "metadata": {
        "Rmd_chunk_options": "fig.width=15,fig.height=15",
        "autoscroll": false,
        "id": "I8TlnZYt6WhH",
        "colab_type": "code",
        "colab": {}
      },
      "source": [
        "plot(g,\n",
        "     layout= layout_with_fr(g),\n",
        "     vertex.label = degree(g, mode = \"in\"),\n",
        "     vertex.size = 1+ sqrt(degree(g, mode = \"in\")),\n",
        "     vertex.color = as.numeric(factor(V(g)$office)),\n",
        "     vertex.label = NA,\n",
        "     edge.arrow.size = 0.5)"
      ],
      "execution_count": 0,
      "outputs": []
    },
    {
      "cell_type": "markdown",
      "metadata": {
        "id": "u--kI8Fi6WhK",
        "colab_type": "text"
      },
      "source": [
        "\n",
        "\n",
        "\n",
        "## Network effects & structures\n",
        "\n",
        "### Node level (local)\n",
        "\n",
        "We could look at all the node level characteristics (degree, betweenness etc.) again, but for the sake of time I skip that for now, since its all already in the last notebook.\n",
        "\n",
        "### Network level (global)\n",
        "\n",
        "Ok, lets do the whole exercise with getting the main-determinants of the network structure again. We can look at the classical structural determinants.\n",
        "\n"
      ]
    },
    {
      "cell_type": "code",
      "metadata": {
        "autoscroll": false,
        "id": "VD0Liaqo6WhK",
        "colab_type": "code",
        "colab": {}
      },
      "source": [
        "# Get density of a graph\n",
        "edge_density(g)\n",
        "\n",
        "# Get the diameter of the graph g\n",
        "diameter(g, directed = TRUE)\n",
        "\n",
        "# Get the average path length of the graph g\n",
        "mean_distance(g, directed = TRUE)\n",
        "\n",
        "# Transistivity\n",
        "transitivity(g, type =\"global\")\n",
        "\n",
        "# reciprocity\n",
        "reciprocity(g)"
      ],
      "execution_count": 0,
      "outputs": []
    },
    {
      "cell_type": "markdown",
      "metadata": {
        "id": "-bcXDpB-6WhN",
        "colab_type": "text"
      },
      "source": [
        "\n",
        "We have another important concept that often explains edge-formation: **Assortativity**, anso called **homopholy**. This is a measure of how preferentially attached vertices are to other vertices with identical attributes. In other words: How much \"*birds of the same feather flock together *\".\n",
        "\n",
        "Lets first look at people of the same tenure flock together.\n",
        "\n"
      ]
    },
    {
      "cell_type": "code",
      "metadata": {
        "autoscroll": false,
        "id": "2IQUZfUx6WhN",
        "colab_type": "code",
        "colab": {}
      },
      "source": [
        "assortativity(g, V(g)$tenure, directed = TRUE)"
      ],
      "execution_count": 0,
      "outputs": []
    },
    {
      "cell_type": "markdown",
      "metadata": {
        "id": "1SBrDZgZ6WhQ",
        "colab_type": "text"
      },
      "source": [
        "\n",
        "What about people from elite universities?\n",
        "\n",
        "\n"
      ]
    },
    {
      "cell_type": "code",
      "metadata": {
        "autoscroll": false,
        "id": "v9yZ5ysK6WhQ",
        "colab_type": "code",
        "colab": {}
      },
      "source": [
        "assortativity(g, V(g)$school == \"Harvard, Yale\", directed = TRUE)"
      ],
      "execution_count": 0,
      "outputs": []
    },
    {
      "cell_type": "markdown",
      "metadata": {
        "id": "tleNzH_J6WhS",
        "colab_type": "text"
      },
      "source": [
        "\n",
        "Lastly, what about the popularity (or \"Matthew\") effect?\n",
        "\n"
      ]
    },
    {
      "cell_type": "code",
      "metadata": {
        "autoscroll": false,
        "id": "pUQ5Mhws6WhT",
        "colab_type": "code",
        "colab": {}
      },
      "source": [
        "assortativity(g, degree(g, mode = \"in\"), directed = TRUE)"
      ],
      "execution_count": 0,
      "outputs": []
    },
    {
      "cell_type": "markdown",
      "metadata": {
        "id": "IS_bE8eT6WhV",
        "colab_type": "text"
      },
      "source": [
        "\n",
        "Also not that much.....\n",
        "\n",
        "One more thing we didn't talk about yet: Small worlds.\n",
        "\n",
        "Small worlds are an interesting network structure, combining short path lenght betwen the nodes with a high clustering coefficient. That means, that we have small interconected clusters, which are in turn connected by **gatekeepers** (the edges we call **bridges** or **structural holes**).\n",
        "\n",
        "![](https://www.dropbox.com/s/q8n36748aodif8p/networks_smallworld2.jpg?dl=2){width=500px}\n",
        "\n",
        "This leads to an interesting setup, which has proven to be conductive for efficient communication and fast diffusion of information in social networks.\n",
        "\n",
        "![](https://www.dropbox.com/s/43h8tl2ynbc784a/networks_smallworld1.jpg?dl=1){width=500px}\n",
        "\n",
        "We calculate it for now in an easy way:\n",
        "\n"
      ]
    },
    {
      "cell_type": "code",
      "metadata": {
        "autoscroll": false,
        "id": "dxjRK8J_6WhW",
        "colab_type": "code",
        "colab": {}
      },
      "source": [
        "transitivity(g, type =\"global\") / mean_distance(g, directed = TRUE)"
      ],
      "execution_count": 0,
      "outputs": []
    },
    {
      "cell_type": "markdown",
      "metadata": {
        "id": "CrOQb2Ys6WhY",
        "colab_type": "text"
      },
      "source": [
        "\n",
        "However, you by now probably wonder how to interprete this numbers. Are they high, low, or whatever? What is the reference? In fact, it's very hard to say. The best way to say something about that is to compare it with what a random network would look like.\n",
        "\n",
        "So, lets create a random network. Here, we use the `erdos.renyi.game()` function, which creates a network with a given number of nodes and edge-density, but where the edges are constructed completely random.\n",
        "\n"
      ]
    },
    {
      "cell_type": "code",
      "metadata": {
        "autoscroll": false,
        "id": "PjOFdVxc6WhY",
        "colab_type": "code",
        "colab": {}
      },
      "source": [
        "g.r <- erdos.renyi.game(n = gorder(g),\n",
        "                        p.or.m = gsize(g),\n",
        "                        type = \"gnm\",\n",
        "                        directed = TRUE,\n",
        "                        loops = FALSE)"
      ],
      "execution_count": 0,
      "outputs": []
    },
    {
      "cell_type": "markdown",
      "metadata": {
        "id": "ck4pjoEB6Whg",
        "colab_type": "text"
      },
      "source": [
        "\n",
        "Looks kind of different. However, one randomly created network doesn't present a good abseline. So, lets better create a bunch, and compare our network to the average values of the randomly generated ones.\n",
        "\n"
      ]
    },
    {
      "cell_type": "code",
      "metadata": {
        "autoscroll": false,
        "id": "H58QmlF46Whh",
        "colab_type": "code",
        "colab": {}
      },
      "source": [
        "# Generate 1000 random graphs\n",
        "g.l <- vector('list',1000)\n",
        "\n",
        "for(i in 1:1000){\n",
        "  g.l[[i]] <- erdos.renyi.game(n = gorder(g),\n",
        "                        p.or.m = gsize(g),\n",
        "                        type = \"gnm\",\n",
        "                        directed = TRUE,\n",
        "                        loops = FALSE)\n",
        "}"
      ],
      "execution_count": 0,
      "outputs": []
    },
    {
      "cell_type": "markdown",
      "metadata": {
        "id": "k6SIb6e66Whl",
        "colab_type": "text"
      },
      "source": [
        "\n",
        "\n",
        "Now we can see how meaningful our observed network statistics are, by comparing them with the mean of the statistics in the random network.\n",
        "\n"
      ]
    },
    {
      "cell_type": "code",
      "metadata": {
        "autoscroll": false,
        "id": "n5rIB-sL6Whm",
        "colab_type": "code",
        "colab": {}
      },
      "source": [
        "# Calculate average path length of 1000 random graphs\n",
        "dist.r <- mean(unlist(lapply(g.l, mean_distance, directed = TRUE)))\n",
        "cc.r <- mean(unlist(lapply(g.l, transitivity, type =\"global\")))\n",
        "rp.r <- mean(unlist(lapply(g.l, reciprocity)))"
      ],
      "execution_count": 0,
      "outputs": []
    },
    {
      "cell_type": "markdown",
      "metadata": {
        "id": "MSS6BCe56Whq",
        "colab_type": "text"
      },
      "source": [
        "\n",
        "Lets see:\n",
        "\n"
      ]
    },
    {
      "cell_type": "code",
      "metadata": {
        "autoscroll": false,
        "id": "mfAsWqNi6Whr",
        "colab_type": "code",
        "colab": {}
      },
      "source": [
        "stats.friend <- tibble(density = edge_density(g),\n",
        "                       diameter = diameter(g, directed = TRUE),\n",
        "                       reciprocity = reciprocity(g),\n",
        "                       reciprocity.score = mean(reciprocity(g) > rp.r),\n",
        "                       distance = mean_distance(g, directed = TRUE),\n",
        "                       distance.score = mean(mean_distance(g, directed = TRUE) > dist.r),\n",
        "                       clustering = transitivity(g, type =\"global\"),\n",
        "                       clustering.score = mean(transitivity(g, type =\"global\")  > cc.r),\n",
        "                       small.world = mean(transitivity(g, type =\"global\")  > cc.r) / mean(mean_distance(g, directed = TRUE) > dist.r) )\n",
        "\n",
        "stats.friend"
      ],
      "execution_count": 0,
      "outputs": []
    },
    {
      "cell_type": "markdown",
      "metadata": {
        "id": "SmpXc91O6Whx",
        "colab_type": "text"
      },
      "source": [
        "\n",
        "\n",
        "## Your turn\n",
        "Please do **Exercise 1** in the corresponding section on `Github`.\n",
        "\n",
        "# Endnotes\n",
        "\n",
        "### References\n",
        "\n",
        "### More info\n",
        "You can find more info about:\n",
        "\n",
        "* `tidygraph` [here](https://www.data-imaginist.com/2017/introducing-tidygraph/)\n",
        "* all `tidygraph` functions [here](https://rdrr.io/cran/tidygraph/man/)\n",
        "* `ggraph` [here](https://www.data-imaginist.com/2017/announcing-ggraph/)\n",
        "\n",
        "\n",
        "### Session info\n"
      ]
    },
    {
      "cell_type": "code",
      "metadata": {
        "autoscroll": false,
        "id": "M9qtS29f6Why",
        "colab_type": "code",
        "colab": {}
      },
      "source": [
        "sessionInfo()"
      ],
      "execution_count": 0,
      "outputs": []
    }
  ]
}