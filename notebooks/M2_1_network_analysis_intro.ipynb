{
  "nbformat": 4,
  "nbformat_minor": 0,
  "metadata": {
    "Rmd_header": {
      "author": "Daniel S. Hain (dsh@business.aau.dk)",
      "date": "Updated `r format(Sys.time(), '%B %d, %Y')`",
      "output": {
        "html_document": {
          "code_folding": "hide",
          "df_print": "paged",
          "theme": "flatly",
          "toc": true,
          "toc_depth": 2,
          "toc_float": {
            "collapsed": false
          }
        }
      },
      "title": "M2-1: Introduction to Network Analysis (Part I)"
    },
    "kernelspec": {
      "display_name": "R",
      "language": "R",
      "name": "ir"
    },
    "language_info": {
      "codemirror_mode": "r",
      "file_extension": ".r",
      "mimetype": "text/x-r-source",
      "name": "R",
      "pygments_lexer": "r"
    },
    "colab": {
      "name": "M2_1_network_analysis_intro.ipynb",
      "provenance": [],
      "include_colab_link": true
    }
  },
  "cells": [
    {
      "cell_type": "markdown",
      "metadata": {
        "id": "view-in-github",
        "colab_type": "text"
      },
      "source": [
        "<a href=\"https://colab.research.google.com/github/SDS-AAU/M2-2019/blob/master/notebooks/M2_1_network_analysis_intro.ipynb\" target=\"_parent\"><img src=\"https://colab.research.google.com/assets/colab-badge.svg\" alt=\"Open In Colab\"/></a>"
      ]
    },
    {
      "cell_type": "code",
      "metadata": {
        "Rmd_chunk_options": "setup, include=FALSE",
        "autoscroll": false,
        "id": "eP31kH6B6z_2",
        "colab_type": "code",
        "colab": {}
      },
      "source": [
        "### Generic preamble\n",
        "Sys.setenv(LANG = \"en\") # For english language\n",
        "options(scipen = 5) # To deactivate annoying scientific number notation\n",
        "set.seed(1337) # To have a seed defined for reproducability\n",
        "\n",
        "### Knitr options\n",
        "if (!require(\"knitr\")) install.packages(\"knitr\"); library(knitr) # For display of the markdown\n",
        "knitr::opts_chunk$set(warning=FALSE,\n",
        "                     message=FALSE,\n",
        "                     fig.align=\"center\"\n",
        "                     )\n",
        "\n",
        "### Install packages if necessary\n",
        "if (!require(\"pacman\")) install.packages(\"pacman\") # package for loading and checking packages :)\n",
        "pacman::p_load(tidyverse, # Standard datasciewnce toolkid (dplyr, ggplot2 et al.)\n",
        "               magrittr, # For advanced piping (%>% et al.)\n",
        "               igraph, # For network analysis\n",
        "               tidygraph, # For tidy-style graph manipulation\n",
        "               ggraph, # For ggplot2 style graph plotting\n",
        "               Matrix, # For some matrix functionality\n",
        "               ggforce # Awesome plotting\n",
        "               )"
      ],
      "execution_count": 0,
      "outputs": []
    },
    {
      "cell_type": "markdown",
      "metadata": {
        "id": "FWLDOXkj6z_5",
        "colab_type": "text"
      },
      "source": [
        "\n",
        "Welcome to your first part of the introduction to network analysis. In this session you will learn:\n",
        "\n",
        "1. Why applying network analysis is helpful to answer certain questions, and why framing certain contexts as networks gives new insights.\n",
        "2. The basic structure of relational data.\n",
        "3. How to construct graph objects from different datasources.\n",
        "4. How to analyse basic features of nodes, edges, and graphs.\n",
        "5. How to identify groups and communities in graphs.\n",
        "6. How to do simple network visualizations.\n",
        "\n",
        "# Introduction\n",
        "\n",
        "## So what?\n",
        "So, before we talk about networks, one thing upfront... why should we? I mean, they undeniably look pretty, don't they? Somehow, the visualization of networks fascinates the human mind (find a short TED talk on networks and how they depict our world [here](https://www.ted.com/talks/manuel_lima_a_visual_history_of_human_knowledge)), and has even inspired an own art movement, networkism (see some examples [here](https://www.behance.net/gallery/184045/Links)).\n",
        "\n",
        "Yet, besides that, is there an analytical value for a data scientist to bother about networks?\n",
        "\n",
        "![](https://www.dropbox.com/s/b8x2iwhaxacheem/networks_google_apple.png?dl=1){width=750px}\n",
        "\n",
        "## The basic jargon\n",
        "\n",
        "First of all, what is a network? Plainly speaking, a network is a **system** of **elements** which are connected by some **relationship**. The vocabulary can be a bit technical and even inconsistent between different disciplines, packages, and software.\n",
        "\n",
        "The whole system is (surprise, surprise) usually called a **network** or **graph**. The elements are commonly referred to as **nodes** (system theory jargon) or **vertices** (graph theory jargon) of a graph, while the connections are **edges** or **links**. I will mostly refer to the elements as nodes, and their connections as edges.\n",
        "\n"
      ]
    },
    {
      "cell_type": "code",
      "metadata": {
        "Rmd_chunk_options": "echo=FALSE",
        "autoscroll": false,
        "id": "vphdJ8X86z_6",
        "colab_type": "code",
        "colab": {}
      },
      "source": [
        "# If you see this code, dont worry about it. Its just to create the visual\n",
        "tibble(from = c(1,2,3,1), to = c(3,1,5,5), text = rep(\"Edge\", 4)) %>%\n",
        "  as_tbl_graph() %N>%\n",
        "  mutate(text = \"Node\") %>%\n",
        "  ggraph(layout = \"nicely\") +\n",
        "  geom_node_point(size = 10, col = \"skyblue\") +\n",
        "  geom_node_text(aes(label = name)) +\n",
        "  geom_edge_link(aes(label = text, alpha = 0.5, show.legend = FALSE)) +\n",
        "  theme_graph() +\n",
        "  labs(title = \"What is a network?\", subtitle = \"A system of elements (nodes/vertices) and connections (edges) between them\") +\n",
        "  geom_mark_ellipse(aes(x, y, label = \"Node / Vertex\",\n",
        "                        description = \"Elements in the system\",\n",
        "                        filter = name == 1))"
      ],
      "execution_count": 0,
      "outputs": []
    },
    {
      "cell_type": "markdown",
      "metadata": {
        "id": "DrMKDEVl6z_8",
        "colab_type": "text"
      },
      "source": [
        "\n",
        "Generally, networks are a form of representing **relational data**. This is a very general tool that can be applied to many different types of relationships between all kind of elements. The content, meaning, and interpretation for sure depends on what elements we display, and which types of relationships. For example:\n",
        "\n",
        "* In Social Network Analysis:\n",
        "     * Nodes represent actors (which can be persons, firms and other socially constructed entities)\n",
        "     * Edges represent relationships between this actors (friendship, interaction, co-affiliation, similarity ect.)\n",
        "* Other types of network\n",
        "     * Chemistry: Interaction between molecules\n",
        "     * Computer Science: The wirld-wide-web, inter- and intranet topologies\n",
        "     * Biology: Food-web, ant-hives\n",
        "\n",
        "The possibilities to depict relational data are manifold. For example:\n",
        "\n",
        "* Relations among persons\n",
        "     * Kinship: mother of, wife of...\n",
        "     * Other role based: boss of, supervisor of...\n",
        "     * Affective: likes, trusts...\n",
        "     * Interaction: give advice, talks to, retweets...\n",
        "     * Affiliation: belong to same clubs, shares same interests...\n",
        "* Relations among organizations\n",
        "     * As corporate entities, joint ventures, strategic alliances\n",
        "     * Buy from / sell to, leases to, outsources to\n",
        "     * Owns shares of, subsidiary of\n",
        "     * Via their members (Personnel flows, friendship...)\n",
        "\n",
        "\n",
        "# Relational data-structures\n",
        "\n",
        "## Edgelist\n",
        "Most real world relational data is to be found in what we call an **edge list**, a dataframe that contains a minimum of two columns, one column of *nodes* that are the source of a connection and another column of nodes that are the target of the connection. The nodes in the data are identified by unique IDs.\n",
        "\n",
        "If the distinction between source and target is meaningful, the network is **directed**. If the distinction is not meaningful, the network is **undirected** (more on that later). So, every row that contains the ID of one element in column 1, and the ID of another element in column 2 indicates that a connection between them exists.\n",
        "\n",
        "An edge list can also contain additional columns that describe **attributes** of the edges such as a magnitude aspect for an edge. If the edges have a magnitude attribute the graph is considered **weighted** (e.g., number of interactions, strenght of friendship).\n",
        "\n",
        "Below an example ofa minimal edge list created with the `tibble()` function. In this case, let us assume this network to be unweighted, meaning a connection can be eiter tresent or absent.\n",
        "\n"
      ]
    },
    {
      "cell_type": "code",
      "metadata": {
        "Rmd_chunk_options": "edgelists",
        "autoscroll": false,
        "id": "bODhSR8H6z_9",
        "colab_type": "code",
        "colab": {}
      },
      "source": [
        "edge_list <- tibble(from = c(1, 2, 2, 1, 4),\n",
        "                    to = c(2, 3, 4, 5, 1))\n",
        "\n",
        "edge_list"
      ],
      "execution_count": 0,
      "outputs": []
    },
    {
      "cell_type": "markdown",
      "metadata": {
        "id": "3by8LSQO6z__",
        "colab_type": "text"
      },
      "source": [
        "\n",
        "## Adjacency Matrix\n",
        "\n",
        "A second popular form of network representation is the **adjacency-matrix** (also called **socio-matrix**). It is represented as a $n*n$ matrix, where $n$ stands for the number of elements of which their relationships should be represented. The value in the cell that intercepts row $n$ and column $m$ indicates if an edge is present (=1) or absent (=0).\n",
        "\n",
        "Tip: Given an edgelist, an adjacency matrix can easily be produced by crosstabulating:\n",
        "\n"
      ]
    },
    {
      "cell_type": "code",
      "metadata": {
        "Rmd_chunk_options": "matrix",
        "autoscroll": false,
        "id": "xsILr8AW60AA",
        "colab_type": "code",
        "colab": {}
      },
      "source": [
        "adj_matrix <- edge_list %>%\n",
        "  table() %>%\n",
        "  as.matrix()\n",
        "\n",
        "adj_matrix"
      ],
      "execution_count": 0,
      "outputs": []
    },
    {
      "cell_type": "markdown",
      "metadata": {
        "id": "yTI25OoL60AC",
        "colab_type": "text"
      },
      "source": [
        "\n",
        "*Note:* Existing as well as not existing connections are stored. Since most networks in reality are **sparse** (= more potential connections are inactive than active), this is inneficient for storrage and computation. Here, a `dgCMatrix` object from the `Matrix`can be helpful.\n",
        "\n"
      ]
    },
    {
      "cell_type": "code",
      "metadata": {
        "autoscroll": false,
        "id": "vlvPGuqw60AD",
        "colab_type": "code",
        "colab": {}
      },
      "source": [
        "library(Matrix)\n",
        "sparse_matrix <- edge_list %>%\n",
        "  table() %>%\n",
        "  Matrix(sparse = TRUE)\n",
        "\n",
        "sparse_matrix"
      ],
      "execution_count": 0,
      "outputs": []
    },
    {
      "cell_type": "markdown",
      "metadata": {
        "id": "l7eOelzq60AG",
        "colab_type": "text"
      },
      "source": [
        "\n",
        "This sparse datasructure only stores a reference to non-empty cells and their values.\n",
        "\n"
      ]
    },
    {
      "cell_type": "code",
      "metadata": {
        "autoscroll": false,
        "id": "IqnoSd7r60AG",
        "colab_type": "code",
        "colab": {}
      },
      "source": [
        "sparse_matrix %>% str()"
      ],
      "execution_count": 0,
      "outputs": []
    },
    {
      "cell_type": "markdown",
      "metadata": {
        "id": "qIA3HH5f60AJ",
        "colab_type": "text"
      },
      "source": [
        "\n",
        "## Nodelists\n",
        "Edgelists as well as adjacency matrices only stores connectivity pattern between nodes, but due to their structure cannot store informations on the nodes in which we might be interested. Therefore, we in many cases also provide a a **node list** with these informations (such as the names of the nodes or any kind of groupings).\n",
        "\n"
      ]
    },
    {
      "cell_type": "code",
      "metadata": {
        "Rmd_chunk_options": "nodelists",
        "autoscroll": false,
        "id": "C9RxX7t560AK",
        "colab_type": "code",
        "colab": {}
      },
      "source": [
        "node_list <- tibble(id = 1:5,\n",
        "                    name = c(\"Jesper\", \"Pernille\", \"Jacob\", \"Dorte\", \"Donald\"),\n",
        "                    gender = c(\"M\", \"F\", \"M\", \"F\", \"M\"),\n",
        "                    group = c(\"A\", \"B\", \"B\", \"A\", \"C\"))\n",
        "node_list"
      ],
      "execution_count": 0,
      "outputs": []
    },
    {
      "cell_type": "markdown",
      "metadata": {
        "id": "6ahVAZZJ60AM",
        "colab_type": "text"
      },
      "source": [
        "\n",
        "## Graph Objects\n",
        "\n",
        "Up to now we see that relatonal data, and the analysis thereof, has some particularities, making it distinct from tabular data (e.g., dataframes), we usually work with.\n",
        "\n",
        "* Tabular data\n",
        "     * In tabular data, summary statistics of variables are **between observations** (column-wise) interdependent, meaning changing a value of some observation will change the corresponding variables summary statistics.\n",
        "     * LIkewise, variable values might be **within observation** interdependent (row-wise), meaning changing a variable value might change summary statistics of the observation\n",
        "     * Otherwise, values are (at least mathematically) independent.\n",
        "* Graph data\n",
        "     * Same holds true, but adittional interdependencies due to the relational structure of the data.\n",
        "     * Sepperation between **node** and **edge** data, which is interdependent. Removing a node might alos impy the removal of edges, removal of edges changes the characteristics of nodes\n",
        "     * In adittion, the relational structure makes that not only true for adjacent nodes and edges, but potentially multiple. Adding/Removing one node/edge could change the characteristics of every single other node/edge.\n",
        "     * That is less of a problem for local network characteristics (eg., a node's degree on level 1). However, many node and edge characteristics such\n",
        "     * That's mainly why graph computing is slightly more messy, and need own mathematical tools, and applications from graphical computing (graphical like graph, not like figure)\n",
        "\n",
        "![](https://www.dropbox.com/s/y9mp6yarctm7ysd/networks_data_structure.png?dl=1)\n",
        "\n",
        "Therefore, network analysis packages in `R`, `Python`, and elsewhere usually define own graph objects (containing information on nodes as well as edges), in which network data for further analysis is stored.\n",
        "\n",
        "### Graph objects in [`igraph`](https://igraph.org/r/)\n",
        "\n",
        "One of the most popular network/graph analytics framework in `R` and `Python` alike is [`igraph`](http://igraph.org). It provides a powerful toolbox for analysis as well as plotting alike. Lets take a peak.\n",
        "\n",
        "To create an `igraph` object from an edge-list data frame we can use the `graph_from_data_frame()` function, which is a bit more straight forward than `network()`. There are three arguments in the `graph_from_data_frame()` function: d, vertices, and directed. Here, d refers to the edge list, vertices to the node list, and directed can be either `TRUE` or `FALSE` depending on whether the data is directed or undirected. By default, `graph.data.frame()` treats the first two columns of the edge list and any remaining columns as edge attributes.\n",
        "\n"
      ]
    },
    {
      "cell_type": "code",
      "metadata": {
        "autoscroll": false,
        "id": "BtE_6Cxx60AN",
        "colab_type": "code",
        "colab": {}
      },
      "source": [
        "library(igraph)\n",
        "g <- graph_from_data_frame(d = edge_list, vertices = node_list, directed = FALSE)\n",
        "# g <- graph_from_adjacency_matrix(adj_matrix, mode = \"undirected\") # Same for the adjacency matrix\n",
        "g"
      ],
      "execution_count": 0,
      "outputs": []
    },
    {
      "cell_type": "markdown",
      "metadata": {
        "id": "tRkmhoNn60AP",
        "colab_type": "text"
      },
      "source": [
        "\n",
        "Lets inspect the resulting object. An `igraph` graph object summary reveals some interesting informations.\n",
        "\n",
        "* First, it tells us the graph-type: undirected `UN`, or  directed `DN`\n",
        "* Afterwards, the number of nodes (4), and edges (5)\n",
        "* Followed by the node attributes (node level variables), which in this case are only their name, gender, and group (`attr: name (v/c), gender (v/c), group (v/c)`)\n",
        "* Lastly, a list of all existing edges. Note: `n--m` indicates an undirected, `n->m` an directed edge.\n",
        "\n",
        "Lets take a look at the structure of the object:\n",
        "\n"
      ]
    },
    {
      "cell_type": "code",
      "metadata": {
        "autoscroll": false,
        "id": "T52LjTD660AQ",
        "colab_type": "code",
        "colab": {}
      },
      "source": [
        "g[[1:2]]%>% glimpse() # Note the double brackets (g is a list object)"
      ],
      "execution_count": 0,
      "outputs": []
    },
    {
      "cell_type": "markdown",
      "metadata": {
        "id": "iDml0i2n60AS",
        "colab_type": "text"
      },
      "source": [
        "\n",
        "We see, the object has a list-format, consisting of sepperate lists for every node, containing some attributes which are irrelevant now, and an edgelist for every node, capturing its ego-network (eg., `..$ Jesper: 'igraph.vs' Named int [1:3] 2 4 5`)\n",
        "\n",
        "We can also plot it to take a look. `igraph` object can be directly used with the `plot()` function. The results can be adjusted with a set of parameters we will discover later. It's not super pretty, therefore we will later also explore more powerfull plotting tools for gaphs. However, its quick&dirty, so lets take it like that for now.\n",
        "\n"
      ]
    },
    {
      "cell_type": "code",
      "metadata": {
        "autoscroll": false,
        "id": "LkwSF_0p60AS",
        "colab_type": "code",
        "colab": {}
      },
      "source": [
        "plot(g)"
      ],
      "execution_count": 0,
      "outputs": []
    },
    {
      "cell_type": "markdown",
      "metadata": {
        "id": "CE4ayLUo60AV",
        "colab_type": "text"
      },
      "source": [
        "\n",
        "*Note:* We will not venture further into the `igraph` plotting functionality, since we will go all in with `ggraph`. However, there is a very neath tutorial [here](https://raw.githack.com/kateto/R-Network-Visualization-Workshop/master/Sunbelt%202019%20R%20Network%20Visualization%20Workshop.html), that will tell you everything you need to know, in case you are interested.\n",
        "\n",
        "We can inspect and manipulate the nodes via `V(g)` (V for vertices, its graph-theory slang), and edges with `E(g)`\n",
        "\n"
      ]
    },
    {
      "cell_type": "code",
      "metadata": {
        "autoscroll": false,
        "id": "pVlx4_OL60AW",
        "colab_type": "code",
        "colab": {}
      },
      "source": [
        "V(g)"
      ],
      "execution_count": 0,
      "outputs": []
    },
    {
      "cell_type": "code",
      "metadata": {
        "autoscroll": false,
        "id": "S0FIJoB060AY",
        "colab_type": "code",
        "colab": {}
      },
      "source": [
        "E(g)"
      ],
      "execution_count": 0,
      "outputs": []
    },
    {
      "cell_type": "markdown",
      "metadata": {
        "id": "trO4kCDI60Ab",
        "colab_type": "text"
      },
      "source": [
        "\n",
        "\n",
        "\n",
        "We can also use most of the base-R slicing&dicing.\n",
        "\n"
      ]
    },
    {
      "cell_type": "code",
      "metadata": {
        "autoscroll": false,
        "id": "mMT6XX-760Ac",
        "colab_type": "code",
        "colab": {}
      },
      "source": [
        "V(g)[1:3]\n",
        "E(g)[2:4]"
      ],
      "execution_count": 0,
      "outputs": []
    },
    {
      "cell_type": "markdown",
      "metadata": {
        "id": "CqLl4URe60Ae",
        "colab_type": "text"
      },
      "source": [
        "\n",
        "Remember, it's a list-object. So, if we just want to have the values, we have to use the double bracket `[[x]]`.\n",
        "\n"
      ]
    },
    {
      "cell_type": "code",
      "metadata": {
        "autoscroll": false,
        "id": "EujDzSdA60Af",
        "colab_type": "code",
        "colab": {}
      },
      "source": [
        "V(g)[[1:3]]"
      ],
      "execution_count": 0,
      "outputs": []
    },
    {
      "cell_type": "markdown",
      "metadata": {
        "id": "cbPRMp4w60Ah",
        "colab_type": "text"
      },
      "source": [
        "\n",
        "We can also use the `$` notation.\n",
        "\n"
      ]
    },
    {
      "cell_type": "code",
      "metadata": {
        "autoscroll": false,
        "id": "Wok4G26g60Ah",
        "colab_type": "code",
        "colab": {}
      },
      "source": [
        "V(g)$name"
      ],
      "execution_count": 0,
      "outputs": []
    },
    {
      "cell_type": "markdown",
      "metadata": {
        "id": "3ILR-Nbz60Ak",
        "colab_type": "text"
      },
      "source": [
        "\n",
        "There is obviously a lot more to say about `igraph` and its rich functionality. You will learn much of the abse functionality of `igraph` in your DC assignments. Furthermore [Katya Ognyanova](https://kateto.net/), has a [brilliant tutorial](https://kateto.net/networks-r-igraph) that can be studied.\n",
        "\n",
        "### Graph objects in [`tidygraph`](https://github.com/thomasp85/tidygraph)\n",
        "While the `igraph` functionality still represents the core of `R`'s network analysis toolbox, recent developments have made network analytics much more accessible and intuitive.\n",
        "\n",
        "[Thomas Lin Pedersen](http://www.data-imaginist.com) (also known as the developer of beloved packages like `ggforce`, `gganimate`, and the `R` implementation of `lime`)  has recently released the [`tidygraph`](https://github.com/thomasp85/tidygraph) package that leverage the power of `igraph` in a manner consistent with the [`tidyverse`](http://www.tidyverse.org) workflow. It represents a lightweight wrapper around the core `igraph` object and functionality which makes it accessible for much of the traditional `dplyr` workflows. Even better, he tops it up with [`ggraph`](https://cran.r-project.org/web/packages/ggraph/index.html), a consistent `ggplot2`-look-and-feel network visualization package.\n",
        "\n",
        "For that reason, we will mostly work with the `tidygraph` framework, while we still in some few cases need to draw from the base `igraph` functionality. Lets take a peak.\n",
        "\n",
        "### Creating a`tbl_graph`\n",
        "We here created the `tbl_graph` directly from the `igraph` object.\n",
        "\n"
      ]
    },
    {
      "cell_type": "code",
      "metadata": {
        "autoscroll": false,
        "collapsed": true,
        "id": "O6ySAROn60Al",
        "colab_type": "code",
        "colab": {}
      },
      "source": [
        "g  %<>% as_tbl_graph()\n",
        "g"
      ],
      "execution_count": 0,
      "outputs": []
    },
    {
      "cell_type": "markdown",
      "metadata": {
        "id": "9L5uDank60Ar",
        "colab_type": "text"
      },
      "source": [
        "\n",
        "We see a more intuitive representation of the datastructure, consisting of a node as well as an edge dataframe.\n",
        "\n",
        "We could for sure also create it based on our initial node- and edgelist.\n",
        "\n"
      ]
    },
    {
      "cell_type": "code",
      "metadata": {
        "autoscroll": false,
        "collapsed": true,
        "id": "qeMzDxEC60As",
        "colab_type": "code",
        "colab": {}
      },
      "source": [
        "g <- tbl_graph(edges = edge_list, nodes = node_list, directed = FALSE)"
      ],
      "execution_count": 0,
      "outputs": []
    },
    {
      "cell_type": "markdown",
      "metadata": {
        "id": "WvnEhyj160Av",
        "colab_type": "text"
      },
      "source": [
        "\n",
        "Note: The `tbl_graph` class is a thin wrapper around an `igraph` object that provides methods for manipulating the graph using the tidy API. As it is just a subclass of `igraph` every `igraph` method and its syntax will work as expected and can be used if necessary.\n",
        "\n"
      ]
    },
    {
      "cell_type": "code",
      "metadata": {
        "autoscroll": false,
        "collapsed": true,
        "id": "_urVkQCF60Av",
        "colab_type": "code",
        "colab": {}
      },
      "source": [
        "V(g)"
      ],
      "execution_count": 0,
      "outputs": []
    },
    {
      "cell_type": "markdown",
      "metadata": {
        "id": "HAQFLz0w60Ax",
        "colab_type": "text"
      },
      "source": [
        "\n",
        "In adittionan, the `as_tbl_graph()` function also can transform different types of network data from objects such as `data.frame`, `matrix`, `dendrogram`, `igraph`, etc.\n",
        "\n",
        "### Acessing and manipulating nodes and edges\n",
        "But how can a graph object be manipulated with `dplyr` syntax? We know that a graph object contains an edge as well as node dataframe, so commands like `g %>% filter(name == \"Pernille\")` would be confusing, since it is unclear if we refer to nodes or edges. `tidygraph`'s solution here are selective **activation pipes**:\n",
        "\n",
        "* `%N>%` activates nodes (short for longer alternative:`%>% activate_nodes()`)\n",
        "* `%E>%` activates edges (short for longer alternative:`%>% activate_edges()`)\n",
        "\n",
        "Consequently, functions are executed on the currently active dataframe of either nodes or edges. With this simple syntax trick, graphs become subject to most commonly known data manipulation workflows for tabular data.\n",
        "\n"
      ]
    },
    {
      "cell_type": "code",
      "metadata": {
        "autoscroll": false,
        "collapsed": true,
        "id": "xUa2QbET60Ay",
        "colab_type": "code",
        "colab": {}
      },
      "source": [
        "g %N>%\n",
        "  filter(gender == \"F\")"
      ],
      "execution_count": 0,
      "outputs": []
    },
    {
      "cell_type": "markdown",
      "metadata": {
        "id": "T0JbTinv60Az",
        "colab_type": "text"
      },
      "source": [
        "\n",
        "Note that filtering nodes will simultaneously result in a filtering of edges. We for sure can also do manipulatings on both nodes and edges in one pipeline.\n",
        "\n"
      ]
    },
    {
      "cell_type": "code",
      "metadata": {
        "autoscroll": false,
        "collapsed": true,
        "id": "BwTBhURB60A0",
        "colab_type": "code",
        "colab": {}
      },
      "source": [
        "g %N>%\n",
        "  filter(group %in% c(\"A\", \"B\")) %E>%\n",
        "  filter(to == 2)"
      ],
      "execution_count": 0,
      "outputs": []
    },
    {
      "cell_type": "markdown",
      "metadata": {
        "id": "95rfpZI460A2",
        "colab_type": "text"
      },
      "source": [
        "\n",
        "Note that the filtering of edges did not reduce the nodeset. While nodes can be isolated in a nework, edges without an adjacent node cannot exist.\n",
        "\n",
        "We can also pull the virtual node or edge dataframe out of the `tbl_graph` and use it for tabular analysis.\n",
        "\n"
      ]
    },
    {
      "cell_type": "code",
      "metadata": {
        "autoscroll": false,
        "collapsed": true,
        "id": "KGiYUZul60A4",
        "colab_type": "code",
        "colab": {}
      },
      "source": [
        "g %N>%\n",
        "  filter(group == \"B\") %>%\n",
        "  as_tibble()"
      ],
      "execution_count": 0,
      "outputs": []
    },
    {
      "cell_type": "markdown",
      "metadata": {
        "id": "IbH58xFB60A6",
        "colab_type": "text"
      },
      "source": [
        "\n",
        "\n",
        "### Visualization (preview)\n",
        "\n",
        "One last thing for now: While `igraph` also provides a powerful network visualization functionality, I will also mostly go with Thomas sister package, [`ggraph`](https://github.com/thomasp85/ggraph), which provides a network visualization interface compatible and consistent with `ggplot2`\n",
        "\n",
        "The rest works like any `ggplot` function call, just that we use special geoms for our network, like `geom_edge_density()` to draw a shadow where the edge density is higher, `geom_edge_link()` to connect edges with a straight line, `geom_node_point()` to draw node points and `geom_node_text()` to draw the labels. More options can be found here.\n",
        "\n"
      ]
    },
    {
      "cell_type": "code",
      "metadata": {
        "autoscroll": false,
        "collapsed": true,
        "id": "5bWTqZmx60A7",
        "colab_type": "code",
        "colab": {}
      },
      "source": [
        "library(ggraph)\n",
        "g %>% ggraph(layout = \"nicely\") +\n",
        "  geom_edge_link() +\n",
        "  geom_node_point() +\n",
        "  geom_node_text(aes(label = name))"
      ],
      "execution_count": 0,
      "outputs": []
    },
    {
      "cell_type": "markdown",
      "metadata": {
        "id": "7RBOyV3360A9",
        "colab_type": "text"
      },
      "source": [
        "\n",
        "Not very impressive up to now, but wait for the real stuff to come in later sessions.\n",
        "\n",
        "# Network analysis and measures\n",
        "While being able to use the `dplyr` verbs on relational data is nice and all, one of the reasons we are dealing with graph data in the first place is because we need some *graph-based algorithms* for solving our problem at hand. If we need to break out of the tidy workflow every time this was needed we wouldn’t have gained much. Because of this `tidygraph` has wrapped more or less all of `igraphs` algorithms in different ways, ensuring a consistent syntax as well as output that fits into the tidy workflow. In the following we’re going to take a look at these.\n",
        "\n",
        "Central to all of these functions is that they know about which graph is being computed on (in the same way that `n()` knows about which tibble is currently in scope). Furthermore they always return results matching the node or edge position so they can be used directly in `mutate()` calls.\n",
        "\n",
        "## Node-Level measures\n",
        "\n",
        "Often, we are interested in ways to summarize the pattern of node connectivity to infer something on their characteristics.\n",
        "\n",
        "Lets create some example graph on which we will illustrate some of teh most popular ones.\n",
        "\n"
      ]
    },
    {
      "cell_type": "code",
      "metadata": {
        "autoscroll": false,
        "id": "F1JIX99M60A_",
        "colab_type": "code",
        "colab": {}
      },
      "source": [
        "# generate a sample network: play_smallworld() Create graphs based on the Watts-Strogatz small- world model.\n",
        "set.seed(1234)\n",
        "g <- play_barabasi_albert(n = 200, # Number of nodes\n",
        "                          power = 0.75, # Power of preferential attachment effect\n",
        "                          directed = FALSE # Undirected network\n",
        "                          )\n",
        "\n",
        "# # You can also give it a try with another network structure\n",
        "# g <- play_smallworld(n_dim = 1, # Number of dimensions (more on that later)\n",
        "#                      dim_size = 100, # Number of nodes\n",
        "#                      order = 3, # The neighborhood size to create connections from\n",
        "#                      p_rewire = 0.05 # The rewiring probability of edges\n",
        "#                      )"
      ],
      "execution_count": 0,
      "outputs": []
    },
    {
      "cell_type": "code",
      "metadata": {
        "autoscroll": false,
        "id": "X4yNPWos60BB",
        "colab_type": "code",
        "colab": {}
      },
      "source": [
        "g %>%\n",
        "    ggraph(layout = \"fr\") +\n",
        "    geom_edge_link() +\n",
        "    geom_node_point() +\n",
        "    theme_graph() # Adding `theme_graph()` introduces a stileguide better suited for rgaphs"
      ],
      "execution_count": 0,
      "outputs": []
    },
    {
      "cell_type": "markdown",
      "metadata": {
        "id": "baMR4IXE60BC",
        "colab_type": "text"
      },
      "source": [
        "\n",
        "\n",
        "### Centralities\n",
        "One of the simplest concepts when computing node level measures is that of centrality, i.e. how central is a node or edge in the graph. As this definition is inherently vague, a lot of different centrality scores exists that all treat the concept of \"central\" a bit different.\n",
        "\n",
        "We in the following well briefly illustrate the idea behind three of the most popular centrality measures, namely:\n",
        "\n",
        "* Degree centrality\n",
        "* Eigenvector centrality\n",
        "* Betweenness centrality\n",
        "\n"
      ]
    },
    {
      "cell_type": "code",
      "metadata": {
        "autoscroll": false,
        "collapsed": true,
        "id": "kSDIuscv60BE",
        "colab_type": "code",
        "colab": {}
      },
      "source": [
        "g <- g %N>%\n",
        "  mutate(centrality_dgr = centrality_degree(),\n",
        "         centrality_eigen = centrality_eigen(),\n",
        "         centrality_between = centrality_betweenness())"
      ],
      "execution_count": 0,
      "outputs": []
    },
    {
      "cell_type": "code",
      "metadata": {
        "autoscroll": false,
        "collapsed": true,
        "id": "E1MufQsQ60BG",
        "colab_type": "code",
        "colab": {}
      },
      "source": [
        "g %N>%\n",
        "  as_tibble() %>%\n",
        "  head()"
      ],
      "execution_count": 0,
      "outputs": []
    },
    {
      "cell_type": "markdown",
      "metadata": {
        "id": "FsYiQ2FV60BI",
        "colab_type": "text"
      },
      "source": [
        "\n",
        "\n",
        "`tidygraph` currently has 11 different centrality (base igraph even more) measures and all of these are prefixed with `centrality_*` for easy discoverability. All of them returns a numeric vector matching the nodes (or edges in the case of `centrality_edge_betweenness()`).\n",
        "\n",
        "#### Degree centrality\n",
        "The degree centrality is probably the most intuitive node measure, which basically just counts the number of edges adjacent to a node.  Formally, the degree of node $i$ is the number of existing edges $e_{ij}$ with other nodes $j$ in a network with $n$ nodes:\n",
        "\n",
        "$$d_{ij} =\\sum\\limits_{j=1}^{n} e_{ij} ~ where: ~ i \\neq j$$\n",
        "\n"
      ]
    },
    {
      "cell_type": "code",
      "metadata": {
        "autoscroll": false,
        "collapsed": true,
        "id": "sGTSB-VE60BI",
        "colab_type": "code",
        "colab": {}
      },
      "source": [
        "g %>%\n",
        "    ggraph(layout = \"fr\") +\n",
        "    geom_edge_link() +\n",
        "    geom_node_point(aes(size = centrality_dgr, colour = centrality_dgr)) +\n",
        "    scale_color_continuous(guide = \"legend\") +\n",
        "    theme_graph()"
      ],
      "execution_count": 0,
      "outputs": []
    },
    {
      "cell_type": "markdown",
      "metadata": {
        "id": "Y2g6qZBM60BL",
        "colab_type": "text"
      },
      "source": [
        "\n",
        "#### Eigenvector centrality\n",
        "Similar to the degree centrality, the eigenvector centrality takes this idea of characterizing nodes by their importance in a network a step further. It also represents the main idea behind the pagerank algorithm that was powering Google Search in the beginning.\n",
        "\n",
        "The basic idea is to weight a node's degree centrality by the centrality of the nodes adjacent to it (and their centrality in turn by their centrality). This will make nodes connected to in turn also well connected nodes more important. The eigenvector here is just a clever mathematical trick to solve such a recurrent problem.\n",
        "\n"
      ]
    },
    {
      "cell_type": "code",
      "metadata": {
        "autoscroll": false,
        "collapsed": true,
        "id": "bz01qLwV60BL",
        "colab_type": "code",
        "colab": {}
      },
      "source": [
        "g %>%\n",
        "    ggraph(layout = \"fr\") +\n",
        "    geom_edge_link() +\n",
        "    geom_node_point(aes(size = centrality_eigen, colour = centrality_eigen)) +\n",
        "    scale_color_continuous(guide = \"legend\") +\n",
        "    theme_graph()"
      ],
      "execution_count": 0,
      "outputs": []
    },
    {
      "cell_type": "markdown",
      "metadata": {
        "id": "gVhq1IWw60BN",
        "colab_type": "text"
      },
      "source": [
        "\n",
        "#### Betweenness centrality\n",
        "\n"
      ]
    },
    {
      "cell_type": "code",
      "metadata": {
        "autoscroll": false,
        "collapsed": true,
        "id": "VB2HIMlD60BO",
        "colab_type": "code",
        "colab": {}
      },
      "source": [
        "g %>%\n",
        "    ggraph(layout = \"fr\") +\n",
        "    geom_edge_link() +\n",
        "    geom_node_point(aes(size = centrality_between, colour = centrality_between)) +\n",
        "    scale_color_continuous(guide = \"legend\") +\n",
        "    theme_graph()"
      ],
      "execution_count": 0,
      "outputs": []
    },
    {
      "cell_type": "markdown",
      "metadata": {
        "id": "d93Zrq3U60BP",
        "colab_type": "text"
      },
      "source": [
        "\n",
        "\n",
        "## Clustering (Community detection)\n",
        "\n",
        "Another common operation is to group nodes based on the graph topology, sometimes referred to as *community detection* based on its commonality in social network analysis.\n",
        "\n",
        "All clustering algorithms from `igraph` are available in tidygraph using the `group_*` prefix. All of these functions return an integer vector with nodes (or edges) sharing the same integer being grouped together.\n",
        "\n",
        "There are-just like for clusterin of tabular data in UML-many different algorithms and approaches to\n",
        "\n",
        "Lets illustrate\n",
        "\n"
      ]
    },
    {
      "cell_type": "code",
      "metadata": {
        "autoscroll": false,
        "collapsed": true,
        "id": "3UpNwrox60BQ",
        "colab_type": "code",
        "colab": {}
      },
      "source": [
        "# We create an example network\n",
        "g <- play_islands(n_islands = 5, # \tThe number of densely connected islands\n",
        "                  size_islands = 15, # The number of nodes in each island\n",
        "                  p_within = 0.75, # The probability of edges within and between groups/blocks\n",
        "                  m_between = 5 # The number of edges between groups/islands\n",
        "                  )"
      ],
      "execution_count": 0,
      "outputs": []
    },
    {
      "cell_type": "code",
      "metadata": {
        "autoscroll": false,
        "collapsed": true,
        "id": "RDGW1PEO60BS",
        "colab_type": "code",
        "colab": {}
      },
      "source": [
        "# As planned, we clearely see distinct communities\n",
        "g %>%\n",
        "    ggraph(layout = 'kk') +\n",
        "    geom_edge_link() +\n",
        "    geom_node_point(size = 7) +\n",
        "    theme_graph()"
      ],
      "execution_count": 0,
      "outputs": []
    },
    {
      "cell_type": "code",
      "metadata": {
        "autoscroll": false,
        "collapsed": true,
        "id": "5V_TODDP60BT",
        "colab_type": "code",
        "colab": {}
      },
      "source": [
        "# We run a community detection simply with the group_* function of tidygraph. here, the Lovain algorithm is a well performing and fast choice.\n",
        "g <- g %N>%\n",
        "    mutate(community = group_louvain() %>% as.factor())"
      ],
      "execution_count": 0,
      "outputs": []
    },
    {
      "cell_type": "code",
      "metadata": {
        "autoscroll": false,
        "collapsed": true,
        "id": "NQLZ2-TZ60BV",
        "colab_type": "code",
        "colab": {}
      },
      "source": [
        "# Lets see how well it did...\n",
        "g %>%\n",
        "    ggraph(layout = 'kk') +\n",
        "    geom_edge_link() +\n",
        "    geom_node_point(aes(colour = community), size = 7) +\n",
        "    theme_graph()"
      ],
      "execution_count": 0,
      "outputs": []
    },
    {
      "cell_type": "markdown",
      "metadata": {
        "id": "hZs68Hwg60BX",
        "colab_type": "text"
      },
      "source": [
        "\n",
        "## Neighborhood of a Node\n",
        "\n",
        "Lastly, we can look at the surrounding of a node, meaning the ones it is connected to, its **neighborhood**. Here, we can look at the **ego-network of a node**. That means how many nodes are in a certain **geodesic distance**. Plainly speaking, how many nodes are not more than x-steps away.\n",
        "\n",
        "![](https://www.dropbox.com/s/yat7qsdfszmc1d1/networks_distance.jpg?dl=1){width=250px}\n",
        "\n",
        "Lets check the size of all nodes neighborhood at distance 2.\n",
        "\n"
      ]
    },
    {
      "cell_type": "code",
      "metadata": {
        "autoscroll": false,
        "collapsed": true,
        "id": "DJ1sZaQZ60BZ",
        "colab_type": "code",
        "colab": {}
      },
      "source": [
        "g %N>%\n",
        "  mutate(neighborhood_size = local_size(order = 2)) %>%\n",
        "  as_tibble() %>%\n",
        "  arrange(desc(neighborhood_size)) %>%\n",
        "  head()"
      ],
      "execution_count": 0,
      "outputs": []
    },
    {
      "cell_type": "markdown",
      "metadata": {
        "id": "-IuI8G1y60Bd",
        "colab_type": "text"
      },
      "source": [
        "\n",
        "We can also not only look at it, but produce a new sub-graph only of this ego-network. Here, we need to use the base `igraph` function. Note that it produces an `igraph` object, so we have to make a `tidygraph` again...\n",
        "\n"
      ]
    },
    {
      "cell_type": "code",
      "metadata": {
        "autoscroll": false,
        "collapsed": true,
        "id": "nsyg1-J060Bd",
        "colab_type": "code",
        "colab": {}
      },
      "source": [
        "g1 <- make_ego_graph(g, 2, nodes = 1)[[1]] %>% as_tbl_graph()\n",
        "g50 <- make_ego_graph(g, 2, nodes = 50)[[1]] %>% as_tbl_graph()"
      ],
      "execution_count": 0,
      "outputs": []
    },
    {
      "cell_type": "code",
      "metadata": {
        "autoscroll": false,
        "collapsed": true,
        "id": "X3E33c6j60Bf",
        "colab_type": "code",
        "colab": {}
      },
      "source": [
        "g1 %>%\n",
        "    ggraph(layout = 'kk') +\n",
        "    geom_edge_link() +\n",
        "    geom_node_point(aes(colour = community), size = 7) +\n",
        "    theme_graph()"
      ],
      "execution_count": 0,
      "outputs": []
    },
    {
      "cell_type": "code",
      "metadata": {
        "autoscroll": false,
        "collapsed": true,
        "id": "ODZHpUak60Bh",
        "colab_type": "code",
        "colab": {}
      },
      "source": [
        "g50 %>%\n",
        "    ggraph(layout = 'kk') +\n",
        "    geom_edge_link() +\n",
        "    geom_node_point(aes(colour = community), size = 7) +\n",
        "    theme_graph()"
      ],
      "execution_count": 0,
      "outputs": []
    },
    {
      "cell_type": "markdown",
      "metadata": {
        "id": "gDT4FeCu60Bi",
        "colab_type": "text"
      },
      "source": [
        "\n",
        "\n",
        "## (Global) Network structure\n",
        "\n",
        "Finally, it is often also informative to look at the overal characteristics of the network. We will do this in more detail enxt time, but just so you know:\n",
        "\n",
        "\n",
        "The **density** of a measure represents the share of all connected to all possible connections in the network\n",
        "\n"
      ]
    },
    {
      "cell_type": "code",
      "metadata": {
        "autoscroll": false,
        "collapsed": true,
        "id": "xF-FFcPg60Bj",
        "colab_type": "code",
        "colab": {}
      },
      "source": [
        "edge_density(g)"
      ],
      "execution_count": 0,
      "outputs": []
    },
    {
      "cell_type": "markdown",
      "metadata": {
        "id": "_K-A5Lb560Bl",
        "colab_type": "text"
      },
      "source": [
        "\n",
        "**Transistivity**, also called the **Clustering Cefficient** indicates how much the network tends to be locally clustered. That is measured by the share of **closed triplets**. Again,w e will dig into that next time.\n",
        "\n",
        "![](https://www.dropbox.com/s/ei585dd6ysa243d/networks_ccoeff.png?dl=1){width=250px}\n",
        "\n",
        "\n"
      ]
    },
    {
      "cell_type": "code",
      "metadata": {
        "autoscroll": false,
        "collapsed": true,
        "id": "lEM2uBGT60Bm",
        "colab_type": "code",
        "colab": {}
      },
      "source": [
        "transitivity(g)"
      ],
      "execution_count": 0,
      "outputs": []
    },
    {
      "cell_type": "markdown",
      "metadata": {
        "id": "Z9v40-Rd60Bp",
        "colab_type": "text"
      },
      "source": [
        "\n",
        "\n",
        "The **diameter** is the longest of the shortest paths between two nodes of the network.\n",
        "\n"
      ]
    },
    {
      "cell_type": "code",
      "metadata": {
        "autoscroll": false,
        "collapsed": true,
        "id": "iclDeFzv60Bp",
        "colab_type": "code",
        "colab": {}
      },
      "source": [
        "diameter(g, directed = F, weights = NA)"
      ],
      "execution_count": 0,
      "outputs": []
    },
    {
      "cell_type": "markdown",
      "metadata": {
        "id": "MsxuzylW60Bs",
        "colab_type": "text"
      },
      "source": [
        "\n",
        "Finally, the **mean distance**, or **average path lenght** represents the mean of all shortest paths between all nodes. It is a measure of diffusion potential within a network.\n",
        "\n"
      ]
    },
    {
      "cell_type": "code",
      "metadata": {
        "autoscroll": false,
        "collapsed": true,
        "id": "9cbNSQW360Bt",
        "colab_type": "code",
        "colab": {}
      },
      "source": [
        "mean_distance(g, directed = F)"
      ],
      "execution_count": 0,
      "outputs": []
    },
    {
      "cell_type": "markdown",
      "metadata": {
        "id": "TMqMD-Mw60Bu",
        "colab_type": "text"
      },
      "source": [
        "\n",
        "\n",
        "# Case: Networks are coming...\n",
        "\n",
        "![](https://www.dropbox.com/s/gpsjhxzvpm2cerz/random_got.jpg?dl=2)\n",
        "\n",
        "So, lets get serious. Appropriate for the weather these days in Denmark, the theme is \"winter is comming...\". Therefore, we will have some fun analysing the Game of Thrones data provided by [Andrew Beveridge](https://github.com/mathbeveridge/asoiaf). It is a Character Interaction Networks for George R. R. Martin's \"A Song of Ice and Fire\" saga (yes, we are talking about the books...). These networks were created by connecting two characters whenever their names (or nicknames) appeared within 15 words of one another in one of the books in \"A Song of Ice and Fire.\" The edge weight corresponds to the number of interactions.\n",
        "\n",
        "This is a nice skill you will have after the second part of M2 on your own.\n",
        "\n",
        "## Build the graph\n",
        "\n",
        "First, we load all nodes, representing all characters appearing in the books:\n",
        "\n"
      ]
    },
    {
      "cell_type": "code",
      "metadata": {
        "autoscroll": false,
        "id": "tEYXsSt160Bu",
        "colab_type": "code",
        "colab": {}
      },
      "source": [
        "edges <- read_csv(\"https://www.dropbox.com/s/l8v3if1271nu8yx/asoiaf-all-edges.csv?dl=1\")\n",
        "colnames(edges) <- tolower(colnames(edges))"
      ],
      "execution_count": 0,
      "outputs": []
    },
    {
      "cell_type": "code",
      "metadata": {
        "autoscroll": false,
        "id": "YOY1JVua60Bw",
        "colab_type": "code",
        "colab": {}
      },
      "source": [
        "edges %>% head()"
      ],
      "execution_count": 0,
      "outputs": []
    },
    {
      "cell_type": "markdown",
      "metadata": {
        "id": "5rEjMBfU60Bz",
        "colab_type": "text"
      },
      "source": [
        "\n",
        "\n",
        "So, that's what we have, a classical edgelist, with id1 in column 1 and id2 in column2. Note, the edges are in this case weighted.\n",
        "\n",
        "Ok, lets see how many characters we have overal.\n",
        "\n"
      ]
    },
    {
      "cell_type": "code",
      "metadata": {
        "autoscroll": false,
        "id": "jQOpShpr60B0",
        "colab_type": "code",
        "colab": {}
      },
      "source": [
        "n_distinct(c(edges$source, edges$target))"
      ],
      "execution_count": 0,
      "outputs": []
    },
    {
      "cell_type": "markdown",
      "metadata": {
        "id": "cjN7f1hY60B1",
        "colab_type": "text"
      },
      "source": [
        "\n",
        "Because there are so many characters in the books, many of them minor, I am subsetting the data to the 100 characters with the most interactions across all books. The edges are undirected, therefore there are no redundant Source-Target combinations; because of this, I gathered Source and Target data before summing up the weights.\n",
        "\n"
      ]
    },
    {
      "cell_type": "code",
      "metadata": {
        "autoscroll": false,
        "id": "Mb3jWP0a60B2",
        "colab_type": "code",
        "colab": {}
      },
      "source": [
        "chars_main <- edges %>%\n",
        "  select(-type) %>%\n",
        "  gather(x, name, source:target) %>%\n",
        "  group_by(name) %>%\n",
        "  summarise(sum_weight = sum(weight)) %>%\n",
        "  ungroup() %>%\n",
        "  arrange(desc(sum_weight)) %>%\n",
        "  slice(1:100)\n",
        "\n",
        "head(chars_main)"
      ],
      "execution_count": 0,
      "outputs": []
    },
    {
      "cell_type": "markdown",
      "metadata": {
        "id": "3lExYKMy60B3",
        "colab_type": "text"
      },
      "source": [
        "\n",
        "So far so good, if we only go by edge weights, Lets reduce our edgelist to this main characters, just to warm up and keep the overview.\n",
        "\n"
      ]
    },
    {
      "cell_type": "code",
      "metadata": {
        "autoscroll": false,
        "id": "9LdzRxzI60B3",
        "colab_type": "code",
        "colab": {}
      },
      "source": [
        "edges %<>%\n",
        "  filter(source %in% chars_main$name & target %in% chars_main$name) %>%\n",
        "  select(source, target, weight) %>%\n",
        "  rename(from = source,\n",
        "         to = target)\n",
        "# Note: Since it is small data, this way with %in% is ok. However, with large datasets I would filter via semi_join() instead (more efficient)"
      ],
      "execution_count": 0,
      "outputs": []
    },
    {
      "cell_type": "markdown",
      "metadata": {
        "id": "m-sjsIKo60B4",
        "colab_type": "text"
      },
      "source": [
        "\n",
        "Now we can convert our edgelist into a `tbl_graph` object structure.\n",
        "\n"
      ]
    },
    {
      "cell_type": "code",
      "metadata": {
        "autoscroll": false,
        "id": "AUlZNhxc60B5",
        "colab_type": "code",
        "colab": {}
      },
      "source": [
        "g <- edges %>% as_tbl_graph(directed = FALSE)\n",
        "\n",
        "g"
      ],
      "execution_count": 0,
      "outputs": []
    },
    {
      "cell_type": "markdown",
      "metadata": {
        "id": "TrHEnrr460B6",
        "colab_type": "text"
      },
      "source": [
        "\n",
        "We can use some of the `tidygraph` helpers to briefly clean the graph. Check `?node_is_*` and `?edge_is_*` for options.\n",
        "\n"
      ]
    },
    {
      "cell_type": "code",
      "metadata": {
        "autoscroll": false,
        "id": "NQyJRm4I60B9",
        "colab_type": "code",
        "colab": {}
      },
      "source": [
        "# Filtering out multiple edges and isolated nodes (unconnected), in case there are some\n",
        "g <- g %E>%\n",
        "  filter(!edge_is_multiple()) %N>%\n",
        "  filter(!node_is_isolated())"
      ],
      "execution_count": 0,
      "outputs": []
    },
    {
      "cell_type": "markdown",
      "metadata": {
        "id": "UWSXffGd60B-",
        "colab_type": "text"
      },
      "source": [
        "\n",
        "Note that the edges in this graph are weighted. We can briefly look at the weight distribution:\n",
        "\n"
      ]
    },
    {
      "cell_type": "code",
      "metadata": {
        "autoscroll": false,
        "id": "jOi_0wBL60B-",
        "colab_type": "code",
        "colab": {}
      },
      "source": [
        "g %E>%\n",
        "  as_tibble() %>%\n",
        "  ggplot(aes(x = weight)) +\n",
        "  geom_histogram()"
      ],
      "execution_count": 0,
      "outputs": []
    },
    {
      "cell_type": "markdown",
      "metadata": {
        "id": "FCOLc3O-60CA",
        "colab_type": "text"
      },
      "source": [
        "\n",
        "We see a right skewed distribution with many weak and some very strong edges. Lets take a look what are the edges with the highest weight (meaning here: the characters with most intraction).\n",
        "\n"
      ]
    },
    {
      "cell_type": "code",
      "metadata": {
        "autoscroll": false,
        "id": "eZ4hxXr660CA",
        "colab_type": "code",
        "colab": {}
      },
      "source": [
        "g %E>%\n",
        "  as_tibble() %>%\n",
        "  arrange(desc(weight)) %>%\n",
        "  head()"
      ],
      "execution_count": 0,
      "outputs": []
    },
    {
      "cell_type": "markdown",
      "metadata": {
        "id": "ydFhx8yE60CC",
        "colab_type": "text"
      },
      "source": [
        "\n",
        "`tidygraph` always uses numeric IDs for nodes, which are also labeling the edges. This is not very helpful to get insights. So, lets take the node names in instead.\n",
        "\n"
      ]
    },
    {
      "cell_type": "code",
      "metadata": {
        "autoscroll": false,
        "id": "5VsPWGDh60CD",
        "colab_type": "code",
        "colab": {}
      },
      "source": [
        "# We access the nodes directly via .N(). The same can be done for edges with .E() and the graph with .G(). Check ?context_accessors for more infos\n",
        "g %E>%\n",
        "  mutate(name_from = .N()$name[from],\n",
        "         name_to = .N()$name[to]) %>%\n",
        "  as_tibble() %>%\n",
        "  select(name_from, name_to, weight) %>%\n",
        "  arrange(desc(weight)) %>%\n",
        "  head()"
      ],
      "execution_count": 0,
      "outputs": []
    },
    {
      "cell_type": "markdown",
      "metadata": {
        "id": "5jopm3Ap60CE",
        "colab_type": "text"
      },
      "source": [
        "\n",
        "\n",
        "## Node Characteristics\n",
        "\n"
      ]
    },
    {
      "cell_type": "code",
      "metadata": {
        "autoscroll": false,
        "collapsed": true,
        "id": "BdVf2Flw60CF",
        "colab_type": "code",
        "colab": {}
      },
      "source": [
        "g <- g %N>%\n",
        "  mutate(centrality_dgr = centrality_degree(weights = weight),\n",
        "         centrality_eigen = centrality_eigen(weights = weight),\n",
        "         centrality_between = centrality_betweenness(weights = weight))"
      ],
      "execution_count": 0,
      "outputs": []
    },
    {
      "cell_type": "code",
      "metadata": {
        "autoscroll": false,
        "collapsed": true,
        "id": "sRdRi4kx60CJ",
        "colab_type": "code",
        "colab": {}
      },
      "source": [
        "bind_cols(g %N>%\n",
        "            select(name, centrality_dgr) %>%\n",
        "            arrange(desc(centrality_dgr)) %>%\n",
        "            as_tibble(),\n",
        "          g %N>%\n",
        "            select(name, centrality_eigen) %>%\n",
        "            arrange(desc(centrality_eigen)) %>%\n",
        "            as_tibble(),\n",
        "          g %N>%\n",
        "            select(name, centrality_between) %>%\n",
        "            arrange(desc(centrality_between)) %>%\n",
        "            as_tibble()) %>%\n",
        "  mutate_if(is.numeric, round, 1) %>%\n",
        "  head()"
      ],
      "execution_count": 0,
      "outputs": []
    },
    {
      "cell_type": "markdown",
      "metadata": {
        "id": "opiji_Xq60CK",
        "colab_type": "text"
      },
      "source": [
        "\n",
        "## Communities & Groups\n",
        "\n"
      ]
    },
    {
      "cell_type": "code",
      "metadata": {
        "autoscroll": false,
        "collapsed": true,
        "id": "lwq5soso60CL",
        "colab_type": "code",
        "colab": {}
      },
      "source": [
        "g <- g %N>%\n",
        "    mutate(community = group_louvain() %>% as.factor())"
      ],
      "execution_count": 0,
      "outputs": []
    },
    {
      "cell_type": "code",
      "metadata": {
        "autoscroll": false,
        "collapsed": true,
        "id": "Kkkk5Qi960CO",
        "colab_type": "code",
        "colab": {}
      },
      "source": [
        "g %N>%\n",
        "  select(name, community, centrality_dgr) %>%\n",
        "  as_tibble() %>%\n",
        "  arrange(community, desc(centrality_dgr)) %>%\n",
        "  group_by(community) %>%\n",
        "  slice(1:5) %>% mutate(n = 1:5) %>%\n",
        "  ungroup() %>%\n",
        "  select(-centrality_dgr) %>%\n",
        "  spread(community, name)\n"
      ],
      "execution_count": 0,
      "outputs": []
    },
    {
      "cell_type": "markdown",
      "metadata": {
        "id": "fZKg9lJZ60CP",
        "colab_type": "text"
      },
      "source": [
        "\n",
        "## Network Visualization I\n",
        "\n",
        "Ok, lets give it a first minimal shot:\n",
        "\n"
      ]
    },
    {
      "cell_type": "code",
      "metadata": {
        "autoscroll": false,
        "collapsed": true,
        "id": "NwqRTlxD60CQ",
        "colab_type": "code",
        "colab": {}
      },
      "source": [
        "g %>% ggraph(layout = \"fr\") +\n",
        "    geom_edge_link() +\n",
        "    geom_node_point() +\n",
        "  geom_node_text(aes(label = name))"
      ],
      "execution_count": 0,
      "outputs": []
    },
    {
      "cell_type": "markdown",
      "metadata": {
        "id": "wtOcG5Xv60CR",
        "colab_type": "text"
      },
      "source": [
        "\n",
        "Not very exciting. Maybe we can do a bit better, using more options in the `ggraph` functionality to visualize aspects of the network.\n",
        "\n"
      ]
    },
    {
      "cell_type": "code",
      "metadata": {
        "Rmd_chunk_options": "fig.height=15, fig.width=20",
        "autoscroll": false,
        "collapsed": true,
        "id": "iX2q8omF60CR",
        "colab_type": "code",
        "colab": {}
      },
      "source": [
        "g %E>%\n",
        "  filter(weight >= quantile(weight, 0.5)) %N>%\n",
        "  filter(!node_is_isolated()) %>%\n",
        "  ggraph(layout = \"fr\") +\n",
        "    geom_edge_link(aes(width = weight), alpha = 0.2) +\n",
        "    geom_node_point(aes(color = community, size = centrality_eigen)) +\n",
        "    geom_node_text(aes(label = name, size = centrality_eigen), repel = TRUE) +\n",
        "    scale_color_brewer(palette = \"Set1\") +\n",
        "    theme_graph() +\n",
        "    labs(title = \"A Song of Ice and Fire character network\",\n",
        "         subtitle = \"Nodes are colored by community\")"
      ],
      "execution_count": 0,
      "outputs": []
    },
    {
      "cell_type": "markdown",
      "metadata": {
        "id": "zxS_vtsG60CT",
        "colab_type": "text"
      },
      "source": [
        "\n",
        "## Your turn\n",
        "Please do **Exercise 1** in the corresponding section on `Github`.\n",
        "\n",
        "# More info\n",
        "You can find more info about:\n",
        "\n",
        "* tidygraph [here](https://www.data-imaginist.com/2017/introducing-tidygraph/)\n",
        "* ggraph [here](https://www.data-imaginist.com/2017/announcing-ggraph/)\n",
        "* A Datacamp Python project for the same data set [here](https://www.datacamp.com/projects/76?utm_campaign=broadcast&utm_medium=broadcast_8&utm_source=main)\n",
        "\n"
      ]
    },
    {
      "cell_type": "code",
      "metadata": {
        "autoscroll": false,
        "collapsed": true,
        "id": "dyv8Nthk60CT",
        "colab_type": "code",
        "colab": {}
      },
      "source": [
        "sessionInfo()"
      ],
      "execution_count": 0,
      "outputs": []
    },
    {
      "cell_type": "markdown",
      "metadata": {
        "id": "-3g1_Vn660CV",
        "colab_type": "text"
      },
      "source": [
        "\n",
        "\n"
      ]
    }
  ]
}