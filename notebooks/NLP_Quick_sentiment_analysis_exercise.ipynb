{
  "nbformat": 4,
  "nbformat_minor": 0,
  "metadata": {
    "colab": {
      "name": "Quick sentiment analysis exercise",
      "provenance": [],
      "include_colab_link": true
    },
    "kernelspec": {
      "name": "python3",
      "display_name": "Python 3"
    }
  },
  "cells": [
    {
      "cell_type": "markdown",
      "metadata": {
        "id": "view-in-github",
        "colab_type": "text"
      },
      "source": [
        "<a href=\"https://colab.research.google.com/github/SDS-AAU/M2-2019/blob/master/notebooks/NLP_Quick_sentiment_analysis_exercise.ipynb\" target=\"_parent\"><img src=\"https://colab.research.google.com/assets/colab-badge.svg\" alt=\"Open In Colab\"/></a>"
      ]
    },
    {
      "cell_type": "markdown",
      "metadata": {
        "id": "iJJ0MhvoM-Fh",
        "colab_type": "text"
      },
      "source": [
        "#### Most simple sentiment analysis\n",
        "\n",
        "let's try to categorize our trump tweets by simply matching terms\n",
        "\n",
        "![alt text](https://miro.medium.com/max/1400/1*T_wr7iiNs9_OR8V19w0qGw.png)"
      ]
    },
    {
      "cell_type": "code",
      "metadata": {
        "id": "2YJAp55JNtou",
        "colab_type": "code",
        "colab": {}
      },
      "source": [
        "import pandas as pd\n",
        "\n",
        "from nltk.tokenize import TweetTokenizer\n",
        "tknzr = TweetTokenizer()"
      ],
      "execution_count": 0,
      "outputs": []
    },
    {
      "cell_type": "code",
      "metadata": {
        "id": "3GEi2h33NjtU",
        "colab_type": "code",
        "colab": {}
      },
      "source": [
        "trump_tweets_df = pd.read_json('https://github.com/bpb27/trump_tweet_data_archive/raw/master/condensed_2018.json.zip')\n",
        "trump_tweets_df = trump_tweets_df.set_index(pd.to_datetime(trump_tweets_df.created_at))"
      ],
      "execution_count": 0,
      "outputs": []
    },
    {
      "cell_type": "code",
      "metadata": {
        "id": "HNuLPd7QM4GG",
        "colab_type": "code",
        "colab": {
          "base_uri": "https://localhost:8080/",
          "height": 204
        },
        "outputId": "7017db40-c77a-4226-a427-43b934bc0f95"
      },
      "source": [
        "!wget https://gist.githubusercontent.com/mkulakowski2/4289437/raw/1bb4d7f9ee82150f339f09b5b1a0e6823d633958/positive-words.txt"
      ],
      "execution_count": 4,
      "outputs": [
        {
          "output_type": "stream",
          "text": [
            "--2019-10-10 19:48:21--  https://gist.githubusercontent.com/mkulakowski2/4289437/raw/1bb4d7f9ee82150f339f09b5b1a0e6823d633958/positive-words.txt\n",
            "Resolving gist.githubusercontent.com (gist.githubusercontent.com)... 151.101.0.133, 151.101.64.133, 151.101.128.133, ...\n",
            "Connecting to gist.githubusercontent.com (gist.githubusercontent.com)|151.101.0.133|:443... connected.\n",
            "HTTP request sent, awaiting response... 200 OK\n",
            "Length: 20630 (20K) [text/plain]\n",
            "Saving to: ‘positive-words.txt’\n",
            "\n",
            "\rpositive-words.txt    0%[                    ]       0  --.-KB/s               \rpositive-words.txt  100%[===================>]  20.15K  --.-KB/s    in 0.007s  \n",
            "\n",
            "2019-10-10 19:48:21 (2.91 MB/s) - ‘positive-words.txt’ saved [20630/20630]\n",
            "\n"
          ],
          "name": "stdout"
        }
      ]
    },
    {
      "cell_type": "code",
      "metadata": {
        "id": "b9kdORYjNBXY",
        "colab_type": "code",
        "colab": {
          "base_uri": "https://localhost:8080/",
          "height": 204
        },
        "outputId": "d4be43d3-83a6-403a-dfbf-43ecd426eab9"
      },
      "source": [
        "!wget https://gist.githubusercontent.com/mkulakowski2/4289441/raw/dad8b64b307cd6df8068a379079becbb3f91101a/negative-words.txt"
      ],
      "execution_count": 5,
      "outputs": [
        {
          "output_type": "stream",
          "text": [
            "--2019-10-10 19:48:23--  https://gist.githubusercontent.com/mkulakowski2/4289441/raw/dad8b64b307cd6df8068a379079becbb3f91101a/negative-words.txt\n",
            "Resolving gist.githubusercontent.com (gist.githubusercontent.com)... 151.101.0.133, 151.101.64.133, 151.101.128.133, ...\n",
            "Connecting to gist.githubusercontent.com (gist.githubusercontent.com)|151.101.0.133|:443... connected.\n",
            "HTTP request sent, awaiting response... 200 OK\n",
            "Length: 46300 (45K) [text/plain]\n",
            "Saving to: ‘negative-words.txt’\n",
            "\n",
            "\rnegative-words.txt    0%[                    ]       0  --.-KB/s               \rnegative-words.txt  100%[===================>]  45.21K  --.-KB/s    in 0.01s   \n",
            "\n",
            "2019-10-10 19:48:23 (3.21 MB/s) - ‘negative-words.txt’ saved [46300/46300]\n",
            "\n"
          ],
          "name": "stdout"
        }
      ]
    },
    {
      "cell_type": "code",
      "metadata": {
        "id": "kQ62rWDlNT3a",
        "colab_type": "code",
        "colab": {}
      },
      "source": [
        "positive_words = open('positive-words.txt','r').read()[1540:].split('\\n')\n",
        "negative_words = open('negative-words.txt','r').read()[1541:].split('\\n')"
      ],
      "execution_count": 0,
      "outputs": []
    },
    {
      "cell_type": "code",
      "metadata": {
        "id": "S_UVnn-pNWLd",
        "colab_type": "code",
        "colab": {}
      },
      "source": [
        "positive_count = trump_tweets_df['text'].map(lambda textline: len([word for word in tknzr.tokenize(textline) if word in positive_words]))\n",
        "negative_count = trump_tweets_df['text'].map(lambda textline: len(['negative' for tag in tknzr.tokenize(textline) if tag in negative_words]))"
      ],
      "execution_count": 0,
      "outputs": []
    },
    {
      "cell_type": "code",
      "metadata": {
        "id": "JI6VqDQ-NX0p",
        "colab_type": "code",
        "colab": {
          "base_uri": "https://localhost:8080/",
          "height": 71
        },
        "outputId": "b629141b-450e-4c60-fc77-1c62958bbc06"
      },
      "source": [
        "trump_tweets_df.is_positive = positive_count > negative_count"
      ],
      "execution_count": 8,
      "outputs": [
        {
          "output_type": "stream",
          "text": [
            "/usr/local/lib/python3.6/dist-packages/ipykernel_launcher.py:1: UserWarning: Pandas doesn't allow columns to be created via a new attribute name - see https://pandas.pydata.org/pandas-docs/stable/indexing.html#attribute-access\n",
            "  \"\"\"Entry point for launching an IPython kernel.\n"
          ],
          "name": "stderr"
        }
      ]
    },
    {
      "cell_type": "code",
      "metadata": {
        "id": "VWV1d1wmNaFc",
        "colab_type": "code",
        "colab": {
          "base_uri": "https://localhost:8080/",
          "height": 221
        },
        "outputId": "2092027d-d399-445c-a351-53dee941dbf3"
      },
      "source": [
        "trump_tweets_df[trump_tweets_df.is_positive == True]['text'][:10]"
      ],
      "execution_count": 9,
      "outputs": [
        {
          "output_type": "execute_result",
          "data": {
            "text/plain": [
              "created_at\n",
              "2018-12-31 20:02:52    Heads of countries are calling wanting to know...\n",
              "2018-12-31 13:29:32    I campaigned on Border Security, which you can...\n",
              "2018-12-31 12:51:22    An all concrete Wall was NEVER ABANDONED, as h...\n",
              "2018-12-30 15:28:35    Veterans on President Trump’s handling of Bord...\n",
              "2018-12-29 21:06:08    2018 is being called “THE YEAR OF THE WORKER” ...\n",
              "2018-12-29 16:03:02    Just had a long and very good call with Presid...\n",
              "2018-12-29 15:42:50    The Mueller Angry Democrats recently deleted a...\n",
              "2018-12-28 14:51:07    Thank you to Sean Parnell for the nice comment...\n",
              "2018-12-28 13:06:13    .....Honduras, Guatemala and El Salvador are d...\n",
              "2018-12-27 22:10:07    This isn’t about the Wall, everybody knows tha...\n",
              "Name: text, dtype: object"
            ]
          },
          "metadata": {
            "tags": []
          },
          "execution_count": 9
        }
      ]
    },
    {
      "cell_type": "code",
      "metadata": {
        "id": "dLUILo_-Ncau",
        "colab_type": "code",
        "colab": {
          "base_uri": "https://localhost:8080/",
          "height": 312
        },
        "outputId": "c31c15f0-608e-4f87-e2db-020debcedf3a"
      },
      "source": [
        "trump_tweets_df.is_positive.resample('M').mean().plot()"
      ],
      "execution_count": 13,
      "outputs": [
        {
          "output_type": "execute_result",
          "data": {
            "text/plain": [
              "<matplotlib.axes._subplots.AxesSubplot at 0x7fc9bbc19400>"
            ]
          },
          "metadata": {
            "tags": []
          },
          "execution_count": 13
        },
        {
          "output_type": "display_data",
          "data": {
            "image/png": "[encoded data removed]",
            "text/plain": [
              "<Figure size 432x288 with 1 Axes>"
            ]
          },
          "metadata": {
            "tags": []
          }
        }
      ]
    },
    {
      "cell_type": "code",
      "metadata": {
        "id": "zi_VbNTLM4WA",
        "colab_type": "code",
        "colab": {
          "base_uri": "https://localhost:8080/",
          "height": 346
        },
        "outputId": "665f32d8-8a41-456e-f96f-c5b3dfc84047"
      },
      "source": [
        "\n",
        "import nltk\n",
        "nltk.download('vader_lexicon')\n",
        "\n",
        "from nltk.sentiment.vader import SentimentIntensityAnalyzer\n",
        "sid = SentimentIntensityAnalyzer()\n",
        "\n",
        "trump_tweets_df['sid_score'] = trump_tweets_df['text'].map(lambda text: sid.polarity_scores(text)['compound'])\n",
        "\n",
        "trump_tweets_df.sid_score.resample('M').mean().plot()"
      ],
      "execution_count": 14,
      "outputs": [
        {
          "output_type": "stream",
          "text": [
            "[nltk_data] Downloading package vader_lexicon to /root/nltk_data...\n",
            "[nltk_data]   Package vader_lexicon is already up-to-date!\n"
          ],
          "name": "stdout"
        },
        {
          "output_type": "execute_result",
          "data": {
            "text/plain": [
              "<matplotlib.axes._subplots.AxesSubplot at 0x7fc9b8a9eb00>"
            ]
          },
          "metadata": {
            "tags": []
          },
          "execution_count": 14
        },
        {
          "output_type": "display_data",
          "data": {
            "image/png": "[encoded data removed]",
            "text/plain": [
              "<Figure size 432x288 with 1 Axes>"
            ]
          },
          "metadata": {
            "tags": []
          }
        }
      ]
    },
    {
      "cell_type": "code",
      "metadata": {
        "id": "litt9fj6N18A",
        "colab_type": "code",
        "colab": {}
      },
      "source": [
        ""
      ],
      "execution_count": 0,
      "outputs": []
    }
  ]
}